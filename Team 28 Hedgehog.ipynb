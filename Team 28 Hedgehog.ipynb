{
 "cells": [
  {
   "cell_type": "markdown",
   "id": "545de21d",
   "metadata": {},
   "source": [
    "### Erdos Data science boot camp\n",
    "\n",
    "Project: text classification\n",
    "\n",
    "Author: Federico Holm\n",
    "\n",
    "Description: this project aims to become a tool for organizations and researchers looking to sinthesize highly-technical information from public federal documents (public comments to federal climate change regulations) via suppervised classification in which the target is a feature present in the text. Feature in this context means a relevant policy-oriented argument the sender of the comment includes in the text. For example, one relevant feature is the legal authority of the federal agency to develop such regulation. A supervised classifier can be trained and tested in a hand-labeled subset of all available comments (ranging from 2 to 100s of pages) to later be extended to unlabeled texts, thus scaling up human effort enormously. In many cases, NGOs or think tanks might need to generate a diagnosis of what the landscape of public comments to a public agency looks like and might not have the human power to read hundreds or thousands of lengthy documents. \n",
    "\n",
    "The motivation for this project stems with recent conversations with organizations working on legal issues regarding environmental policy and justice. \n",
    "\n",
    "This tool can help fill this void and help organizations:\n",
    "\n",
    "a - characterize the entire corpus of documents and gauge the main arguments organizations are using to oppose or support regulations,\n",
    "\n",
    "b - develop strategies based on new information,\n",
    "\n",
    "c - identify who is working on which topic and establish relationships, since every comment is associated with a specific organization."
   ]
  },
  {
   "cell_type": "code",
   "execution_count": 1,
   "id": "6eb2fa39",
   "metadata": {},
   "outputs": [],
   "source": [
    "from nltk.corpus import PlaintextCorpusReader\n",
    "# this code will be helpful for reading in all the text files\n",
    "import glob\n",
    "from nltk import tokenize\n"
   ]
  },
  {
   "cell_type": "markdown",
   "id": "b439ef6b",
   "metadata": {},
   "source": [
    "This link provides access to the folder with the data\n",
    "\n",
    "https://www.dropbox.com/sh/0jfcdpa6osw8laq/AACu3zyD3cKrfdhXQtlZZudXa?dl=0\n",
    "\n",
    "The location of the folder has to be updated in the following line to read the files."
   ]
  },
  {
   "cell_type": "code",
   "execution_count": 2,
   "id": "76e81ccc",
   "metadata": {},
   "outputs": [
    {
     "data": {
      "text/plain": [
       "['C:/Users/holmf/Dropbox/Boot Camp_data project - Copy/Clean Power Plan_txt_files\\\\60 Plus Association.txt',\n",
       " 'C:/Users/holmf/Dropbox/Boot Camp_data project - Copy/Clean Power Plan_txt_files\\\\Adirondack Mountain Club.txt',\n",
       " 'C:/Users/holmf/Dropbox/Boot Camp_data project - Copy/Clean Power Plan_txt_files\\\\Advanced Energy Economy.txt',\n",
       " 'C:/Users/holmf/Dropbox/Boot Camp_data project - Copy/Clean Power Plan_txt_files\\\\Advanced Energy Management Alliance.txt',\n",
       " 'C:/Users/holmf/Dropbox/Boot Camp_data project - Copy/Clean Power Plan_txt_files\\\\Air Permitting Forum.txt',\n",
       " 'C:/Users/holmf/Dropbox/Boot Camp_data project - Copy/Clean Power Plan_txt_files\\\\Alaska Power Association.txt',\n",
       " 'C:/Users/holmf/Dropbox/Boot Camp_data project - Copy/Clean Power Plan_txt_files\\\\ALLETE.txt',\n",
       " 'C:/Users/holmf/Dropbox/Boot Camp_data project - Copy/Clean Power Plan_txt_files\\\\Alliance for Fuel Options, Reliability and Diversity.txt',\n",
       " 'C:/Users/holmf/Dropbox/Boot Camp_data project - Copy/Clean Power Plan_txt_files\\\\Alliance of Nurses for Healthy Environments.txt',\n",
       " 'C:/Users/holmf/Dropbox/Boot Camp_data project - Copy/Clean Power Plan_txt_files\\\\Ameren Corporation.txt',\n",
       " 'C:/Users/holmf/Dropbox/Boot Camp_data project - Copy/Clean Power Plan_txt_files\\\\American Academy of Pediatrics.txt',\n",
       " 'C:/Users/holmf/Dropbox/Boot Camp_data project - Copy/Clean Power Plan_txt_files\\\\American Chemical Society.txt',\n",
       " 'C:/Users/holmf/Dropbox/Boot Camp_data project - Copy/Clean Power Plan_txt_files\\\\American Chemistry Council.txt',\n",
       " 'C:/Users/holmf/Dropbox/Boot Camp_data project - Copy/Clean Power Plan_txt_files\\\\American Coal Ash Association.txt',\n",
       " 'C:/Users/holmf/Dropbox/Boot Camp_data project - Copy/Clean Power Plan_txt_files\\\\American Coal Council.txt',\n",
       " 'C:/Users/holmf/Dropbox/Boot Camp_data project - Copy/Clean Power Plan_txt_files\\\\American Coalition for Clean Coal Electricity.txt',\n",
       " 'C:/Users/holmf/Dropbox/Boot Camp_data project - Copy/Clean Power Plan_txt_files\\\\American Council for an Energy-Efficient Economy.txt',\n",
       " 'C:/Users/holmf/Dropbox/Boot Camp_data project - Copy/Clean Power Plan_txt_files\\\\American Electric Power (AEP).txt',\n",
       " 'C:/Users/holmf/Dropbox/Boot Camp_data project - Copy/Clean Power Plan_txt_files\\\\American Farm Bureau Federation.txt',\n",
       " 'C:/Users/holmf/Dropbox/Boot Camp_data project - Copy/Clean Power Plan_txt_files\\\\American Forest & Paper Association.txt',\n",
       " 'C:/Users/holmf/Dropbox/Boot Camp_data project - Copy/Clean Power Plan_txt_files\\\\American Foundry Society (AFS).txt',\n",
       " 'C:/Users/holmf/Dropbox/Boot Camp_data project - Copy/Clean Power Plan_txt_files\\\\American Fuel & Petrochemical Manufacturers.txt',\n",
       " 'C:/Users/holmf/Dropbox/Boot Camp_data project - Copy/Clean Power Plan_txt_files\\\\American Institute of Architects (AIA).txt',\n",
       " 'C:/Users/holmf/Dropbox/Boot Camp_data project - Copy/Clean Power Plan_txt_files\\\\American Iron and Steel Institute (AISI).txt',\n",
       " 'C:/Users/holmf/Dropbox/Boot Camp_data project - Copy/Clean Power Plan_txt_files\\\\American Lung Association.txt',\n",
       " 'C:/Users/holmf/Dropbox/Boot Camp_data project - Copy/Clean Power Plan_txt_files\\\\American Petroleum Institute.txt',\n",
       " 'C:/Users/holmf/Dropbox/Boot Camp_data project - Copy/Clean Power Plan_txt_files\\\\American Public Health Association.txt',\n",
       " 'C:/Users/holmf/Dropbox/Boot Camp_data project - Copy/Clean Power Plan_txt_files\\\\American Public Power Association.txt',\n",
       " 'C:/Users/holmf/Dropbox/Boot Camp_data project - Copy/Clean Power Plan_txt_files\\\\American Wind Energy Association.txt',\n",
       " 'C:/Users/holmf/Dropbox/Boot Camp_data project - Copy/Clean Power Plan_txt_files\\\\American Wood Council.txt',\n",
       " 'C:/Users/holmf/Dropbox/Boot Camp_data project - Copy/Clean Power Plan_txt_files\\\\Americans for Tax Reform.txt',\n",
       " 'C:/Users/holmf/Dropbox/Boot Camp_data project - Copy/Clean Power Plan_txt_files\\\\Arizona Corporation Commission.txt',\n",
       " 'C:/Users/holmf/Dropbox/Boot Camp_data project - Copy/Clean Power Plan_txt_files\\\\Arizona Public Service Company.txt',\n",
       " 'C:/Users/holmf/Dropbox/Boot Camp_data project - Copy/Clean Power Plan_txt_files\\\\Arizona Utilities Group.txt',\n",
       " 'C:/Users/holmf/Dropbox/Boot Camp_data project - Copy/Clean Power Plan_txt_files\\\\Aspen Skiing Company.txt',\n",
       " 'C:/Users/holmf/Dropbox/Boot Camp_data project - Copy/Clean Power Plan_txt_files\\\\austin energy, dba city of Austin.txt',\n",
       " 'C:/Users/holmf/Dropbox/Boot Camp_data project - Copy/Clean Power Plan_txt_files\\\\Basin Electric Power Cooperative.txt',\n",
       " 'C:/Users/holmf/Dropbox/Boot Camp_data project - Copy/Clean Power Plan_txt_files\\\\Berkshire Hathaway Energy.txt',\n",
       " 'C:/Users/holmf/Dropbox/Boot Camp_data project - Copy/Clean Power Plan_txt_files\\\\Black Hills Corporation.txt',\n",
       " 'C:/Users/holmf/Dropbox/Boot Camp_data project - Copy/Clean Power Plan_txt_files\\\\Boulder County, CO.txt',\n",
       " 'C:/Users/holmf/Dropbox/Boot Camp_data project - Copy/Clean Power Plan_txt_files\\\\Broward County, FL.txt',\n",
       " 'C:/Users/holmf/Dropbox/Boot Camp_data project - Copy/Clean Power Plan_txt_files\\\\Buckeye Power, Inc..txt',\n",
       " 'C:/Users/holmf/Dropbox/Boot Camp_data project - Copy/Clean Power Plan_txt_files\\\\Business Council for Sustainable Energy.txt',\n",
       " 'C:/Users/holmf/Dropbox/Boot Camp_data project - Copy/Clean Power Plan_txt_files\\\\Caesar Rodney Institute.txt',\n",
       " 'C:/Users/holmf/Dropbox/Boot Camp_data project - Copy/Clean Power Plan_txt_files\\\\Calpine Corporation.txt',\n",
       " 'C:/Users/holmf/Dropbox/Boot Camp_data project - Copy/Clean Power Plan_txt_files\\\\Capital Power Corporation.txt',\n",
       " 'C:/Users/holmf/Dropbox/Boot Camp_data project - Copy/Clean Power Plan_txt_files\\\\Center for Biological Diversity.txt',\n",
       " 'C:/Users/holmf/Dropbox/Boot Camp_data project - Copy/Clean Power Plan_txt_files\\\\Center of the American Experiment.txt',\n",
       " 'C:/Users/holmf/Dropbox/Boot Camp_data project - Copy/Clean Power Plan_txt_files\\\\CFACT.txt',\n",
       " 'C:/Users/holmf/Dropbox/Boot Camp_data project - Copy/Clean Power Plan_txt_files\\\\Children’s Environmental Health Network (CEHN).txt',\n",
       " 'C:/Users/holmf/Dropbox/Boot Camp_data project - Copy/Clean Power Plan_txt_files\\\\Citizens Campaign for the Environment (CCE).txt',\n",
       " 'C:/Users/holmf/Dropbox/Boot Camp_data project - Copy/Clean Power Plan_txt_files\\\\Citizens Climate Lobby, Contra Costa Chapter.txt',\n",
       " \"C:/Users/holmf/Dropbox/Boot Camp_data project - Copy/Clean Power Plan_txt_files\\\\Citizens for Pennsylvania's Future (PennFuture).txt\",\n",
       " 'C:/Users/holmf/Dropbox/Boot Camp_data project - Copy/Clean Power Plan_txt_files\\\\City of Boston, MA.txt',\n",
       " 'C:/Users/holmf/Dropbox/Boot Camp_data project - Copy/Clean Power Plan_txt_files\\\\City of Boulder, CO.txt',\n",
       " 'C:/Users/holmf/Dropbox/Boot Camp_data project - Copy/Clean Power Plan_txt_files\\\\City of Chicago, IL.txt',\n",
       " 'C:/Users/holmf/Dropbox/Boot Camp_data project - Copy/Clean Power Plan_txt_files\\\\City of Kansas City, MO.txt',\n",
       " 'C:/Users/holmf/Dropbox/Boot Camp_data project - Copy/Clean Power Plan_txt_files\\\\City of New York, NY.txt',\n",
       " 'C:/Users/holmf/Dropbox/Boot Camp_data project - Copy/Clean Power Plan_txt_files\\\\City of Philadelphia, PA.txt',\n",
       " 'C:/Users/holmf/Dropbox/Boot Camp_data project - Copy/Clean Power Plan_txt_files\\\\City of Portland, OR.txt',\n",
       " 'C:/Users/holmf/Dropbox/Boot Camp_data project - Copy/Clean Power Plan_txt_files\\\\City of Seattle, WA.txt',\n",
       " 'C:/Users/holmf/Dropbox/Boot Camp_data project - Copy/Clean Power Plan_txt_files\\\\City of Springfield, IL.txt',\n",
       " 'C:/Users/holmf/Dropbox/Boot Camp_data project - Copy/Clean Power Plan_txt_files\\\\Clean Air Council.txt',\n",
       " 'C:/Users/holmf/Dropbox/Boot Camp_data project - Copy/Clean Power Plan_txt_files\\\\Clean Air Task Force.txt',\n",
       " 'C:/Users/holmf/Dropbox/Boot Camp_data project - Copy/Clean Power Plan_txt_files\\\\Clean Energy Group.txt',\n",
       " 'C:/Users/holmf/Dropbox/Boot Camp_data project - Copy/Clean Power Plan_txt_files\\\\Clean Wisconsin.txt',\n",
       " 'C:/Users/holmf/Dropbox/Boot Camp_data project - Copy/Clean Power Plan_txt_files\\\\Climate Justice Alliance.txt',\n",
       " 'C:/Users/holmf/Dropbox/Boot Camp_data project - Copy/Clean Power Plan_txt_files\\\\Colorado Association of Commerce & Industry.txt',\n",
       " 'C:/Users/holmf/Dropbox/Boot Camp_data project - Copy/Clean Power Plan_txt_files\\\\Colorado Mining Association.txt',\n",
       " 'C:/Users/holmf/Dropbox/Boot Camp_data project - Copy/Clean Power Plan_txt_files\\\\Competitive Enterprise Institute.txt',\n",
       " 'C:/Users/holmf/Dropbox/Boot Camp_data project - Copy/Clean Power Plan_txt_files\\\\Conservation Law Foundation.txt',\n",
       " 'C:/Users/holmf/Dropbox/Boot Camp_data project - Copy/Clean Power Plan_txt_files\\\\Consolidated Edison Company of New York.txt',\n",
       " 'C:/Users/holmf/Dropbox/Boot Camp_data project - Copy/Clean Power Plan_txt_files\\\\Consumers Energy Company.txt',\n",
       " 'C:/Users/holmf/Dropbox/Boot Camp_data project - Copy/Clean Power Plan_txt_files\\\\Covanta Energy, LLC.txt',\n",
       " 'C:/Users/holmf/Dropbox/Boot Camp_data project - Copy/Clean Power Plan_txt_files\\\\Defenders of Wildlife.txt',\n",
       " 'C:/Users/holmf/Dropbox/Boot Camp_data project - Copy/Clean Power Plan_txt_files\\\\desktop.ini',\n",
       " 'C:/Users/holmf/Dropbox/Boot Camp_data project - Copy/Clean Power Plan_txt_files\\\\District of Columbia.txt',\n",
       " 'C:/Users/holmf/Dropbox/Boot Camp_data project - Copy/Clean Power Plan_txt_files\\\\Dominion Resources Services, Inc..txt',\n",
       " 'C:/Users/holmf/Dropbox/Boot Camp_data project - Copy/Clean Power Plan_txt_files\\\\DTE Energy Comment.txt',\n",
       " 'C:/Users/holmf/Dropbox/Boot Camp_data project - Copy/Clean Power Plan_txt_files\\\\Duke Energy.txt',\n",
       " 'C:/Users/holmf/Dropbox/Boot Camp_data project - Copy/Clean Power Plan_txt_files\\\\E&E Legal.txt',\n",
       " 'C:/Users/holmf/Dropbox/Boot Camp_data project - Copy/Clean Power Plan_txt_files\\\\Earthjustice.txt',\n",
       " 'C:/Users/holmf/Dropbox/Boot Camp_data project - Copy/Clean Power Plan_txt_files\\\\East Kentucky Power Cooperative.txt',\n",
       " 'C:/Users/holmf/Dropbox/Boot Camp_data project - Copy/Clean Power Plan_txt_files\\\\East River Electric Power Cooperative Inc..txt',\n",
       " 'C:/Users/holmf/Dropbox/Boot Camp_data project - Copy/Clean Power Plan_txt_files\\\\Edison Electric Institute.txt',\n",
       " 'C:/Users/holmf/Dropbox/Boot Camp_data project - Copy/Clean Power Plan_txt_files\\\\Electric Reliability Coordinating Council.txt',\n",
       " 'C:/Users/holmf/Dropbox/Boot Camp_data project - Copy/Clean Power Plan_txt_files\\\\Electricity Consumers Resource Council.txt',\n",
       " 'C:/Users/holmf/Dropbox/Boot Camp_data project - Copy/Clean Power Plan_txt_files\\\\Energy Recovery Council (ERC).txt',\n",
       " 'C:/Users/holmf/Dropbox/Boot Camp_data project - Copy/Clean Power Plan_txt_files\\\\Entergy Corporation.txt',\n",
       " 'C:/Users/holmf/Dropbox/Boot Camp_data project - Copy/Clean Power Plan_txt_files\\\\Environment America Comment.txt',\n",
       " 'C:/Users/holmf/Dropbox/Boot Camp_data project - Copy/Clean Power Plan_txt_files\\\\Environmental Defense Fund.txt',\n",
       " 'C:/Users/holmf/Dropbox/Boot Camp_data project - Copy/Clean Power Plan_txt_files\\\\Exelon Corporation.txt',\n",
       " 'C:/Users/holmf/Dropbox/Boot Camp_data project - Copy/Clean Power Plan_txt_files\\\\GASP.txt',\n",
       " 'C:/Users/holmf/Dropbox/Boot Camp_data project - Copy/Clean Power Plan_txt_files\\\\General Electric Company (GE).txt',\n",
       " 'C:/Users/holmf/Dropbox/Boot Camp_data project - Copy/Clean Power Plan_txt_files\\\\Georgia Chamber of Commerce.txt',\n",
       " 'C:/Users/holmf/Dropbox/Boot Camp_data project - Copy/Clean Power Plan_txt_files\\\\Golden Spread Electric Cooperative, Inc..txt',\n",
       " 'C:/Users/holmf/Dropbox/Boot Camp_data project - Copy/Clean Power Plan_txt_files\\\\Great River Energy Comment.txt',\n",
       " 'C:/Users/holmf/Dropbox/Boot Camp_data project - Copy/Clean Power Plan_txt_files\\\\Heartland Institute.txt',\n",
       " 'C:/Users/holmf/Dropbox/Boot Camp_data project - Copy/Clean Power Plan_txt_files\\\\Illinois Coal Association (ICA).txt',\n",
       " 'C:/Users/holmf/Dropbox/Boot Camp_data project - Copy/Clean Power Plan_txt_files\\\\Illinois Environmental Council et al..txt',\n",
       " 'C:/Users/holmf/Dropbox/Boot Camp_data project - Copy/Clean Power Plan_txt_files\\\\Illinois Municipal Electric Agency.txt',\n",
       " 'C:/Users/holmf/Dropbox/Boot Camp_data project - Copy/Clean Power Plan_txt_files\\\\Indiana Coal Council.txt',\n",
       " 'C:/Users/holmf/Dropbox/Boot Camp_data project - Copy/Clean Power Plan_txt_files\\\\Indiana Energy Association.txt',\n",
       " 'C:/Users/holmf/Dropbox/Boot Camp_data project - Copy/Clean Power Plan_txt_files\\\\Indiana Municipal Power Agency (IMPA).txt',\n",
       " 'C:/Users/holmf/Dropbox/Boot Camp_data project - Copy/Clean Power Plan_txt_files\\\\Indiana Utility Group (IUG).txt',\n",
       " 'C:/Users/holmf/Dropbox/Boot Camp_data project - Copy/Clean Power Plan_txt_files\\\\Industrial Energy Consumers of America (IECA).txt',\n",
       " 'C:/Users/holmf/Dropbox/Boot Camp_data project - Copy/Clean Power Plan_txt_files\\\\Institute for Energy Research.txt',\n",
       " 'C:/Users/holmf/Dropbox/Boot Camp_data project - Copy/Clean Power Plan_txt_files\\\\Institute of Clean Air Companies (ICAC).txt',\n",
       " 'C:/Users/holmf/Dropbox/Boot Camp_data project - Copy/Clean Power Plan_txt_files\\\\Intermountain Power Agency.txt',\n",
       " 'C:/Users/holmf/Dropbox/Boot Camp_data project - Copy/Clean Power Plan_txt_files\\\\International Association of Bridge, Structural, Onamental and Reinforcing Iron Workers.txt',\n",
       " 'C:/Users/holmf/Dropbox/Boot Camp_data project - Copy/Clean Power Plan_txt_files\\\\International Brotherhood of Boilermakers, Iron Ship Builders.txt',\n",
       " 'C:/Users/holmf/Dropbox/Boot Camp_data project - Copy/Clean Power Plan_txt_files\\\\International Brotherhood of Electrical Workers.txt',\n",
       " 'C:/Users/holmf/Dropbox/Boot Camp_data project - Copy/Clean Power Plan_txt_files\\\\Iowa Environmental Council.txt',\n",
       " 'C:/Users/holmf/Dropbox/Boot Camp_data project - Copy/Clean Power Plan_txt_files\\\\Kansas City Board of Public Utilitiy.txt',\n",
       " 'C:/Users/holmf/Dropbox/Boot Camp_data project - Copy/Clean Power Plan_txt_files\\\\Kentucky Chamber of Commerce.txt',\n",
       " 'C:/Users/holmf/Dropbox/Boot Camp_data project - Copy/Clean Power Plan_txt_files\\\\Kentucky Coal Association (KCA).txt',\n",
       " 'C:/Users/holmf/Dropbox/Boot Camp_data project - Copy/Clean Power Plan_txt_files\\\\Large Public Power Council (LPPC).txt',\n",
       " 'C:/Users/holmf/Dropbox/Boot Camp_data project - Copy/Clean Power Plan_txt_files\\\\League of Women Voters of Delaware.txt',\n",
       " 'C:/Users/holmf/Dropbox/Boot Camp_data project - Copy/Clean Power Plan_txt_files\\\\League of Women Voters of Maine.txt',\n",
       " 'C:/Users/holmf/Dropbox/Boot Camp_data project - Copy/Clean Power Plan_txt_files\\\\League of Women Voters.txt',\n",
       " 'C:/Users/holmf/Dropbox/Boot Camp_data project - Copy/Clean Power Plan_txt_files\\\\LG&E and KU Energy LLC Comment.txt',\n",
       " 'C:/Users/holmf/Dropbox/Boot Camp_data project - Copy/Clean Power Plan_txt_files\\\\Lignite Energy Council (LEC).txt',\n",
       " 'C:/Users/holmf/Dropbox/Boot Camp_data project - Copy/Clean Power Plan_txt_files\\\\Lincoln Electric System (LES).txt',\n",
       " 'C:/Users/holmf/Dropbox/Boot Camp_data project - Copy/Clean Power Plan_txt_files\\\\Little Village Environmental Justice Organization.txt',\n",
       " 'C:/Users/holmf/Dropbox/Boot Camp_data project - Copy/Clean Power Plan_txt_files\\\\Los Angeles Department of Water & Power.txt',\n",
       " 'C:/Users/holmf/Dropbox/Boot Camp_data project - Copy/Clean Power Plan_txt_files\\\\Lower Colorado River Authority (LCRA).txt',\n",
       " 'C:/Users/holmf/Dropbox/Boot Camp_data project - Copy/Clean Power Plan_txt_files\\\\Manitowoc Public Utilities (MPU).txt',\n",
       " 'C:/Users/holmf/Dropbox/Boot Camp_data project - Copy/Clean Power Plan_txt_files\\\\Maricopa County, AZ.txt',\n",
       " 'C:/Users/holmf/Dropbox/Boot Camp_data project - Copy/Clean Power Plan_txt_files\\\\Michigan Environmental Council.txt',\n",
       " 'C:/Users/holmf/Dropbox/Boot Camp_data project - Copy/Clean Power Plan_txt_files\\\\Minnesota Chamber of Commerce (MCC).txt',\n",
       " 'C:/Users/holmf/Dropbox/Boot Camp_data project - Copy/Clean Power Plan_txt_files\\\\Minnkota Power Cooperative, Inc..txt',\n",
       " 'C:/Users/holmf/Dropbox/Boot Camp_data project - Copy/Clean Power Plan_txt_files\\\\Mississippi Public Service Commission.txt',\n",
       " 'C:/Users/holmf/Dropbox/Boot Camp_data project - Copy/Clean Power Plan_txt_files\\\\Moms Clean Air Force.txt',\n",
       " 'C:/Users/holmf/Dropbox/Boot Camp_data project - Copy/Clean Power Plan_txt_files\\\\Montana Environmental Information Center (MEIC).txt',\n",
       " 'C:/Users/holmf/Dropbox/Boot Camp_data project - Copy/Clean Power Plan_txt_files\\\\Montana-Dakota Utilities Co..txt',\n",
       " 'C:/Users/holmf/Dropbox/Boot Camp_data project - Copy/Clean Power Plan_txt_files\\\\Municipal Electric Authority of Georgia.txt',\n",
       " 'C:/Users/holmf/Dropbox/Boot Camp_data project - Copy/Clean Power Plan_txt_files\\\\Murray Energy Corporation.txt',\n",
       " 'C:/Users/holmf/Dropbox/Boot Camp_data project - Copy/Clean Power Plan_txt_files\\\\National Alliance of Forest Owners.txt',\n",
       " 'C:/Users/holmf/Dropbox/Boot Camp_data project - Copy/Clean Power Plan_txt_files\\\\National Association of Home Builders.txt',\n",
       " 'C:/Users/holmf/Dropbox/Boot Camp_data project - Copy/Clean Power Plan_txt_files\\\\National Association of Manufacturers.txt',\n",
       " 'C:/Users/holmf/Dropbox/Boot Camp_data project - Copy/Clean Power Plan_txt_files\\\\National Climate Coalition.txt',\n",
       " 'C:/Users/holmf/Dropbox/Boot Camp_data project - Copy/Clean Power Plan_txt_files\\\\National Federation of Independent Business (NFIB).txt',\n",
       " 'C:/Users/holmf/Dropbox/Boot Camp_data project - Copy/Clean Power Plan_txt_files\\\\National Grid.txt',\n",
       " 'C:/Users/holmf/Dropbox/Boot Camp_data project - Copy/Clean Power Plan_txt_files\\\\National Housing Trust.txt',\n",
       " 'C:/Users/holmf/Dropbox/Boot Camp_data project - Copy/Clean Power Plan_txt_files\\\\National Lime Association.txt',\n",
       " 'C:/Users/holmf/Dropbox/Boot Camp_data project - Copy/Clean Power Plan_txt_files\\\\National Mining Association (NMA).txt',\n",
       " 'C:/Users/holmf/Dropbox/Boot Camp_data project - Copy/Clean Power Plan_txt_files\\\\National Oilseed Processors Association.txt',\n",
       " 'C:/Users/holmf/Dropbox/Boot Camp_data project - Copy/Clean Power Plan_txt_files\\\\National Rural ElectricCooperative Association (NRECA).txt',\n",
       " 'C:/Users/holmf/Dropbox/Boot Camp_data project - Copy/Clean Power Plan_txt_files\\\\National Wildlife Federation.txt',\n",
       " 'C:/Users/holmf/Dropbox/Boot Camp_data project - Copy/Clean Power Plan_txt_files\\\\Natural Resources Defense Council (NRDC).txt',\n",
       " 'C:/Users/holmf/Dropbox/Boot Camp_data project - Copy/Clean Power Plan_txt_files\\\\Navajo Nation.txt',\n",
       " 'C:/Users/holmf/Dropbox/Boot Camp_data project - Copy/Clean Power Plan_txt_files\\\\Nebraska Public Power District (NPPD).txt',\n",
       " 'C:/Users/holmf/Dropbox/Boot Camp_data project - Copy/Clean Power Plan_txt_files\\\\New Hope Power Company (NHPC).txt',\n",
       " 'C:/Users/holmf/Dropbox/Boot Camp_data project - Copy/Clean Power Plan_txt_files\\\\New Jersey Environmental Justice Alliance (NJEJA).txt',\n",
       " 'C:/Users/holmf/Dropbox/Boot Camp_data project - Copy/Clean Power Plan_txt_files\\\\New York Independent System Operator (NYISO).txt',\n",
       " 'C:/Users/holmf/Dropbox/Boot Camp_data project - Copy/Clean Power Plan_txt_files\\\\New York Power Authority.txt',\n",
       " 'C:/Users/holmf/Dropbox/Boot Camp_data project - Copy/Clean Power Plan_txt_files\\\\North American Die Casting Association (NADCA).txt',\n",
       " 'C:/Users/holmf/Dropbox/Boot Camp_data project - Copy/Clean Power Plan_txt_files\\\\NorthWestern Energy.txt',\n",
       " 'C:/Users/holmf/Dropbox/Boot Camp_data project - Copy/Clean Power Plan_txt_files\\\\Nuclear Energy Information Service (NEIS).txt',\n",
       " 'C:/Users/holmf/Dropbox/Boot Camp_data project - Copy/Clean Power Plan_txt_files\\\\Oglethorpe Power Corporation.txt',\n",
       " 'C:/Users/holmf/Dropbox/Boot Camp_data project - Copy/Clean Power Plan_txt_files\\\\Ohio Chamber of Commerce.txt',\n",
       " 'C:/Users/holmf/Dropbox/Boot Camp_data project - Copy/Clean Power Plan_txt_files\\\\Ohio Environmental Council.txt',\n",
       " 'C:/Users/holmf/Dropbox/Boot Camp_data project - Copy/Clean Power Plan_txt_files\\\\Ohio Valley Electric Corporation.txt',\n",
       " 'C:/Users/holmf/Dropbox/Boot Camp_data project - Copy/Clean Power Plan_txt_files\\\\Olympus Power, LLC.txt',\n",
       " 'C:/Users/holmf/Dropbox/Boot Camp_data project - Copy/Clean Power Plan_txt_files\\\\Omaha Public Power District (OPPD).txt',\n",
       " 'C:/Users/holmf/Dropbox/Boot Camp_data project - Copy/Clean Power Plan_txt_files\\\\Otter Tail Power Company.txt',\n",
       " 'C:/Users/holmf/Dropbox/Boot Camp_data project - Copy/Clean Power Plan_txt_files\\\\Peabody Energy Corporation.txt',\n",
       " 'C:/Users/holmf/Dropbox/Boot Camp_data project - Copy/Clean Power Plan_txt_files\\\\Pennsylvania Chamber of Business and Industry.txt',\n",
       " 'C:/Users/holmf/Dropbox/Boot Camp_data project - Copy/Clean Power Plan_txt_files\\\\Pennsylvania Coal Alliance (PCA).txt',\n",
       " 'C:/Users/holmf/Dropbox/Boot Camp_data project - Copy/Clean Power Plan_txt_files\\\\PG&E.txt',\n",
       " 'C:/Users/holmf/Dropbox/Boot Camp_data project - Copy/Clean Power Plan_txt_files\\\\Physicians for Social Responsibility (PSR) et al..txt',\n",
       " 'C:/Users/holmf/Dropbox/Boot Camp_data project - Copy/Clean Power Plan_txt_files\\\\Policy Navigation Group.txt',\n",
       " 'C:/Users/holmf/Dropbox/Boot Camp_data project - Copy/Clean Power Plan_txt_files\\\\Portland Cement Association.txt',\n",
       " 'C:/Users/holmf/Dropbox/Boot Camp_data project - Copy/Clean Power Plan_txt_files\\\\Powder River Basin Resource Council (PRBRC).txt',\n",
       " 'C:/Users/holmf/Dropbox/Boot Camp_data project - Copy/Clean Power Plan_txt_files\\\\Powder River Energy Corporation.txt',\n",
       " 'C:/Users/holmf/Dropbox/Boot Camp_data project - Copy/Clean Power Plan_txt_files\\\\PowerSouth Energy Cooperative.txt',\n",
       " 'C:/Users/holmf/Dropbox/Boot Camp_data project - Copy/Clean Power Plan_txt_files\\\\Prarie State Generating Company, LLC (PSGC).txt',\n",
       " 'C:/Users/holmf/Dropbox/Boot Camp_data project - Copy/Clean Power Plan_txt_files\\\\Puerto Rico Electric Power Authority.txt',\n",
       " 'C:/Users/holmf/Dropbox/Boot Camp_data project - Copy/Clean Power Plan_txt_files\\\\Rio Grande Foundation.txt',\n",
       " 'C:/Users/holmf/Dropbox/Boot Camp_data project - Copy/Clean Power Plan_txt_files\\\\Sacramento Municipal Utility District.txt',\n",
       " 'C:/Users/holmf/Dropbox/Boot Camp_data project - Copy/Clean Power Plan_txt_files\\\\San Miguel Electric Cooperative, Inc..txt',\n",
       " 'C:/Users/holmf/Dropbox/Boot Camp_data project - Copy/Clean Power Plan_txt_files\\\\Seattle City Light.txt',\n",
       " 'C:/Users/holmf/Dropbox/Boot Camp_data project - Copy/Clean Power Plan_txt_files\\\\Sierra Club.txt',\n",
       " 'C:/Users/holmf/Dropbox/Boot Camp_data project - Copy/Clean Power Plan_txt_files\\\\Solar Energy Industries Association (SEIA).txt',\n",
       " 'C:/Users/holmf/Dropbox/Boot Camp_data project - Copy/Clean Power Plan_txt_files\\\\South Coast Air Quality Management District.txt',\n",
       " 'C:/Users/holmf/Dropbox/Boot Camp_data project - Copy/Clean Power Plan_txt_files\\\\South Texas Electric Cooperative, Inc. (STEC).txt',\n",
       " 'C:/Users/holmf/Dropbox/Boot Camp_data project - Copy/Clean Power Plan_txt_files\\\\Southeastern Legal Foundation (SLF).txt',\n",
       " 'C:/Users/holmf/Dropbox/Boot Camp_data project - Copy/Clean Power Plan_txt_files\\\\Southern California Edison.txt',\n",
       " 'C:/Users/holmf/Dropbox/Boot Camp_data project - Copy/Clean Power Plan_txt_files\\\\Southern Company.txt',\n",
       " 'C:/Users/holmf/Dropbox/Boot Camp_data project - Copy/Clean Power Plan_txt_files\\\\Southern Environmental Law Center.txt',\n",
       " 'C:/Users/holmf/Dropbox/Boot Camp_data project - Copy/Clean Power Plan_txt_files\\\\Southern Illinois Power Cooperative (SIPC).txt',\n",
       " 'C:/Users/holmf/Dropbox/Boot Camp_data project - Copy/Clean Power Plan_txt_files\\\\State of Alabama.txt',\n",
       " 'C:/Users/holmf/Dropbox/Boot Camp_data project - Copy/Clean Power Plan_txt_files\\\\State of Arizona.txt',\n",
       " 'C:/Users/holmf/Dropbox/Boot Camp_data project - Copy/Clean Power Plan_txt_files\\\\State of Arkansas.txt',\n",
       " 'C:/Users/holmf/Dropbox/Boot Camp_data project - Copy/Clean Power Plan_txt_files\\\\State of California.txt',\n",
       " 'C:/Users/holmf/Dropbox/Boot Camp_data project - Copy/Clean Power Plan_txt_files\\\\State of Colorado.txt',\n",
       " 'C:/Users/holmf/Dropbox/Boot Camp_data project - Copy/Clean Power Plan_txt_files\\\\State of Connecticut.txt',\n",
       " 'C:/Users/holmf/Dropbox/Boot Camp_data project - Copy/Clean Power Plan_txt_files\\\\State of Delaware.txt',\n",
       " 'C:/Users/holmf/Dropbox/Boot Camp_data project - Copy/Clean Power Plan_txt_files\\\\State of Florida.txt',\n",
       " 'C:/Users/holmf/Dropbox/Boot Camp_data project - Copy/Clean Power Plan_txt_files\\\\State of Georgia.txt',\n",
       " 'C:/Users/holmf/Dropbox/Boot Camp_data project - Copy/Clean Power Plan_txt_files\\\\State of Hawaii.txt',\n",
       " 'C:/Users/holmf/Dropbox/Boot Camp_data project - Copy/Clean Power Plan_txt_files\\\\State of Illinois.txt',\n",
       " 'C:/Users/holmf/Dropbox/Boot Camp_data project - Copy/Clean Power Plan_txt_files\\\\State of Indiana.txt',\n",
       " 'C:/Users/holmf/Dropbox/Boot Camp_data project - Copy/Clean Power Plan_txt_files\\\\State of Iowa.txt',\n",
       " 'C:/Users/holmf/Dropbox/Boot Camp_data project - Copy/Clean Power Plan_txt_files\\\\State of Kansas.txt',\n",
       " 'C:/Users/holmf/Dropbox/Boot Camp_data project - Copy/Clean Power Plan_txt_files\\\\State of Kentucky.txt',\n",
       " 'C:/Users/holmf/Dropbox/Boot Camp_data project - Copy/Clean Power Plan_txt_files\\\\State of Louisiana.txt',\n",
       " 'C:/Users/holmf/Dropbox/Boot Camp_data project - Copy/Clean Power Plan_txt_files\\\\State of Maine.txt',\n",
       " 'C:/Users/holmf/Dropbox/Boot Camp_data project - Copy/Clean Power Plan_txt_files\\\\State of Maryland.txt',\n",
       " 'C:/Users/holmf/Dropbox/Boot Camp_data project - Copy/Clean Power Plan_txt_files\\\\State of Massachusetts.txt',\n",
       " 'C:/Users/holmf/Dropbox/Boot Camp_data project - Copy/Clean Power Plan_txt_files\\\\State of Michigan.txt',\n",
       " 'C:/Users/holmf/Dropbox/Boot Camp_data project - Copy/Clean Power Plan_txt_files\\\\State of Minnesota.txt',\n",
       " 'C:/Users/holmf/Dropbox/Boot Camp_data project - Copy/Clean Power Plan_txt_files\\\\State of MIssissippi.txt',\n",
       " 'C:/Users/holmf/Dropbox/Boot Camp_data project - Copy/Clean Power Plan_txt_files\\\\State of Missouri.txt',\n",
       " 'C:/Users/holmf/Dropbox/Boot Camp_data project - Copy/Clean Power Plan_txt_files\\\\State of Montana.txt',\n",
       " 'C:/Users/holmf/Dropbox/Boot Camp_data project - Copy/Clean Power Plan_txt_files\\\\State of Nebraska.txt',\n",
       " 'C:/Users/holmf/Dropbox/Boot Camp_data project - Copy/Clean Power Plan_txt_files\\\\State of New Jersey.txt',\n",
       " 'C:/Users/holmf/Dropbox/Boot Camp_data project - Copy/Clean Power Plan_txt_files\\\\State of New Mexico.txt',\n",
       " 'C:/Users/holmf/Dropbox/Boot Camp_data project - Copy/Clean Power Plan_txt_files\\\\State of New York.txt',\n",
       " 'C:/Users/holmf/Dropbox/Boot Camp_data project - Copy/Clean Power Plan_txt_files\\\\State of North Carolina.txt',\n",
       " 'C:/Users/holmf/Dropbox/Boot Camp_data project - Copy/Clean Power Plan_txt_files\\\\State of North Dakota.txt',\n",
       " 'C:/Users/holmf/Dropbox/Boot Camp_data project - Copy/Clean Power Plan_txt_files\\\\State of Ohio.txt',\n",
       " 'C:/Users/holmf/Dropbox/Boot Camp_data project - Copy/Clean Power Plan_txt_files\\\\State of Oklahoma.txt',\n",
       " 'C:/Users/holmf/Dropbox/Boot Camp_data project - Copy/Clean Power Plan_txt_files\\\\State of Oregon.txt',\n",
       " 'C:/Users/holmf/Dropbox/Boot Camp_data project - Copy/Clean Power Plan_txt_files\\\\State of Pennsylvania.txt',\n",
       " 'C:/Users/holmf/Dropbox/Boot Camp_data project - Copy/Clean Power Plan_txt_files\\\\State of Rhode Island.txt',\n",
       " 'C:/Users/holmf/Dropbox/Boot Camp_data project - Copy/Clean Power Plan_txt_files\\\\State of South Carolina.txt',\n",
       " 'C:/Users/holmf/Dropbox/Boot Camp_data project - Copy/Clean Power Plan_txt_files\\\\State of South Dakota.txt',\n",
       " 'C:/Users/holmf/Dropbox/Boot Camp_data project - Copy/Clean Power Plan_txt_files\\\\State of Texas.txt',\n",
       " 'C:/Users/holmf/Dropbox/Boot Camp_data project - Copy/Clean Power Plan_txt_files\\\\State of Utah.txt',\n",
       " 'C:/Users/holmf/Dropbox/Boot Camp_data project - Copy/Clean Power Plan_txt_files\\\\State of Vermont.txt',\n",
       " 'C:/Users/holmf/Dropbox/Boot Camp_data project - Copy/Clean Power Plan_txt_files\\\\State of Virginia.txt',\n",
       " 'C:/Users/holmf/Dropbox/Boot Camp_data project - Copy/Clean Power Plan_txt_files\\\\State of Washington.txt',\n",
       " 'C:/Users/holmf/Dropbox/Boot Camp_data project - Copy/Clean Power Plan_txt_files\\\\State of West Virginia.txt',\n",
       " 'C:/Users/holmf/Dropbox/Boot Camp_data project - Copy/Clean Power Plan_txt_files\\\\State of Wisconsin.txt',\n",
       " 'C:/Users/holmf/Dropbox/Boot Camp_data project - Copy/Clean Power Plan_txt_files\\\\State of Wyoming.txt',\n",
       " 'C:/Users/holmf/Dropbox/Boot Camp_data project - Copy/Clean Power Plan_txt_files\\\\Tampa Electric Company.txt',\n",
       " 'C:/Users/holmf/Dropbox/Boot Camp_data project - Copy/Clean Power Plan_txt_files\\\\Tennessee Valley Authority.txt',\n",
       " 'C:/Users/holmf/Dropbox/Boot Camp_data project - Copy/Clean Power Plan_txt_files\\\\Tucson Electric Power Company.txt',\n",
       " 'C:/Users/holmf/Dropbox/Boot Camp_data project - Copy/Clean Power Plan_txt_files\\\\U.S. Chamber of Commerce.txt',\n",
       " 'C:/Users/holmf/Dropbox/Boot Camp_data project - Copy/Clean Power Plan_txt_files\\\\U.S. Green Building Council.txt',\n",
       " 'C:/Users/holmf/Dropbox/Boot Camp_data project - Copy/Clean Power Plan_txt_files\\\\Union of Concerned Scientists.txt',\n",
       " 'C:/Users/holmf/Dropbox/Boot Camp_data project - Copy/Clean Power Plan_txt_files\\\\United Mine Workers of America.txt',\n",
       " 'C:/Users/holmf/Dropbox/Boot Camp_data project - Copy/Clean Power Plan_txt_files\\\\Utah Mining Association.txt',\n",
       " 'C:/Users/holmf/Dropbox/Boot Camp_data project - Copy/Clean Power Plan_txt_files\\\\Utah Physicians for a Healthy Environment.txt',\n",
       " 'C:/Users/holmf/Dropbox/Boot Camp_data project - Copy/Clean Power Plan_txt_files\\\\Ute Indian Tribe.txt',\n",
       " 'C:/Users/holmf/Dropbox/Boot Camp_data project - Copy/Clean Power Plan_txt_files\\\\Utility Air Regulatory Group.txt',\n",
       " 'C:/Users/holmf/Dropbox/Boot Camp_data project - Copy/Clean Power Plan_txt_files\\\\Utility Workers Union of America.txt',\n",
       " 'C:/Users/holmf/Dropbox/Boot Camp_data project - Copy/Clean Power Plan_txt_files\\\\Vectren Corporation.txt',\n",
       " 'C:/Users/holmf/Dropbox/Boot Camp_data project - Copy/Clean Power Plan_txt_files\\\\Virginia Asthma Coalition.txt',\n",
       " 'C:/Users/holmf/Dropbox/Boot Camp_data project - Copy/Clean Power Plan_txt_files\\\\Virginia Chamber of Commerce.txt',\n",
       " 'C:/Users/holmf/Dropbox/Boot Camp_data project - Copy/Clean Power Plan_txt_files\\\\Virginia Coal and Energy Alliance.txt',\n",
       " 'C:/Users/holmf/Dropbox/Boot Camp_data project - Copy/Clean Power Plan_txt_files\\\\Waste Management (WM).txt',\n",
       " 'C:/Users/holmf/Dropbox/Boot Camp_data project - Copy/Clean Power Plan_txt_files\\\\WE ACT for Environmental Justice Comment.txt',\n",
       " 'C:/Users/holmf/Dropbox/Boot Camp_data project - Copy/Clean Power Plan_txt_files\\\\West Virginia Coal Association.txt',\n",
       " 'C:/Users/holmf/Dropbox/Boot Camp_data project - Copy/Clean Power Plan_txt_files\\\\West Virginia Energy Users Group.txt',\n",
       " 'C:/Users/holmf/Dropbox/Boot Camp_data project - Copy/Clean Power Plan_txt_files\\\\West Virginia Manufacturers Association.txt',\n",
       " 'C:/Users/holmf/Dropbox/Boot Camp_data project - Copy/Clean Power Plan_txt_files\\\\Western Fuels Association, Inc.txt',\n",
       " 'C:/Users/holmf/Dropbox/Boot Camp_data project - Copy/Clean Power Plan_txt_files\\\\Western Organization of Resource Councils (WORC).txt',\n",
       " 'C:/Users/holmf/Dropbox/Boot Camp_data project - Copy/Clean Power Plan_txt_files\\\\Wisconsin Manufacturers & Commerce.txt',\n",
       " 'C:/Users/holmf/Dropbox/Boot Camp_data project - Copy/Clean Power Plan_txt_files\\\\Wyoming Mining Association (WMA).txt',\n",
       " 'C:/Users/holmf/Dropbox/Boot Camp_data project - Copy/Clean Power Plan_txt_files\\\\Xcel Energy Inc..txt']"
      ]
     },
     "execution_count": 2,
     "metadata": {},
     "output_type": "execute_result"
    }
   ],
   "source": [
    "# glob will provide a list of all data files\n",
    "# matching a certain format in your computer\n",
    "files = glob.glob(\"C:/Users/holmf/Dropbox/Boot Camp_data project - Copy/Clean Power Plan_txt_files/*\")\n",
    "\n",
    "\n",
    "files\n"
   ]
  },
  {
   "cell_type": "code",
   "execution_count": 3,
   "id": "7f9cb244",
   "metadata": {},
   "outputs": [],
   "source": [
    "CPP = []\n",
    "\n",
    "for file in files:\n",
    "    f = open(file,'r', encoding=\"utf8\", errors='ignore')\n",
    "    CPP.append(f.read())\n",
    "    f.close()"
   ]
  },
  {
   "cell_type": "markdown",
   "id": "31108d78",
   "metadata": {},
   "source": [
    "Based on the file list, localize any possible files that don't belong. In this case, the desktop.ini file needs to be removed."
   ]
  },
  {
   "cell_type": "code",
   "execution_count": 4,
   "id": "8f25c881",
   "metadata": {},
   "outputs": [
    {
     "data": {
      "text/plain": [
       "'[LocalizedFileNames]\\nState of Oklahoma (2).txt=@State of Oklahoma (2),0\\nCity of Springfield, IL.txt=@City of Springfield, IL,0\\n'"
      ]
     },
     "execution_count": 4,
     "metadata": {},
     "output_type": "execute_result"
    }
   ],
   "source": [
    "CPP[75]"
   ]
  },
  {
   "cell_type": "code",
   "execution_count": 5,
   "id": "67037c44",
   "metadata": {},
   "outputs": [],
   "source": [
    "CPP.remove('[LocalizedFileNames]\\nState of Oklahoma (2).txt=@State of Oklahoma (2),0\\nCity of Springfield, IL.txt=@City of Springfield, IL,0\\n')"
   ]
  },
  {
   "cell_type": "code",
   "execution_count": 6,
   "id": "dcd31fa3",
   "metadata": {},
   "outputs": [
    {
     "data": {
      "text/plain": [
       "261"
      ]
     },
     "execution_count": 6,
     "metadata": {},
     "output_type": "execute_result"
    }
   ],
   "source": [
    "# Check the length, there should be 261 documents\n",
    "\n",
    "len(CPP)"
   ]
  },
  {
   "cell_type": "code",
   "execution_count": 7,
   "id": "31f0aa04",
   "metadata": {},
   "outputs": [],
   "source": [
    "# Tidy a bit\n",
    "for i in range(len(CPP)):\n",
    "    CPP[i] = CPP[i].replace(\"\\n\",\" \").replace(\"\\ \",\" \").replace(\"\\x0c\", \" \").replace(\"\\\"\",\" \").replace(\"/\",\" \")"
   ]
  },
  {
   "cell_type": "code",
   "execution_count": 8,
   "id": "1593f80d",
   "metadata": {},
   "outputs": [
    {
     "data": {
      "text/plain": [
       "\"December 1, 2014  To:  Environmental Protection Agency  From:  Keith Reopelle, Senior Policy Director, Clean Wisconsin; Tyson Cook, Director of Science and Research, Clean Wisconsin; Matthew Landi, Science and Policy Associate, Clean Wisconsin  Subject:  Public Comment on Docket ID: EPA-HQ-OAR-2013-0602; Standards of Performance for Greenhouse Gas Emissions from Existing Sources: Electric Utility Generating Units  Clean Wisconsin thanks the Environmental Protection Agency for its historic effort to regulate carbon pollution in the United States through proposing new CAA 111(d) rules, also known as the Clean Power Plan ( CPP ). We also thank EPA for this opportunity to comment on the CPP in order to create a stronger, more informed, and ultimately, a more successful carbon pollution mitigation regulatory regime. We want to recognize that these rules have great potential benefit for the protecting public health and natural resources in the state of Wisconsin. The Third National Climate Assessment released earlier this year found that unless carbon pollution is cut significantly communities across the country will experience:1  Increasingly severe adverse health impacts from smog and particulate pollution;  More intense severe weather including floods, droughts, hurricanes and tornadoes;  Reduced crop yields and livestock productivity;  Increased fires, insect pests, and soil loss;  Increased diseases transmitted by insects, water and food; and  Increased risk of death and illness due to extreme heat Thanks to the Wisconsin Initiative on Climate Change Impacts, a joint project of the Nelson Institute at the University of Wisconsin and the state Department of Natural Resources, 1 U.S. Global Change Research Program, Overview and Report Findings,  Climate Change Impacts in the United States: The Third National Climate Assessment.  2014. Clean Wisconsin | 1   scientists in Wisconsin have conducted important research and analysis giving us a better understanding of how climate change is already adversely impacting health and natural resources in Wisconsin and across the Midwest. Clean Wisconsin strongly supports the EPA in strengthening the CPP. Clean Wisconsin urges completion of final rules on or before June 1, 2015, in order to best protect the public health of the citizens of Wisconsin and the rest of the United States. We believe that the budget of a 34% reduction in the rate of carbon emissions set for Wisconsin in the CPP proposal is very reasonable and underestimates the potential for cost-effective carbon emission reductions available in our state. Clean Wisconsin's comments have been informed in part by our involvement in a collaborative stakeholder process including coal-based utilities, regulators and additional NGOs, whose aim is to help the EPA devise a strong final rule under 111(d). This Midwestern Power Sector Collaborative has drafted a series of consensus recommendations to the EPA regarding how best to alter the CPP to mitigate regulatory burdens, assist Midwestern states with compliance, and generally achieve the emission reduction goals in an equitable and fair manner. Clean Wisconsin has invested a great deal of time in the collaborative as the group who initially created it in 2011 by bringing three utilities together to discuss the prospective rules. Clean Wisconsin has engaged most of the Wisconsin utilities in collaborative discussions about how to improve the proposed rule outside of the collaborative and in an effort to support the State of Wisconsin's eventual implementation plan development. We believe that there are areas of the CPP that can and should be strengthened to achieve greater environmental and public health benefits. The regulatory regime EPA is proposing in the CPP provides achievable and lasting emissions reductions while also providing states with significant flexibility in their ability to comply. Clean Wisconsin believes the greatest strength of the CPP is the flexibility that it affords states, enabling them to pursue a leastcost compliance strategy. Clean Wisconsin's comments will attempt to address concerns that we have heard from our stakeholder process, and build on areas of agreement, and argue that the CPP could be strengthened in some critical areas relevant to protecting the public health and welfare in the spirit of the Clean Air Act's overall purpose.  I. SETTING STATE GOALS  Clean Wisconsin | 2   We are supportive of an implementation plan that recognizes and rewards early action; early action that has occurred in the past (prior to 2012) and particularly early action as defined as action that can be taken between now and the time when the first compliance period begins (2020 as currently proposed). It's important to distinguish the setting of a baseline for the purposes of setting a reduction target as opposed to setting a baseline for the purpose of compliance budgets. As will be discussed further in the context of individual building blocks, the level of overall carbon reductions required under the CPP are easily achievable. It is therefore reasonable, and indeed critically important, that such a level of overall reduction be maintained regardless of considerations or allowances made with respect to early actions. EPA set the reduction targets for each state based on calculations of emission reduction opportunities between the time they wrote the rule (most recent reliable data  2012) and a flexible target date in the future. They also calculated what the emission reductions would be between 2005 and 2030. In that context  since the choice of a particular baseline year used does not change the achievability of a set emissions goal at a future date  the concept of credit for early reductions is most applicable with regard to compliance requirements. EPA has not proposed ANY compliance requirement limitations, so their proposal is silent on the issue of credit for early reductions and would therefore presumably allow states to attribute credit for early actions in their implementation plans. To the extent that the baseline is set to reward early action for the purpose of compliance, the threshold question is whether you want that baseline set by EPA (which would mean EPA dictates some of the compliance implementation plan) or, as EPA is proposing in its draft rule, to leave it to the states to determine the best way to reward early action in the compliance requirements (implementation plan). If EPA were to set the baseline for compliance and dictate how much credit is given for early action, states would be losing control and flexibility relative to EPA's proposed rule. We think that states should have maximum flexibility and we would support a state implementation plan which rewards utilities for early action and incentives more early action. We strongly urge EPA, however, to offer guidance on how states could recognize credit for early action prior to 2012. Unfortunately, the proposed rule is being interpreted as offering disincentives for action between now and 2020 by utilities and state regulators. While the proposed rule clearly states that actions between now and 2020 would count toward compliance, it is not clear at all how that would happen, as there is no provision for banking credits for use during the compliance period. EPA should maintain this early action incentive and make it more meaningful and clearer, especially if a utility pursues a compliance action that their state Clean Wisconsin | 3   does not include in the final state plan. Clean Wisconsin strongly feels that utilities should be empowered to act to reduce emissions prior to the finalization of a state plan, even if that state plan does not explicitly recognize the compliance option the utility chose to pursue. EPA should also consider how to encourage early actions during the 2012  2020 period to reduce cumulative emissions and improve emissions performance. EPA should also clarify that retirements occurring after the base year and before 2020 count toward compliance, regardless of the reason why the specific EGU is being retired. The focus should appropriately be on the fact that the specific EGU will no longer be emitting pollution. Many stakeholders have highlighted a desire to receive credit for actions that reduced carbon dioxide emissions prior to 2012. Clean Wisconsin feels that this is an issue that should be left to the states to settle, but at least require that any credit given for actions prior to 2012 do not result in an emission goal that is less stringent than what EPA requires.  II. BEST SYSTEM OF EMISSIONS REDUCTION  Section 111 of the CAA requires that the EPA set a  standard of performance  for emissions of air pollutants like carbon dioxide through the application of the  best system of emissions reduction...adequately demonstrated. 2 We strongly support EPA's proposed  best system of emission reduction,  which sets targets for each state's carbon-emitting power plants by looking at the real-world potential to reduce their carbon pollution. The CPP achieves this through the designation of  Building Blocks  as the BSER. The BSER Building Blocks proposed by the EPA include: (1) Improving the efficiency of existing coal-fired EGUs (2) Increasing the use of existing natural gas combined cycle ( NGCC ) EGUs (3) Increasing generation from renewable and nuclear resources (4) Increasing demand-side energy efficiency resources  Clean Wisconsin believes that EPA's determination of BSER in the CPP is entitled to Chevron Deference. The Building Blocks are measures that combine direct actions on the specific, carbon pollution-emitting EGUs (Building Block 1) with indirect actions that have an impact on those specific, carbon-emitting EGUs (Building Blocks 2, 3, and 4) that result  2 42 U.S.C. 7411(a)(1)  Clean Wisconsin | 4   in a reduction of carbon pollution. The Building Blocks approach is the `best' system of emission reduction because they achieve significant reductions of the pollutant, incentivize the deployment and further development of technology and practices that reduce the pollutant, are largely consistent with practices that have led to the general, historical trend of `decarbonization' of the energy sector, and, lastly, achieve significant reductions at appropriate costs consistent with existing electric sector practices, standards, and technologies. This determination is in line with both the judicial authority granted to the EPA to regulate carbon pollution under the CAA as well as other administrative rulemaking proceedings where the EPA has determined BSER. Clean Wisconsin argues that the EPA should, for the purposes of goal setting, recognize that some states are benefitting from not having existing natural gas EGU infrastructure, established renewable energy policies, or energy efficiency practices. The BSER, uniformly applied to all of the states, results in a peculiar scenario where some states have less stringent goals due to their past indifference of BSER practices. To correct for this past indifference to BSER practices, Clean Wisconsin argues that EPA should calculate state goals using a minimum baseline methodology. For instance, if a state has no natural gas infrastructure, emission reductions attributed to Building Block 2 will be negligible for the purposes of calculating the final AER goal for that state. By creating a minimum baseline for the purposes of goal calculation, these states will be required to meet a level of stringency that is more fair relative to other states' AER goal stringencies. Allowing for  outside the fence  measures to comprise the  best system of emission reduction  is appropriate and necessary given the interdependent and integrated nature of our electric system. All of these measures result in the reduction of carbon dioxide emissions, as generation is either shifted away from coal-fired EGUs to natural gas-fired EGUs, generated from carbon-free nuclear energy, renewable energy, and avoids generation as a result of demand-side energy efficiency resources. Further, this system of emissions reduction allows for the maximum amount of compliance flexibility options for states, as the electric system already utilizes all of these measures in order to meet system demand. The real-time operation of the electric system already incorporates these  outside the fence  measures and has extensive history in managing them while also maintaining the reliability of the electric system. Many of the stakeholders that we have met with are concerned about the reliability of the electric system if the Building Blocks are utilized for compliance. Electric reliability is always a concern for all stakeholders. There is no reason to think that the reduction schedule that EPA has proposed will pose a threat to system reliability. Integration of renewable resources, increased dispatch of natural gas, and managing demand-side energy Clean Wisconsin | 5   efficiency resources are long-standing functions of grid operators in Wisconsin, throughout the Midwest, and around the country. Clean Wisconsin argues that the long compliance horizon in the CPP provides all stakeholders with sufficient time to take thoughtful, informed, and deliberate actions to manage any reliability concerns. We submit that the currently envisioned ten year compliance period between 2020 and 2029 provides states with a sufficient amount of time to anticipate any adverse impacts that the CPP may have on electric reliability and subsequently address them in coordination with regional grid operators and other states. Toward that end, there are meaningful steps that states can take in preparation for any electric reliability concerns. One example of a policy addressing electric reliability has already been used by the ISO RTO Council. The ISO RTO Council suggests that, similar to an enforcement policy related to the MATS rule, states work with their respective ISO RTO organization to create a  `Reliability Safety Valve' that provides for reliability assessments and solutions, as well as the requisite compliance and or enforcement flexibility to implement the reliability solutions  and  allows for implementation of [the Reliability Safety Valve] by incorporating a reliability review conducted by the relevant system operator, working with the states and relevant reliability regulators, prior to finalization and approval of the SIP. 3 EPA can and should provide guidance on assessing any electric reliability issues and subsequently address them through a mechanism such as the Reliability Safety Valve. At this time, Clean Wisconsin argues that there is no reason to believe that the CPP will unduly impact electric reliability. III. BUILDING BLOCK 1: IMPROVING THE EFFICIENCY OF COAL-FIRED EGUs For the sake of calculating the state goals, the application of a uniform increase in the improvement of the heat rate of affected EGUs is appropriate. It is in no way construed by the EPA to be a legally binding compliance measure. While some EGUs in Wisconsin may not be able to achieve a 4% improvement in the heat rate or a 2% improvement through equipment upgrades, compliance options for Wisconsin are not limited to a general heat rate improvement. An overall six percent increase in the heat rate of coal-fired EGUs is actually a conservative estimate. Analysis of carbon dioxide emissions at coal-fired EGUs shows that even greater reductions can be achieved if coal-fired EGUs simply matched the lowest emission rate achieved by the specific coal-fired EGU over the last decade. 3 ISO RTO Council Report,  EPA CO2 Rule  ISO RTO Council Reliability Safety Valve and Regional Compliance Measurement and Proposals . January 28, 2014. Accessed at: http:  www.isorto.org Documents Report 20140128_IRCProposal-ReliabilitySafetyValveRegionalComplianceMeasurement_EPA-C02Rule.pdf Clean Wisconsin | 6   An alternative approach to setting the goal for Build Block 1 would be to allow states to demonstrate pre-base-year heat rate improvements secured through specific plant upgrades, technologies, or new plant construction, and provide data on other plant changes that have affected net heat rates, so that EPA can use this information in determining improvement potential for that state and use this potential for calculating the state goal. In some states, this may result in an even higher heat rate improvement then calculated, as some coal-fired EGUs may be able to exceed the estimated six percent increase in heat rate. If this type of approach based on more in-depth analysis is used however, it should also account for other opportunities to increase efficiency in goal setting (e.g. environmental dispatch of existing units, or increased co-firing of natural gas). Ultimately, this could result in greater emission reductions from this Building Block, especially for states who have not taken any actions prior to 2012 to improve or upgrade their coal-fired EGUs. This may also be an opportunity for the EPA to recognize the early action of some states that many utilities and state regulators are concerned with. EPA has invited comment on whether they should consider re-dispatch to new NGCC resources (as opposed to existing, under-utilized NGCC resources), the potential to co-fire with natural gas at existing coal-fired EGUs, or convert coal to natural gas at existing coalfired EGUs. Clean Wisconsin recommends that the EPA recognize these pathways as compliance measures explicitly, and to consider them in setting carbon reduction goals, as they are already being deployed across the country. While Clean Wisconsin takes the position that the existing proposal allows states to pursue these compliance measures as options, and EPA should consider these three pathways as part of the BSER for Building Blocks 1. Clean Wisconsin's own analysis has shown that an environmental dispatch, that is, the redispatch of generation from less-efficient to more efficient coal-fired EGUs, could alone account for a 5% improvement in Wisconsin overall emissions per unit output for coalfired EGUs in Wisconsin. There is no reason to believe that this strategy is unique to Wisconsin and could easily be replicated by other states. Re-dispatching from less efficient EGUs (presumably older) to more efficient EGUs (presumably newer) would also result in less emissions of other pollutants, as the newer units are likely to have greater and more effective pollution controls. Any reduction in the use of coal-fired EGUs or improvement in the efficiency of coal-fired EGUs have significant and quantifiable impacts on environmental and public health. Clean Wisconsin | 7   IV. BUILDING BLOCK 2: INCREASING THE USE OF EXISTING NGCC INFRASTRUCTURE According to a report by the Massachusetts Institute of Technology, natural gas combined cycle power generators are able to operate at capacities as high as 85%.4 While there are a variety of factors that determine dispatch, there is no technical limitation for NGCC to ramp up their capacity to factor to at least 70%, as assumed by the EPA. An analysis conducted by Synapse Energy Economics, Inc. concluded that in the eGRID subregions that Wisconsin is in, there is a combined potential to increase generation from NGCC to 54 TWh assuming an 80% capacity factor.5 Nationwide potential is far greater. This report also concludes that there is  ample, existing, unused potential that would require no additional plant construction costs to displace the generation from existing coal capacity. 6 Clean Wisconsin's own analysis of NGCC EGUs in Wisconsin provides evidence both that those units could operate at higher capacity factors, and that there is significant room for increases in operation. In particular, we found that half of the fleet was operating at capacity factors between 45% and 55% in 2012, with an overall system average of just under 40%. These capacity factors are significantly higher than those of so-called  peaking plants,  which have an average capacity factor of less than 10% in the Midwest Reliability Organization's territory, according to the EIA,7 suggesting that they could easily ramp up in the short-term, even before 2020, without a significant impact on their existing operation. Again, there is no technical reason why all other NGCC EGUs in Wisconsin and around the country could not ramp up dispatch to 70%. Clean Wisconsin is concerned that this building block will act as an incentive to increase the production of natural gas through technique known as `hydraulic fracturing.' There is ample reason to believe that this technique has significant and widespread impacts on groundwater contamination and methane leakage, both of which have significant impacts on the public health and welfare of the United States. Ironically, increasing reliance on natural gas may lead to even larger climate change impacts, since methane is also a greenhouse gas that the EPA has recognized as having a far greater global warming potential than carbon dioxide, up to 20 times greater over a 100-year period.8 In the 4 Rachakonda, Anil,  Potentially available natural gas combined cycle capacity: opportunities for substantial CO emissions reductions.  2010. Accessed at: http:  dspace.mit.edu handle 1721.1 62774. 5 Synapse Energy Economics,  Displacing Coal: An Analysis of Natural Gas Potential in the 2012 Electric System Dispatch,  at 6. August 2013. Accessed at: http:  www.synapseenergy.com Downloads SynapseReport.2013-09.EF.Displacing-Coal.13-020.pdf 6 Id., at 1. 7 Accessed online at: http:  www.eia.gov todayinenergy detail.cfm?id=13191 8 Accessed online at: http:  epa.gov climatechange ghgemissions gases ch4.html Clean Wisconsin | 8   absence of greater regulation of natural gas production techniques that lead to substantial increases in methane leakage, Clean Wisconsin feels that the EPA should also address this growing and alarming problem--either within the CPP itself or in a separate regulatory action. V. BUILDING BLOCK 3: INCREASING GENERATION FROM RENEWABLE AND NUCLEAR RESOURCES The method employed by the EPA to calculate the renewable energy goal for each state is based on a regional average of existing state renewable energy portfolio standards (RPS). RPS are a widely used and understood policy mechanism used by states to meaningfully develop renewable energy resources in their respective states. Clean Wisconsin feels that a technical potential analysis would be more appropriate in setting the renewable energy goal for each state, as it does a better job at accounting for the specific circumstances for each state and better illustrates the enormous potential that Wisconsin and states have to develop their own renewable energy resources. There is significant technical potential in Wisconsin to greatly expand our use of renewable energy. In July 2012, NREL published a report that performed a technology-by-technology analysis on the renewable energy potential in the U.S. Broadly, the results of the report represents the  achievable energy generation of a particular technology given system performance, topographic limitations, environmental, and land-use constraints.  This report analyzed the technical potential of several renewable energy technologies in every state in the U.S. The report found that Wisconsin has enormous technical potential for renewable energy: the potential for approximately 3,523 GW of installed capacity and upwards of 6,347 TWh of generation capacity. Contrast this with our current installed RE capacity of 1.684 GW and only 4.75 TWh of generation. It is therefore entirely possible, on a purely technical basis, for Wisconsin to expand renewable generation to 11% of total generation by relying only on in-state resources. Clean Wisconsin, as a baseline, endorses the Union of Concerned Scientists'  Demonstrated Growth Approach  to the renewable energy aspect of Building Block 3. This entails: (1) setting a national benchmark renewable energy growth rate of 1% of electricity sales year based on demonstrated growth in the states from 2009 to 2013; (2) full compliance with existing RPS standards; and (3) accounting for actual and expected renewable energy growth between 2013 and 2017.9 States below the benchmark ramp-up to 1% by 2020, 9 Union of Concerned Scientists,  Strengthening the EPA's Clean Power Plan.  October 2014. Clean Wisconsin | 9   and states at or above benchmark growth ramp-up to a maximum rate of 1.5%. This approach is stronger than the EPA's proposal, but is still easily achievable by the states. Clean Wisconsin would at least like to see this approach adopted by EPA in setting Building Block 3. Clean Wisconsin argues, however, that renewable energy growth greater than the Union of Concerned Scientists  Demonstrated Growth Approach  can be achieved. By calculating the average incremental growth in renewable energy generation between 2009 and 2013 for each state, a true account of the renewable energy growth for a particular state could be used in goal setting for that particular state. Wisconsin, for example, achieved a growth rate in renewable energy generation of 10.85% between 2009 and 2013.10 By maintaining this growth rate, starting in 2020, we can achieve renewable energy generation levels of 9,873,881 MWh by 2029. This is 3,014,580 MWh more renewable energy generation than the level calculated by EPA in setting Wisconsin's Adjusted Emission Rate ( AER ) Final Goal.11 As this average growth rate is based on historical, demonstrated practice, Clean Wisconsin argues that this growth rate can be continued into the future. In the absence of renewable energy generation growth for a particular state, a regional average could be used. A minimum renewable energy growth rate similar to the UCS  Demonstrated Growth Approach  would be appropriate for states that have not invested in renewable energy. Some states are better positioned technically, economically, and politically to develop their renewable energy resources than others. Clean Wisconsin argues that EPA should emphasize that it is not necessary that states derive all of their renewable energy generation from in-state sources. The CPP makes it explicitly clear that out-of-state renewable generation can be counted as a state's compliance measure, and Clean Wisconsin argues that the EPA should retain this in the final rule. There is already a sufficient system to track renewable energy credits (RECs) and it wouldn't likely need any major modifications in order to be used to account for and verify out-of-state purchases of renewable energy. Additionally, Clean Wisconsin argues that EPA is undervaluing the potential of renewable energy as a compliance measure. EPA's technical-economic analysis of renewable energy potential does not use the most recently available data, which suggests that the costs of renewable energy are decreasing and are less than the estimates used in EPA's analysis. By using the most recent cost and economic data, the value of renewable energy as a compliance measure will increase and greater emissions reductions can be achieved. 10 Derived from EIA Form 861 data. 11 See TSD `Regulatory Impact Analysis for the Proposed Carbon Pollution Guidelines for Existing Power Plants and Emission Standards for Modified and Reconstructed Power Plants', Table 3-3 at 3-16 and 3-17 Clean Wisconsin | 10   VI. BUILDING BLOCK 4: INCREASING DEMAND-SIDE ENERGY EFFICIENCY RESOURCES Energy efficiency is the most cost-effective compliance measure available to states. According to the American Council for an Energy-Efficient Economy, on a levelized cost of energy (LCOE) basis, energy efficiency is the least cost resource--with an average cost of 2.8 cents per kWh.12 Even more compelling, energy efficiency had a cost of only 1.5 cents per kWh in Wisconsin in 2012.13 Not only is energy efficiency a  no regrets  policy for Wisconsin's overall energy policy based on its cost alone, it has enormous potential to be an effective compliance measure in Wisconsin. Wisconsin's statewide third-party energy efficiency program, Focus on Energy, has a proven track record of success. It provides almost $3.5 in primary economic benefits for every $1 spent on its energy efficiency programs. Furthermore, when secondary economic benefits such as jobs and spending are considered, Focus on Energy provides over $7 in benefits for every $1 in cost.14 An examination of the recent history and success of the Focus on Energy Program demonstrates how modest EPA's estimate for energy efficiency achievement is for the state of Wisconsin. In 2009, the Energy Center of Wisconsin ( ECW ) determined that by 2012, Wisconsin could obtain annual energy savings equivalent to 1.6% of total electricity sales.15 Contrasted with EPA's assumption that Wisconsin will achieve energy savings equal to 1.5% of total electricity sales by 2020, we have an enormous opportunity to make energy efficiency a central compliance strategy in Wisconsin. In this same report, ECW found that Wisconsin could achieve cumulative energy efficiency savings of 13.0% of total electricity sales by 2018.16 This stands in stark contrast to EPA's assumption that Wisconsin can achieve cumulative energy efficiency savings of 12.17% by 2030. By expanding the Focus on Energy program that provides funding for qualifying energy efficiency projects around our state, Wisconsin can relatively easily achieve the goal EPA set for our state under the CPP. 12 Maggie Molina, ACEEE,  The Best Value for America's Energy Dollar: A National Review of the Cost of Utility Energy Efficiency Programs,  at iii. March 2014. Accessed at: http:  www.aceee.org research-report u1402 13 Id., at 19. See Table 3. 14 The Cadmus Group, Inc.  Focus on Energy Calendar Year 2012 Economic Impacts Report.  Public Service Commission of Wisconsin (November, 2013). 15 Energy Center of Wisconsin,  Energy Efficiency and Customer-Sited Renewable Resource Potential in Wisconsin,  at EE-2. Accessed at: http:  psc.wi.gov reports documents wipotentialfinal.pdf 16 Id. Clean Wisconsin | 11   However, the FOE program is just one delivery system for energy efficiency achievement and we should take advantage of others. Some EE programs, such as certain behavior programs, lend themselves better to being run by the utilities themselves and we will work with the PSC and utilities to determine the most appropriate role for utility-run programs in Wisconsin. In addition, there are a number of opportunities for the state to increase electric efficiency that are currently being missed. A great example is the state building codes which have not been updated in many years. Wisconsin's current codes are similar to the 2009 vintage of the International Energy Conservation Code. Most states have adopted the 2012 version of that code and the 2015 version is, or will soon be, available. Wisconsin, once a building code leader, has fallen behind. . EPA should provide more guidance on how energy efficiency programs run by the state, particularly market transformation programs, including building code adoption and enforcement, and efficiency standards for appliances and equipment should be structured to allow them to be part of a state's compliance plan. EPA should pay especially close attention to how lowincome weatherization programs and other efficiency programs aimed at low-income communities can be included in state implementation plans. The final rule should create a strong incentive to increase investments in low-income efficiency program to minimize the extent to which low-income residents feel economic impacts resulting from the rule. Other energy efficiency improvements that EPA has not considered include demand management, voltage optimization, combined heat and power ( CHP ), and the emerging potential of energy efficiency technologies such as smart meters. This potential, and existing state practices, suggests that the 1.5% annual incremental savings goal is conservative. Clean Wisconsin endorses a 2% annual incremental savings goal, and urges EPA to adopt this higher goal. The rule also needs to account for and encourage private sector energy service companies (ESCO) efficiency projects such as performance contracting conducted by Johnson Controls and others. EPA should offer more guidance in the final rule on how states can take advantage of private sector performance contracting type programs; ESCOs need to be given clear signals on how their projects can qualify to be part of state implementation plans. This is only one example of countless ways the CPP can be viewed as an opportunity for states rather than a burden. EPA should give significantly more guidance in their final rule on EM&V procedures and how to track and credit these commercial and industrial projects financed in the private sector. Unlocking more pathways for energy efficiency to play a role in Wisconsin's compliance strategy can lead to significant economic benefits. The proposed rule has come under a great deal of criticism for not being fair or equitable to states  some view the proposed rule as penalizing rather than rewarding states and utilities that have taken early action, and letting states that have not acted  off the hook.  Clean Wisconsin | 12   We believe that the way the proposed rule calculates the energy efficiency budgets for states fails to take advantage of the much  low hanging fruit  efficiency gains in states that have invested little, if any, in efficiency programs. We believe that EPA should be using an accelerated ramp-up of efficiency achievement for those states. For example, EPA could assume that every state should be able to reach a level of 1.5% energy efficiency achievement by the year 2020. VII. OTHER ISSUES A. ALTERNATIVE APPROACH There are many aspects of the CPP that are conservative projections of what states can achieve. Clean Wisconsin believes that our state is well positioned to far exceed the requirements that the EPA is proposing, and so an even less stringent approach will only limit our potential for greater carbon pollution reductions and public health benefits. Further, a shorter compliance window as outlined in the alternative approach provides less time for states in implementing their plans and may prove to be a burden for overall compliance. B. COMPLIANCE FLEXIBILITY The flexibility in the rule is extremely robust. That's a good thing. EPA is basically giving the states 100% latitude in deciding how to reduce its emissions. The only sidebar on how reductions can be made is requiring that they be made within the source category  the electric sector. This is a critical distinction for many reasons including legal reasons. Given that EPA is required to set a BSER for each major source of stationary emissions it is important that they not require or allow one source to count reductions in another source that is yet to be regulated. There may be limited exceptions to this general rule and you have noted one in your question which is CHP. The proposed rule is somewhat vague on the treatment of CHP and we would argue that the emission reductions achieved by reducing fossil heating that is replaced with the waste heat from a CHP unit is integral to the EGU. In the case of CHP units owned by utilities this rule seems to clearly be the best opportunity to capture those emission reductions but even in the case of an industrial selfgenerator, we view this rule as an opportunity that such potential projects do not fall between the regulatory cracks. We would recommend that the final rule allow states to fully count the carbon emission reductions resulting from the displaced fossil fuel thermal load. Clean Wisconsin | 13   EPA is also affording states tremendous flexibility in giving states a timeline with two compliance dates, one of 2030 which is 15 years from now and 12 years after EPA is likely to approve state plans, and an interim goal which an average over 10 years (from 2020 to 2030). States need to show progress towards the average reduction (they can't wait until the last minutes) but this is still very flexible. This gives states ample time to enact any necessary legislation and undergo the long-term planning necessary to ultimately implement compliance plans in an informed, deliberative, and comprehensive way. C. RESPONSIBLE PARTIES Clean Wisconsin argues that EPA should give more guidance in the final rule on the treatment of entities such as ESCOs that will be delivering EE achievement through performance contracting directly with large commercial and industrial customers. D. MASS-BASED STANDARD Clean Wisconsin strongly supports EPA's guidance on how to convert emission-based standards to mass-based standards, as this provides stakeholders with a clear and more environmentally certain goal. EPA should provide clear guidance to states with how a mass-based standard affects compliance options, particularly with respect to any interstate impacts on emission reductions, if any. E. JUSTICE AND EQUITY CONSIDERATIONS Clean Wisconsin recognizes that the climate change, like most every other air pollutant, tends to disproportionately impact communities of color and low-income communities; communities that are often have the least ability to adapt. This is certainly true on a global scale but we believe that it is also true at the state level. We agree with many of the environmental justice organizations who are asking EPA to conduct analysis on the impact the rule will have on low-income communities and communities of color. The analysis should be broad and include both the cost and benefits to those communities. It should also include an analysis of those carbon emission reduction strategies that benefit lowincome residents including by reducing their energy bills. F. INTERSTATE EFFECTS OF ENERGY EFFICIENCY Clean Wisconsin | 14   Clean Wisconsin argues that the credit for emissions savings that result from energy efficiency measures should be assigned to the states in which those measures are implemented. We recognize that there are potential complications associated with crossborder effects due to the interconnectedness of the electricity system, however we don't think that net importers of electricity like Wisconsin should be effectively penalized at the point of energy efficiency for a lack of immediate control over electricity sources. These types of interactions are instead related to dispatch and more appropriately and effectively handled in that context. G. MULTI-STATE COMPLIANCE AND EMISSION TRADING PROGRAMS Emissions averaging and trading are important tools to ensure a more efficient implementation of the emissions reductions required under the Clean Power Plan. However, the manner in which averaging and trading are conducted is both a challenging and important issue for implementation, and can have a significant impact on their ultimate effectiveness. As a result, the EPA should provide both guidance for states or regions wishing to implement their own programs, and a default national trading program for states wishing to opt-in to such a program. In order to maintain flexibility, the guidance and national program provided should allow for the participation of states that are using either a rate-based or mass-based compliance plans. In accordance with best emissions tracking and accounting practices to ensure appropriate crediting and to avoid double counting, clarify that states can cooperate without blending state goals into a multi-state goal. Indeed, multi-state cooperation is most likely to arise among states that have individual state plans that recognize reductions or credits from other states. This approach should qualify as a multi-state approach eligible for an additional year extension. Provide the necessary assistance and infrastructure for states to accomplish multistate approaches. For example, EPA should provide or approve the use of credit tracking systems for states that wish to implement trading programs and accept reductions or credits from other states as valid compliance currency. EPA already has such systems in place for other pollutants. For rate-based trading between states, EPA would need to assist states on Evaluation, Measurement and Verification ( EM&V ), tracking and minimum requirements for crediting to enable a tradable credit system, and clarify how states could take advantage of emissions reductions driven by shifts in utilization that occur across state lines. EPA could use existing REC tracking systems. Clean Wisconsin | 15   H. TREATMENT OF BIOMASS Due to Wisconsin's recognized history and knowledge of using biomass for energy, the state could play a significant role in helping EPA determine how to treat biomass in the rules. When properly conducted, there is no doubt that replacing fossil fuels with biomass for electricity generation can have environmental benefits. In formulating comments to the EPA however, it is important to note that the basis of the rules is the endangerment finding for carbon vis--vis public health and welfare. In this context, EPA should not assume that all biomass generation is carbon neutral. While the carbon emissions from biomass are part of what is called  biogenic carbon cycle  as opposed to the  geologic carbon cycle,  they still result in net increases in the levels of greenhouse gases in the atmosphere  particularly in short- to medium- time horizons. Indeed, the carbon emissions from some biomass plants are greater than those from coal plants. EPA should differentiate between different biomass feedstocks a way that matches the reality and life-cycle nature of biomass carbon emissions. This would give more carbon reduction credit to those that use waste streams, and would likely result in some biomass energy applications being net positive, some net neutral, and some net negative with regard to carbon emissions. One example of particular interest in Wisconsin is that of anaerobic digesters, which should get credit both for fossil-fuel displacement and for methane destruction. Those methane reductions would not likely be addressed in a separate rule on methane sources. I. FEDERAL PLAN Clean Wisconsin agrees that EPA should provide more clarity to states regarding what a federal plan will entail if a state fails to produce a state plan that complies with the final rule, or fails to produce any state plan. Clean Wisconsin anticipates significant political opposition from states, and in the event that this opposition leads to a failure of those states producing an acceptable state plan, a federal plan will be needed to ensure that the public health and welfare will be adequately protected. EPA should issue guidance on what a federal plan may look like, including the legal basis for imposing legal obligations on third-parties in the absence of a state plan.  J. EPA GUIDANCE AND SUPPORT  Clean Wisconsin | 16   EPA can and should provide guidance and support to states in developing their state plans, so as to minimize delays and maximize efficacy of compliance. Clean Wisconsin argues that EPA can serve an important role in facilitating multi-state compliance by providing detailed examples of elements of compliance pathways, such as trading programs, EM&V protocols and program, REC trading, corrective measures, and other items. K. TECHNICAL CORRECTIONS Clean Wisconsin argues that EPA should include a mechanism for making technical corrections based on a review of the data and assumptions used in calculating state AER goals. EPA should be cognizant that errors may occur, and likely have occurred, in the formulation of the CPP. Toward that end, Clean Wisconsin is supportive of a formal process that allows states and other stakeholders to identify errors that requires EPA to respond substantively, especially if any error(s) has an impact on compliance costs. Thank you for the opportunity to comment. Clean Wisconsin | 17   \""
      ]
     },
     "execution_count": 8,
     "metadata": {},
     "output_type": "execute_result"
    }
   ],
   "source": [
    "CPP[65]"
   ]
  },
  {
   "cell_type": "code",
   "execution_count": 14,
   "id": "d23e6549",
   "metadata": {},
   "outputs": [],
   "source": [
    "import pandas as pd\n",
    "import matplotlib.pyplot as plt\n",
    "import numpy as np\n",
    "\n",
    "from nltk import RegexpTokenizer\n",
    "tokenizer = RegexpTokenizer(r\"\\w+\")\n",
    "from nltk.corpus import stopwords\n",
    "stop = stopwords.words('english')"
   ]
  },
  {
   "cell_type": "code",
   "execution_count": 10,
   "id": "8d27b500",
   "metadata": {},
   "outputs": [],
   "source": [
    "def norm(u):\n",
    "    return np.sqrt(np.sum(np.power(u,2)))\n",
    "\n",
    "## You write a function to get the cosine similarity\n",
    "def cos_sim(u,v):\n",
    "    if norm(u)*norm(v) > 0:\n",
    "        return (u.dot(v))/(norm(u)*norm(v))\n",
    "    else:\n",
    "        return np.nan"
   ]
  },
  {
   "cell_type": "code",
   "execution_count": 11,
   "id": "1786b9c0",
   "metadata": {},
   "outputs": [],
   "source": [
    "# This will take in a list of tokenized texts\n",
    "# and return a list of the unique words, which forms the basis\n",
    "def get_bow_basis(token_list):\n",
    "    basis_set = []\n",
    "    \n",
    "    for tokens in token_list:\n",
    "        for token in tokens:\n",
    "            basis_set.append(token)\n",
    "            \n",
    "    return list(set(basis_set))\n",
    "\n",
    "## This will take in a basis set and a message's tokens\n",
    "## and return the bow numpy array (vector)\n",
    "def get_bow_vector(tokens, basis_set):\n",
    "    token_dict = {}\n",
    "    \n",
    "    for token in basis_set:\n",
    "        token_dict[token] = 0 \n",
    "    \n",
    "    for token in tokens:\n",
    "        token_dict[token] = token_dict[token] + 1\n",
    "        \n",
    "    return np.array(list(token_dict.values()))"
   ]
  },
  {
   "cell_type": "code",
   "execution_count": 15,
   "id": "d0d531f5",
   "metadata": {},
   "outputs": [],
   "source": [
    "# we'll first record all words used\n",
    "# across the corpus\n",
    "token_lists = []\n",
    "\n",
    "# for each text in the corpus\n",
    "for text in CPP:\n",
    "    # append a list of tokens\n",
    "    token_lists.append([word.lower() for word in tokenizer.tokenize(text) if word.lower() not in stop])"
   ]
  },
  {
   "cell_type": "code",
   "execution_count": 16,
   "id": "d30202e4",
   "metadata": {},
   "outputs": [
    {
     "data": {
      "text/plain": [
       "39625"
      ]
     },
     "execution_count": 16,
     "metadata": {},
     "output_type": "execute_result"
    }
   ],
   "source": [
    "len(token_lists[2])"
   ]
  },
  {
   "cell_type": "code",
   "execution_count": 17,
   "id": "dea13573",
   "metadata": {},
   "outputs": [],
   "source": [
    "# now we'll get the words bow basis set\n",
    "words_bow_basis = get_bow_basis(token_lists)"
   ]
  },
  {
   "cell_type": "code",
   "execution_count": 18,
   "id": "a132a37e",
   "metadata": {},
   "outputs": [
    {
     "data": {
      "text/plain": [
       "['ercot_monthly_operational_overview_201409',\n",
       " 'theoretically',\n",
       " 'marketplace',\n",
       " 'johan',\n",
       " 'commentresponse',\n",
       " 'absolutely',\n",
       " 'arl',\n",
       " 'lzn',\n",
       " 'bingaman',\n",
       " 'reliabilltv',\n",
       " 'useof',\n",
       " 'iforni',\n",
       " 'l4',\n",
       " 'bottoms',\n",
       " 'co13o1',\n",
       " 'dircctly',\n",
       " 'textual',\n",
       " 'truction',\n",
       " 'pellow',\n",
       " 'circumference',\n",
       " '2591',\n",
       " '2iii',\n",
       " 'specter',\n",
       " '2011_media_e',\n",
       " 'procured',\n",
       " 'eaux',\n",
       " 'werner',\n",
       " 'corresponds',\n",
       " '10769',\n",
       " 'iarrisburg',\n",
       " 'shaded',\n",
       " 'tiernan',\n",
       " 'granicus',\n",
       " 'reliabiiity',\n",
       " 'pile',\n",
       " 'absorbers',\n",
       " 'usxu',\n",
       " 'realizable',\n",
       " 'breach',\n",
       " 'mthly',\n",
       " 'protesting',\n",
       " 'penalize',\n",
       " 'deinked',\n",
       " 'aaicae',\n",
       " 'savings25',\n",
       " 'amo',\n",
       " 'level',\n",
       " '9163',\n",
       " 'georgians',\n",
       " 'cuof',\n",
       " 'kempthorne',\n",
       " 'preaching',\n",
       " 'viii',\n",
       " 'approches',\n",
       " 's886v7',\n",
       " 'propensity',\n",
       " 'california',\n",
       " 'roberto',\n",
       " 'oummk',\n",
       " 'conclusion',\n",
       " 'added',\n",
       " 'mwhnet',\n",
       " 'inforfrtation',\n",
       " 'misapplication',\n",
       " 'vp',\n",
       " 'contemplating',\n",
       " 'shadow',\n",
       " 'jinmei',\n",
       " '4105',\n",
       " 'goods',\n",
       " '2nz',\n",
       " 'nielson',\n",
       " 'adoptant',\n",
       " 'overflow',\n",
       " 'recommends',\n",
       " 'incinerated',\n",
       " 'socialized',\n",
       " 'pathways',\n",
       " 'corroborated',\n",
       " 'next',\n",
       " 'illogically',\n",
       " 'mco0co',\n",
       " '1l1',\n",
       " 'wbualtkienrs',\n",
       " 'emotional',\n",
       " 'requesting',\n",
       " 'cms',\n",
       " 'nuances',\n",
       " 'imbalance',\n",
       " '16029',\n",
       " 'pins',\n",
       " 'motivations',\n",
       " 'foundry',\n",
       " 'dt',\n",
       " 'targets117',\n",
       " 'flout',\n",
       " '2030s',\n",
       " 'aes',\n",
       " 'ch1',\n",
       " 'rats',\n",
       " 'trivial',\n",
       " 'perturbations',\n",
       " 'nicholas',\n",
       " 'vault',\n",
       " 'styled',\n",
       " 'w12ua',\n",
       " 'cooled',\n",
       " 'restrict',\n",
       " 'dorling',\n",
       " 'mhd',\n",
       " '2020',\n",
       " '1cloo',\n",
       " 'mace',\n",
       " 'reviewer',\n",
       " 'repository',\n",
       " '20evaluation',\n",
       " 'conventlon',\n",
       " 'barrier',\n",
       " 'bargained',\n",
       " 'osorio',\n",
       " 'carbon_sequestration',\n",
       " 'ml1f',\n",
       " 'frequencies',\n",
       " 'predominantly',\n",
       " 'ansnuclearcafe',\n",
       " 'c6',\n",
       " 'produire',\n",
       " 'tacsos2eessinm2e0n2t0o',\n",
       " 'shawville',\n",
       " 'ocn0',\n",
       " 'assessments32',\n",
       " 'meat',\n",
       " 'generation238',\n",
       " '6194',\n",
       " 'hp',\n",
       " 'homegrown',\n",
       " 'icc',\n",
       " '60',\n",
       " 'flagrantly',\n",
       " 'energyrightsolutions',\n",
       " 'commendation',\n",
       " 'treadmill',\n",
       " 'frcc_fl_combined',\n",
       " 'ch',\n",
       " 'commodity_flow_survey',\n",
       " 'physieal',\n",
       " 'mpacts_adaptation_and_vulnerability',\n",
       " 't0t0',\n",
       " 'cfnmmvna0vn0av01',\n",
       " '771',\n",
       " '978',\n",
       " 'colum',\n",
       " 'rnaintaining',\n",
       " '4500',\n",
       " 'compars',\n",
       " 'wrongfully',\n",
       " 'sjs',\n",
       " 'recongized',\n",
       " 'spurs',\n",
       " 'copies',\n",
       " 'indiantow',\n",
       " 'inflationary',\n",
       " 'colder',\n",
       " 'emailed',\n",
       " 'bordering',\n",
       " '20egu',\n",
       " 'yae',\n",
       " 'iam',\n",
       " 'tyree',\n",
       " 'solicitor',\n",
       " '0ooo',\n",
       " 'providc',\n",
       " 'siting',\n",
       " '655',\n",
       " 'conform',\n",
       " '8222',\n",
       " '_like_new_epa_emissions_controls_but_say_congress_needs_to_ok_first',\n",
       " '000661',\n",
       " 'strontium',\n",
       " 'carr',\n",
       " 'tds',\n",
       " 'stainless',\n",
       " 'coohg7o23n',\n",
       " 'facilities6',\n",
       " 'candidly',\n",
       " 'banana',\n",
       " 'charting',\n",
       " 'caus',\n",
       " 'davidson',\n",
       " 'doray',\n",
       " 'aromatic',\n",
       " 'hosted',\n",
       " 'reporter',\n",
       " 'constniction',\n",
       " 'herbert',\n",
       " 'policymaking',\n",
       " '20sawg',\n",
       " 'richland',\n",
       " '20301',\n",
       " 'productionlfirles',\n",
       " 'schwartz',\n",
       " 'northshore',\n",
       " '239195664',\n",
       " 'lorie',\n",
       " 'easement',\n",
       " '1410',\n",
       " 'guests',\n",
       " 'fifteenfold',\n",
       " 'sess117_2007',\n",
       " 'viewed',\n",
       " 'prof',\n",
       " 'lnon',\n",
       " 'evincing',\n",
       " 'occurs',\n",
       " 'egufocused',\n",
       " 'eew',\n",
       " 'places',\n",
       " 'gblwrm',\n",
       " 'thp',\n",
       " 'ojtne',\n",
       " 'ngos',\n",
       " 'ehrlichiosis',\n",
       " '8753',\n",
       " '95mw',\n",
       " 'capandtrade12',\n",
       " '1853',\n",
       " 'tolman',\n",
       " 'energyefhciency',\n",
       " 'dilute',\n",
       " '0801',\n",
       " 'ant',\n",
       " 'aiuu',\n",
       " 'thesereasons',\n",
       " 'physically',\n",
       " 'christmas',\n",
       " 'seven',\n",
       " 'ghgerf_year',\n",
       " 'item',\n",
       " 'operator',\n",
       " '25120',\n",
       " 'wheatland',\n",
       " 'iz',\n",
       " 'inoe',\n",
       " 'wjuwxojwuwsxojwuwx2o_wuwx1oowuwxj0owuwxjoswuwxjoswuwxjo',\n",
       " '832',\n",
       " 'fapri',\n",
       " 'ho',\n",
       " 'travel',\n",
       " 'df',\n",
       " 'oaqps',\n",
       " 'submittal',\n",
       " 'machinery',\n",
       " 'murky',\n",
       " 'anh',\n",
       " 'varg',\n",
       " 'm0v0',\n",
       " 'ores',\n",
       " 'awash',\n",
       " 'leastpreferred',\n",
       " 'plymouth',\n",
       " 'coneeded',\n",
       " 'tones',\n",
       " 'csmyt',\n",
       " 'prod',\n",
       " 'immediate',\n",
       " 't0p0',\n",
       " 'bridge',\n",
       " 'alabama_power_purchases_electr',\n",
       " 'pyet',\n",
       " '210',\n",
       " 'tccfo',\n",
       " '9ssessrnent',\n",
       " 'adminis',\n",
       " '9800',\n",
       " 'recomrnendations',\n",
       " 'landmarks',\n",
       " 'premire',\n",
       " 'puunene',\n",
       " '20list',\n",
       " 'introduces',\n",
       " '20lbnl',\n",
       " 'evade',\n",
       " 'ozegon',\n",
       " 'johnstone',\n",
       " 'glucose',\n",
       " 'atthe',\n",
       " 'regilation',\n",
       " 'discreet',\n",
       " 'qubec',\n",
       " 'cj7n',\n",
       " '201633',\n",
       " 'signiticant',\n",
       " '7661a',\n",
       " 'v7',\n",
       " 'esbc',\n",
       " 'spiked',\n",
       " 'chadel',\n",
       " 'estandards',\n",
       " '_gool',\n",
       " 'logistic',\n",
       " 'picture',\n",
       " 'shthhn',\n",
       " 'envtl',\n",
       " 'cashed',\n",
       " '2392',\n",
       " 'altitudes',\n",
       " 'antibacksliding',\n",
       " 'decomposed',\n",
       " 'a203o',\n",
       " 'yuma',\n",
       " 'fluorinated',\n",
       " 'upgrades',\n",
       " 'reluctance',\n",
       " 'activities11',\n",
       " '34901',\n",
       " 'drawdown',\n",
       " 'filexlsx',\n",
       " 'downward',\n",
       " 'enlightened',\n",
       " 'understate',\n",
       " 'provisions',\n",
       " 'of9',\n",
       " 'epamail',\n",
       " 'dollars',\n",
       " 'deely',\n",
       " 'zeolite',\n",
       " 'recolnmends',\n",
       " 'lieu',\n",
       " 'sheer',\n",
       " 'stateimpact',\n",
       " 'driessen',\n",
       " 'skoumal',\n",
       " 'carpooling',\n",
       " 'appended',\n",
       " 'profit',\n",
       " '5202014',\n",
       " '2ka2ka2',\n",
       " 'fstate',\n",
       " 'yv',\n",
       " 'foundationfor',\n",
       " 'rehabilitate',\n",
       " 'chestnuts',\n",
       " 'kivisto',\n",
       " 'hedren',\n",
       " 'guideliries',\n",
       " 'manuals',\n",
       " 'fy11_',\n",
       " 'disconnection',\n",
       " 'memorandumpower',\n",
       " '725',\n",
       " 'gca',\n",
       " 'chy',\n",
       " 'admonishes',\n",
       " 'cidt',\n",
       " 'kavullat',\n",
       " 'counteracting',\n",
       " 'tcf3o',\n",
       " 'sonecon',\n",
       " 'suffolk',\n",
       " '97th',\n",
       " 'orl',\n",
       " 'enforceability4',\n",
       " '342',\n",
       " 'alex',\n",
       " 'syr',\n",
       " 'tcj',\n",
       " '1360',\n",
       " 'plantspecific',\n",
       " 'homepage',\n",
       " 'contend',\n",
       " 'fdic',\n",
       " '1381',\n",
       " '49741',\n",
       " 'addressed',\n",
       " 'tobacco',\n",
       " 'contextuallyappropriate',\n",
       " 'aet',\n",
       " 'sou',\n",
       " 'fleets',\n",
       " 'qoa',\n",
       " 'subscribe',\n",
       " 'abundance',\n",
       " 'whisner',\n",
       " '25040',\n",
       " 'games',\n",
       " 'energyinfrastructure',\n",
       " 'stranding',\n",
       " 'armenia',\n",
       " '1124',\n",
       " 'synchrophasors',\n",
       " '450',\n",
       " 'contaminants',\n",
       " 'eestats',\n",
       " '49092',\n",
       " 'gang',\n",
       " 'nccc',\n",
       " 'coalwill',\n",
       " '17508',\n",
       " 'notify',\n",
       " '7588',\n",
       " 'shortfalls',\n",
       " 'sflb',\n",
       " '20proposed',\n",
       " 'breezy',\n",
       " 'tangential',\n",
       " 'considrablement',\n",
       " 'sulfite',\n",
       " '2201r4e',\n",
       " '21_think_epa_actions_help_the_economy',\n",
       " 'mouseholes',\n",
       " 'uncoordinated',\n",
       " 'sweeney',\n",
       " 'cultivation',\n",
       " 'unlawfulness',\n",
       " 'pl',\n",
       " '20plan',\n",
       " 'iva',\n",
       " 'gelman',\n",
       " 'pederalist',\n",
       " 'arm',\n",
       " 'fond',\n",
       " 'lippke',\n",
       " 'wrcc',\n",
       " 'thereinwithout',\n",
       " 'b2',\n",
       " '091514',\n",
       " 'different',\n",
       " 'interagency',\n",
       " 'toimport',\n",
       " 'cambi',\n",
       " '1167',\n",
       " 'aiu',\n",
       " 'covoavm',\n",
       " 'duration',\n",
       " 'caulton',\n",
       " 'resistance',\n",
       " '0n0j1tidlu',\n",
       " '001l0cw',\n",
       " 'biock',\n",
       " 'cccccececceseeceeccee',\n",
       " 'tbisy',\n",
       " 'niche',\n",
       " '0611',\n",
       " 'nervous',\n",
       " 'escalate',\n",
       " 'duit',\n",
       " 'legend',\n",
       " 'terrific',\n",
       " 'hitp',\n",
       " 'remagazine',\n",
       " 'realtime',\n",
       " 'rejed',\n",
       " 'goad',\n",
       " 'moderates',\n",
       " 'impending',\n",
       " 'appalachia',\n",
       " 'f4b',\n",
       " 'vj',\n",
       " '2010100705',\n",
       " 'eases',\n",
       " 'certifies',\n",
       " 'flattens',\n",
       " 'resumes',\n",
       " 'uk11',\n",
       " 'debottleneck',\n",
       " 'rearrange',\n",
       " 'ha',\n",
       " '34925',\n",
       " 'dearth',\n",
       " 'indicators',\n",
       " 'delineation',\n",
       " 'derek',\n",
       " 'resurgence',\n",
       " '2012_air_tables__all_tables_final_',\n",
       " 'commentors',\n",
       " 'xwna',\n",
       " 'slcps',\n",
       " 'unadj',\n",
       " 'olrd',\n",
       " '34927',\n",
       " 'ntua',\n",
       " 'energy_flow_2012',\n",
       " 'upending',\n",
       " 'ftes',\n",
       " 'bioprod',\n",
       " 'znhza',\n",
       " 'collaborations',\n",
       " 'alabama_power_expects_higher_e',\n",
       " 'oolmnr',\n",
       " 'mosquito',\n",
       " 'hastingsutilities',\n",
       " 'integrator',\n",
       " 'closed',\n",
       " '9b',\n",
       " 'fir',\n",
       " 'j3o',\n",
       " 'westerling_fire08',\n",
       " 'injure',\n",
       " 'andfuture',\n",
       " '_nzv',\n",
       " 'reproducibility',\n",
       " '203000',\n",
       " 'attested',\n",
       " 'sprucemountain',\n",
       " 'hedg',\n",
       " 'stroebel',\n",
       " 'westphal',\n",
       " 'reconfirmed',\n",
       " 'higbee',\n",
       " '54276',\n",
       " '086',\n",
       " 'quota',\n",
       " 'fill',\n",
       " 'convey',\n",
       " 'telecomms',\n",
       " 'storck',\n",
       " 'disclosing',\n",
       " 'diverts',\n",
       " 'professional',\n",
       " '0234',\n",
       " 'kats',\n",
       " 'diabetes',\n",
       " 'qov',\n",
       " 'iberdrolaidafn0316807320110503',\n",
       " 'bepc',\n",
       " 'inadvertence',\n",
       " 'ut',\n",
       " '7602',\n",
       " 'disallows',\n",
       " 'joco',\n",
       " 'rybka',\n",
       " 'etacc',\n",
       " 'determ',\n",
       " '20web',\n",
       " '4315',\n",
       " '24051236v1',\n",
       " '101213_hitzewellen_paper_ga',\n",
       " 'uxz0u0z0uz0uuz0u0z0u20u0z0u0z0uzouozouozouzuuoz',\n",
       " 'mckown',\n",
       " '9ydeo',\n",
       " '6carbon',\n",
       " '1094',\n",
       " 'proceeding',\n",
       " 'hasler',\n",
       " 'decisionmakers',\n",
       " 'to40',\n",
       " 'blackwater',\n",
       " '1uo',\n",
       " '3percent',\n",
       " '20point',\n",
       " 'nmperwov',\n",
       " '372',\n",
       " 'lumpy',\n",
       " 'extrapolates',\n",
       " '4160',\n",
       " '55percent',\n",
       " 'll_rates_',\n",
       " 'fc0',\n",
       " 'target_1_report_final_draft_4apr14',\n",
       " 'ejseat',\n",
       " 'holtec',\n",
       " 'inevitable',\n",
       " 'onesize',\n",
       " 'speciftc',\n",
       " 'specialists',\n",
       " 'fit',\n",
       " 'c0700cnlq0',\n",
       " '1648',\n",
       " '56290',\n",
       " '20130920proposal',\n",
       " 'joughin',\n",
       " 'simulates',\n",
       " '7he',\n",
       " '3f',\n",
       " 'coal11',\n",
       " '3214',\n",
       " 'excessive',\n",
       " 'oeq',\n",
       " 'manchin',\n",
       " 'y5tx',\n",
       " 'capitalizing',\n",
       " '34905',\n",
       " 'englewood',\n",
       " 'ted',\n",
       " 'aqi',\n",
       " 'ycmh',\n",
       " 'user',\n",
       " 'cheerleading',\n",
       " 'analogue',\n",
       " 'indistinguishable',\n",
       " 'clee',\n",
       " 'atlempt',\n",
       " 'relateto',\n",
       " 'esrahli',\n",
       " 'issued',\n",
       " 'reconstucted',\n",
       " 'ghgemissions',\n",
       " 'abundantly',\n",
       " '616',\n",
       " '1324b',\n",
       " 'vociferous',\n",
       " 'easures',\n",
       " 'ulwleaa',\n",
       " 'reisinger',\n",
       " 'tak',\n",
       " 'dictateswhat',\n",
       " 'tare',\n",
       " 'l_o',\n",
       " '992',\n",
       " 'webbased',\n",
       " 'axwuaa',\n",
       " 'senators',\n",
       " 'biofucls',\n",
       " 'swap',\n",
       " '5480',\n",
       " 'library',\n",
       " 'duped',\n",
       " 'wwsxjv',\n",
       " 'amework',\n",
       " 'unsubstantiated',\n",
       " 'transposable',\n",
       " 'definitive',\n",
       " 'talking',\n",
       " 'oversteps',\n",
       " 'bsis',\n",
       " 'lavatory',\n",
       " 'f_',\n",
       " '28120',\n",
       " 'rule40',\n",
       " 'repudiates',\n",
       " 'pian',\n",
       " 'uen',\n",
       " 'incapable',\n",
       " '4d21',\n",
       " '586006',\n",
       " 'yt',\n",
       " 'bicycle',\n",
       " 'au',\n",
       " 'disc',\n",
       " 'h2515',\n",
       " 'smart',\n",
       " 'jie',\n",
       " 'employees',\n",
       " 'ycc',\n",
       " 'haze',\n",
       " 'endusers',\n",
       " 'looking',\n",
       " 'gtanting',\n",
       " 'laer',\n",
       " 'ifan',\n",
       " 'ej_guidance_nepa_ceq',\n",
       " 'fhereinafter',\n",
       " 'ucture',\n",
       " 'friend',\n",
       " 'heard',\n",
       " 'ujxwoaujxw',\n",
       " 'lu0',\n",
       " 'oblige',\n",
       " 'occurred15',\n",
       " 'relation',\n",
       " 'soil',\n",
       " '6213',\n",
       " 'produce',\n",
       " 'infrastrueture',\n",
       " 'nominally',\n",
       " 'dietary',\n",
       " '846',\n",
       " 'resourcesolutions',\n",
       " 'sand',\n",
       " '205the',\n",
       " 'rggi57',\n",
       " 'jn',\n",
       " 'adventurous',\n",
       " 'luoiweb',\n",
       " 'respiratory',\n",
       " 'gw',\n",
       " 'particle',\n",
       " 'facets',\n",
       " 'shading',\n",
       " 'manhattan30oct43',\n",
       " 'achievethesegoals',\n",
       " 'totalling',\n",
       " 'dulce',\n",
       " '20environmental',\n",
       " 'ymcdn',\n",
       " 'caseby',\n",
       " 'equip',\n",
       " 'hvdc',\n",
       " 'stops',\n",
       " 'wyg2',\n",
       " 'merp',\n",
       " '58501',\n",
       " 'xisx',\n",
       " 'corridor',\n",
       " 'thespeowacetriosnecptolarnus',\n",
       " 'pcl',\n",
       " 'mckinzie',\n",
       " '5l7',\n",
       " 'frances',\n",
       " 'arrange',\n",
       " 'biortech',\n",
       " 'eliminated',\n",
       " 'hud',\n",
       " 'ininois',\n",
       " '3468',\n",
       " '173it',\n",
       " 'azdeq',\n",
       " '55epa',\n",
       " 'hundredths',\n",
       " 'bcl',\n",
       " 'toxics',\n",
       " '53e86e050c7a495a9cc84f9778balf10',\n",
       " 'behavioral',\n",
       " '2v',\n",
       " 'frosch',\n",
       " '20codes',\n",
       " 'experiences',\n",
       " 'bushings',\n",
       " 'ortonville',\n",
       " 'concurs',\n",
       " 'gadsden',\n",
       " 'tanners',\n",
       " 'powergenerating',\n",
       " 'mixes',\n",
       " 'helpless',\n",
       " 'supposes',\n",
       " 'har_11',\n",
       " 'sj',\n",
       " '2358',\n",
       " 'attenuation',\n",
       " 'mnrc',\n",
       " 'vlllocz',\n",
       " '95294',\n",
       " 't03',\n",
       " 'marketable',\n",
       " 'wjuowjovowjou',\n",
       " 'kingdom',\n",
       " 'exacerbations',\n",
       " 'wregis',\n",
       " 'doubleregulation',\n",
       " 'annual_generation_state',\n",
       " '166',\n",
       " 'tools',\n",
       " 'delta',\n",
       " 'mr1',\n",
       " 'minimizing',\n",
       " 'aleetrie',\n",
       " 'looms',\n",
       " '24876',\n",
       " '3456',\n",
       " 'snix',\n",
       " 'nmt0',\n",
       " 'sensible',\n",
       " 'ifthe',\n",
       " 'emissions54',\n",
       " 'spawned',\n",
       " 'authorize',\n",
       " 'kenaf',\n",
       " 'enkvist',\n",
       " 'greellliouse',\n",
       " 'nowak',\n",
       " 'c0zc0zc0zc0zc0zco',\n",
       " 'counterbalance',\n",
       " 'net',\n",
       " 'finder',\n",
       " '5551',\n",
       " 'emphasize',\n",
       " '4054',\n",
       " 'dismiss',\n",
       " 'exempted',\n",
       " 'relinquishing',\n",
       " 'renner',\n",
       " 'levelized',\n",
       " 'strangers',\n",
       " 'leonardi',\n",
       " 'ucr',\n",
       " 'ittle',\n",
       " 'network',\n",
       " 'wec_ladw_ca_combined',\n",
       " 'multiphase',\n",
       " 'cannibal',\n",
       " 'stricter',\n",
       " '676',\n",
       " 'final_docs',\n",
       " 'barrasso_clean_air_',\n",
       " 'apsc',\n",
       " 'stalks',\n",
       " 'lwj',\n",
       " '1218',\n",
       " 'ukeiley',\n",
       " 'sanchez',\n",
       " 'transmissionto',\n",
       " 'integratingelec',\n",
       " 'bro',\n",
       " 'aia',\n",
       " 'execution',\n",
       " 'tornado',\n",
       " '54211',\n",
       " 'stateenforceable',\n",
       " 'morlighem',\n",
       " 'tmw',\n",
       " '7502',\n",
       " 'quickly',\n",
       " 'atm',\n",
       " 'conception',\n",
       " 'nwmhmmn0n0w',\n",
       " 'orvc',\n",
       " 'ecofys',\n",
       " 'classifications',\n",
       " 'aana',\n",
       " 'tarlock',\n",
       " 'nonbypassable',\n",
       " 'name13',\n",
       " 'redeemable',\n",
       " '54101',\n",
       " 'percent20final',\n",
       " 'appr',\n",
       " 'relationship',\n",
       " 'linked',\n",
       " 'providing',\n",
       " 'piping',\n",
       " 'edisonfoundation',\n",
       " 'nrdc_retrofit_report_productionrev_071714',\n",
       " '20142',\n",
       " 'matt',\n",
       " 'grail',\n",
       " 'init',\n",
       " '1996',\n",
       " 'principal',\n",
       " 'omi',\n",
       " 'age',\n",
       " 'gi',\n",
       " '25b',\n",
       " 'tudes',\n",
       " 'mast',\n",
       " 'displaces',\n",
       " '14670',\n",
       " 'unfairly',\n",
       " 'termination',\n",
       " 'customerfunded',\n",
       " 'steep',\n",
       " 'dua',\n",
       " 'sutley',\n",
       " '541',\n",
       " 'millennia',\n",
       " 'loads',\n",
       " '1082',\n",
       " '048',\n",
       " 's9eose',\n",
       " 'souces',\n",
       " '20exis',\n",
       " 'ironment',\n",
       " '1nfj',\n",
       " 'sharief',\n",
       " '820',\n",
       " '2ajdd',\n",
       " 'scitech',\n",
       " '2013jd021272',\n",
       " 'neighborhood',\n",
       " 'cabined',\n",
       " '28848062',\n",
       " 'of1',\n",
       " 'hemispheres',\n",
       " 'transient',\n",
       " 'reopelle',\n",
       " 'cole',\n",
       " '2857',\n",
       " 'gain',\n",
       " 'cont',\n",
       " 'yield',\n",
       " 'doc_financials',\n",
       " '20offshore',\n",
       " 'follett',\n",
       " 'shoshone',\n",
       " 'ceded',\n",
       " 'losing',\n",
       " '4557',\n",
       " 'haley',\n",
       " 'adaptive',\n",
       " 'nopas',\n",
       " 'chinn',\n",
       " 't00',\n",
       " '_zno',\n",
       " 'cunis',\n",
       " '556601',\n",
       " 'organizations',\n",
       " 'ripen',\n",
       " '140mw',\n",
       " 'awareness',\n",
       " '34833',\n",
       " 'environmentcommunity',\n",
       " 'ateas',\n",
       " 'i6n',\n",
       " 'elechic',\n",
       " 'programrelated',\n",
       " 'denial',\n",
       " 'r1302008',\n",
       " '21603',\n",
       " 'transformations',\n",
       " 'nuoxw',\n",
       " 'carbondioxide',\n",
       " 'cnlnn',\n",
       " 'populations4',\n",
       " '486',\n",
       " 'heartland',\n",
       " 'tire',\n",
       " 'per20130004',\n",
       " 'coaland',\n",
       " 'permitting',\n",
       " 'payroll',\n",
       " 'w_',\n",
       " 'nonspecific',\n",
       " 'cwoacc',\n",
       " 'promulgate',\n",
       " '6358',\n",
       " 'tracked',\n",
       " 'ged',\n",
       " 'decomposition',\n",
       " '2794',\n",
       " 'vz',\n",
       " 'ecology',\n",
       " 'virtue',\n",
       " '6113',\n",
       " 'relied',\n",
       " 'navaj',\n",
       " 'ecocomplex',\n",
       " 'planncd',\n",
       " 'cvr',\n",
       " 'concreteness',\n",
       " 'describing',\n",
       " 'gws',\n",
       " 'tipsheet',\n",
       " '20upton',\n",
       " '1000',\n",
       " 'cartelization',\n",
       " 'documenttitle',\n",
       " '6007',\n",
       " 'inputling',\n",
       " 'allotted',\n",
       " 'breakthroughs',\n",
       " 'profiles',\n",
       " 'rets',\n",
       " '56224',\n",
       " '1166',\n",
       " 'extranet',\n",
       " '317',\n",
       " '1490',\n",
       " 'michigan',\n",
       " 'implementation',\n",
       " '74il',\n",
       " 'generationrecords',\n",
       " '2fair',\n",
       " '3159',\n",
       " 'tristart',\n",
       " 'suspends',\n",
       " 'outweighed',\n",
       " '4627181',\n",
       " 'nera',\n",
       " 'april',\n",
       " 'revolving',\n",
       " 'wisconsin',\n",
       " '5ma',\n",
       " '1408',\n",
       " 'shail',\n",
       " 'ro',\n",
       " 'protectionagencys',\n",
       " 'eorrelated',\n",
       " '52t',\n",
       " 'indiantown',\n",
       " '20number',\n",
       " 'ctgs',\n",
       " 'primarily',\n",
       " '39773',\n",
       " 'lohmann',\n",
       " 'iviwh',\n",
       " 'ltc',\n",
       " 'concocted',\n",
       " '709',\n",
       " 'ferguson',\n",
       " '253738',\n",
       " 'emvforum',\n",
       " 'bruce_burton',\n",
       " 'report187',\n",
       " 'factory',\n",
       " 'beyond',\n",
       " 'onslaught',\n",
       " 'patrick',\n",
       " '1803',\n",
       " '16u',\n",
       " 'mow',\n",
       " 'transmission608',\n",
       " 'generation242',\n",
       " 'satchwell',\n",
       " 'goals265',\n",
       " 'plan_0',\n",
       " 'bubbles',\n",
       " 'liidavtw',\n",
       " 'abengoasolar',\n",
       " 'lls',\n",
       " 'sewer',\n",
       " ...]"
      ]
     },
     "execution_count": 18,
     "metadata": {},
     "output_type": "execute_result"
    }
   ],
   "source": [
    "words_bow_basis"
   ]
  },
  {
   "cell_type": "code",
   "execution_count": 19,
   "id": "102197ad",
   "metadata": {},
   "outputs": [],
   "source": [
    "# Now we'll make our bow word count matrix\n",
    "doc_term = np.zeros((len(CPP), len(words_bow_basis)))\n",
    "\n",
    "# for each document in the corpus\n",
    "for i in range(len(CPP)):\n",
    "    # get the word count vector\n",
    "    doc_term[i,:] = get_bow_vector(token_lists[i], words_bow_basis)"
   ]
  },
  {
   "cell_type": "code",
   "execution_count": 20,
   "id": "5b6f0f2c",
   "metadata": {},
   "outputs": [
    {
     "data": {
      "text/plain": [
       "array([[0., 0., 2., ..., 0., 0., 1.],\n",
       "       [0., 0., 0., ..., 0., 0., 0.],\n",
       "       [0., 0., 6., ..., 0., 0., 1.],\n",
       "       ...,\n",
       "       [0., 0., 0., ..., 0., 0., 0.],\n",
       "       [0., 0., 0., ..., 0., 0., 0.],\n",
       "       [0., 0., 0., ..., 0., 0., 0.]])"
      ]
     },
     "execution_count": 20,
     "metadata": {},
     "output_type": "execute_result"
    }
   ],
   "source": [
    "doc_term"
   ]
  },
  {
   "cell_type": "code",
   "execution_count": 21,
   "id": "fe70b9f5",
   "metadata": {},
   "outputs": [],
   "source": [
    "### Word frequency\n",
    "\n",
    "# turn the word count vector into a frequency vector\n",
    "# This divides each row of the word count matrix (each document)\n",
    "# by it's row sum (how many words are in the document)\n",
    "doc_term_freq = doc_term/np.sum(doc_term,axis=1).reshape(-1,1)"
   ]
  },
  {
   "cell_type": "markdown",
   "id": "70f7e93d",
   "metadata": {},
   "source": [
    "### Word TF-IDF"
   ]
  },
  {
   "cell_type": "code",
   "execution_count": 22,
   "id": "491bdcb4",
   "metadata": {},
   "outputs": [],
   "source": [
    "# make the tfidf matrix\n",
    "document_frequencies = np.zeros(len(words_bow_basis))\n",
    "\n",
    "for j in range(len(words_bow_basis)):\n",
    "    for i in range(len(CPP)):\n",
    "        if doc_term[i,j] > 0:\n",
    "            document_frequencies[j] = document_frequencies[j] + 1\n",
    "            \n",
    "idfs = np.log10(2/document_frequencies)"
   ]
  },
  {
   "cell_type": "code",
   "execution_count": 23,
   "id": "3736d057",
   "metadata": {},
   "outputs": [],
   "source": [
    "# the tfidf matrix\n",
    "doc_term_tfidf = doc_term_freq*idfs"
   ]
  },
  {
   "cell_type": "markdown",
   "id": "0bd5c70f",
   "metadata": {},
   "source": [
    "### The TF-IDF Matrix will be the base for the bag of words approaches used in classification"
   ]
  },
  {
   "cell_type": "code",
   "execution_count": 24,
   "id": "73c98438",
   "metadata": {},
   "outputs": [
    {
     "data": {
      "text/plain": [
       "(261, 48261)"
      ]
     },
     "execution_count": 24,
     "metadata": {},
     "output_type": "execute_result"
    }
   ],
   "source": [
    "doc_term_tfidf.shape"
   ]
  },
  {
   "cell_type": "markdown",
   "id": "8f3efeb3",
   "metadata": {},
   "source": [
    "### Reading the tabular data with the categories"
   ]
  },
  {
   "cell_type": "markdown",
   "id": "cc576a61",
   "metadata": {},
   "source": [
    "#### The TF-IDF is the entire X matrix for the entire labeled corpus. Each hand-coded label (20 categories in total) can be used as individual target variables in the classification problem. This allows to explore a range of target variables that differ in the proportions of 1s and 0s, thus providing some options to train and test the classifiers on different real-world data. \n",
    "\n",
    "#### For this project, I will develop classifiers for three critical target variables: (a) the presence of discourse regarding the EPA's legal basis for developing this specific rule, (b) the presence of discourse regarding recognition of past investment in clean energy, and (c) the presence of discourse regarding environmental justice. \n",
    "\n",
    "#### The motivation for these target variables is twofold: first, they are important information for NGOs and think tanks that are involved in federal policymaking. Second, they are examples of balanced (b) and unbalanced (a,c) target variables: there are more 1s than 0s in a, whereas the opposite happens in c. "
   ]
  },
  {
   "cell_type": "code",
   "execution_count": 25,
   "id": "b6e94b02",
   "metadata": {},
   "outputs": [],
   "source": [
    "categories = pd.read_csv(\"C:/Users/holmf/Dropbox/Boot Camp_data project - Copy/Actor_attributes_CPP.csv\")"
   ]
  },
  {
   "cell_type": "code",
   "execution_count": 26,
   "id": "1ec6eb5f",
   "metadata": {},
   "outputs": [
    {
     "data": {
      "text/html": [
       "<div>\n",
       "<style scoped>\n",
       "    .dataframe tbody tr th:only-of-type {\n",
       "        vertical-align: middle;\n",
       "    }\n",
       "\n",
       "    .dataframe tbody tr th {\n",
       "        vertical-align: top;\n",
       "    }\n",
       "\n",
       "    .dataframe thead th {\n",
       "        text-align: right;\n",
       "    }\n",
       "</style>\n",
       "<table border=\"1\" class=\"dataframe\">\n",
       "  <thead>\n",
       "    <tr style=\"text-align: right;\">\n",
       "      <th></th>\n",
       "      <th>NAME</th>\n",
       "      <th>ORG_TYPE</th>\n",
       "      <th>Legal_basis</th>\n",
       "      <th>Methodology_calculations</th>\n",
       "      <th>Past_investments_credits</th>\n",
       "      <th>Cost to adapt to ru;e</th>\n",
       "      <th>Less_reliable</th>\n",
       "      <th>More_reliable</th>\n",
       "      <th>Withdraw</th>\n",
       "      <th>Economic_benefits</th>\n",
       "      <th>...</th>\n",
       "      <th>Health_costs</th>\n",
       "      <th>Timeline_compliance</th>\n",
       "      <th>Flexibility</th>\n",
       "      <th>Demand_response_programs</th>\n",
       "      <th>Technical_feasibility</th>\n",
       "      <th>Stringency_level</th>\n",
       "      <th>Justice</th>\n",
       "      <th>Special_treatment</th>\n",
       "      <th>Sum_args</th>\n",
       "      <th>Words</th>\n",
       "    </tr>\n",
       "  </thead>\n",
       "  <tbody>\n",
       "    <tr>\n",
       "      <th>0</th>\n",
       "      <td>60 Plus Association</td>\n",
       "      <td>Industry/commerce</td>\n",
       "      <td>1</td>\n",
       "      <td>0</td>\n",
       "      <td>0</td>\n",
       "      <td>1</td>\n",
       "      <td>1</td>\n",
       "      <td>0</td>\n",
       "      <td>0</td>\n",
       "      <td>0</td>\n",
       "      <td>...</td>\n",
       "      <td>0</td>\n",
       "      <td>0</td>\n",
       "      <td>0</td>\n",
       "      <td>0</td>\n",
       "      <td>0</td>\n",
       "      <td>0</td>\n",
       "      <td>0</td>\n",
       "      <td>0</td>\n",
       "      <td>5</td>\n",
       "      <td>13023</td>\n",
       "    </tr>\n",
       "    <tr>\n",
       "      <th>1</th>\n",
       "      <td>Adirondack Mountain Club</td>\n",
       "      <td>Environmental/climate</td>\n",
       "      <td>0</td>\n",
       "      <td>0</td>\n",
       "      <td>0</td>\n",
       "      <td>0</td>\n",
       "      <td>0</td>\n",
       "      <td>0</td>\n",
       "      <td>0</td>\n",
       "      <td>1</td>\n",
       "      <td>...</td>\n",
       "      <td>0</td>\n",
       "      <td>0</td>\n",
       "      <td>0</td>\n",
       "      <td>0</td>\n",
       "      <td>0</td>\n",
       "      <td>0</td>\n",
       "      <td>0</td>\n",
       "      <td>0</td>\n",
       "      <td>3</td>\n",
       "      <td>581</td>\n",
       "    </tr>\n",
       "    <tr>\n",
       "      <th>2</th>\n",
       "      <td>Advanced Energy Economy</td>\n",
       "      <td>Industry/commerce</td>\n",
       "      <td>0</td>\n",
       "      <td>1</td>\n",
       "      <td>0</td>\n",
       "      <td>0</td>\n",
       "      <td>0</td>\n",
       "      <td>1</td>\n",
       "      <td>0</td>\n",
       "      <td>1</td>\n",
       "      <td>...</td>\n",
       "      <td>0</td>\n",
       "      <td>1</td>\n",
       "      <td>1</td>\n",
       "      <td>1</td>\n",
       "      <td>0</td>\n",
       "      <td>0</td>\n",
       "      <td>0</td>\n",
       "      <td>0</td>\n",
       "      <td>7</td>\n",
       "      <td>42960</td>\n",
       "    </tr>\n",
       "    <tr>\n",
       "      <th>3</th>\n",
       "      <td>Advanced Energy Management Alliance</td>\n",
       "      <td>Think tank</td>\n",
       "      <td>0</td>\n",
       "      <td>0</td>\n",
       "      <td>0</td>\n",
       "      <td>0</td>\n",
       "      <td>0</td>\n",
       "      <td>0</td>\n",
       "      <td>0</td>\n",
       "      <td>0</td>\n",
       "      <td>...</td>\n",
       "      <td>0</td>\n",
       "      <td>0</td>\n",
       "      <td>0</td>\n",
       "      <td>1</td>\n",
       "      <td>0</td>\n",
       "      <td>0</td>\n",
       "      <td>0</td>\n",
       "      <td>0</td>\n",
       "      <td>1</td>\n",
       "      <td>4637</td>\n",
       "    </tr>\n",
       "    <tr>\n",
       "      <th>4</th>\n",
       "      <td>Air Permitting Forum</td>\n",
       "      <td>Citizen Group</td>\n",
       "      <td>1</td>\n",
       "      <td>0</td>\n",
       "      <td>0</td>\n",
       "      <td>0</td>\n",
       "      <td>0</td>\n",
       "      <td>0</td>\n",
       "      <td>0</td>\n",
       "      <td>0</td>\n",
       "      <td>...</td>\n",
       "      <td>0</td>\n",
       "      <td>0</td>\n",
       "      <td>1</td>\n",
       "      <td>0</td>\n",
       "      <td>1</td>\n",
       "      <td>0</td>\n",
       "      <td>0</td>\n",
       "      <td>0</td>\n",
       "      <td>3</td>\n",
       "      <td>3032</td>\n",
       "    </tr>\n",
       "  </tbody>\n",
       "</table>\n",
       "<p>5 rows × 24 columns</p>\n",
       "</div>"
      ],
      "text/plain": [
       "                                  NAME               ORG_TYPE  Legal_basis  \\\n",
       "0                  60 Plus Association      Industry/commerce            1   \n",
       "1             Adirondack Mountain Club  Environmental/climate            0   \n",
       "2              Advanced Energy Economy      Industry/commerce            0   \n",
       "3  Advanced Energy Management Alliance             Think tank            0   \n",
       "4                 Air Permitting Forum          Citizen Group            1   \n",
       "\n",
       "   Methodology_calculations  Past_investments_credits  Cost to adapt to ru;e  \\\n",
       "0                         0                         0                      1   \n",
       "1                         0                         0                      0   \n",
       "2                         1                         0                      0   \n",
       "3                         0                         0                      0   \n",
       "4                         0                         0                      0   \n",
       "\n",
       "   Less_reliable  More_reliable  Withdraw  Economic_benefits  ...  \\\n",
       "0              1              0         0                  0  ...   \n",
       "1              0              0         0                  1  ...   \n",
       "2              0              1         0                  1  ...   \n",
       "3              0              0         0                  0  ...   \n",
       "4              0              0         0                  0  ...   \n",
       "\n",
       "   Health_costs  Timeline_compliance  Flexibility  Demand_response_programs  \\\n",
       "0             0                    0            0                         0   \n",
       "1             0                    0            0                         0   \n",
       "2             0                    1            1                         1   \n",
       "3             0                    0            0                         1   \n",
       "4             0                    0            1                         0   \n",
       "\n",
       "   Technical_feasibility  Stringency_level  Justice  Special_treatment  \\\n",
       "0                      0                 0        0                  0   \n",
       "1                      0                 0        0                  0   \n",
       "2                      0                 0        0                  0   \n",
       "3                      0                 0        0                  0   \n",
       "4                      1                 0        0                  0   \n",
       "\n",
       "   Sum_args  Words  \n",
       "0         5  13023  \n",
       "1         3    581  \n",
       "2         7  42960  \n",
       "3         1   4637  \n",
       "4         3   3032  \n",
       "\n",
       "[5 rows x 24 columns]"
      ]
     },
     "execution_count": 26,
     "metadata": {},
     "output_type": "execute_result"
    }
   ],
   "source": [
    "categories.head(5)"
   ]
  },
  {
   "cell_type": "code",
   "execution_count": 27,
   "id": "1d2903af",
   "metadata": {},
   "outputs": [
    {
     "data": {
      "text/plain": [
       "261"
      ]
     },
     "execution_count": 27,
     "metadata": {},
     "output_type": "execute_result"
    }
   ],
   "source": [
    "len(categories)"
   ]
  },
  {
   "cell_type": "markdown",
   "id": "5ab42057",
   "metadata": {},
   "source": [
    "#### Target: a - legal basis for the development of the rule. "
   ]
  },
  {
   "cell_type": "code",
   "execution_count": 28,
   "id": "0f42d5fb",
   "metadata": {},
   "outputs": [],
   "source": [
    "legal = categories[[\"NAME\",\"Legal_basis\"]]"
   ]
  },
  {
   "cell_type": "code",
   "execution_count": 29,
   "id": "5404c27e",
   "metadata": {},
   "outputs": [
    {
     "data": {
      "text/html": [
       "<div>\n",
       "<style scoped>\n",
       "    .dataframe tbody tr th:only-of-type {\n",
       "        vertical-align: middle;\n",
       "    }\n",
       "\n",
       "    .dataframe tbody tr th {\n",
       "        vertical-align: top;\n",
       "    }\n",
       "\n",
       "    .dataframe thead th {\n",
       "        text-align: right;\n",
       "    }\n",
       "</style>\n",
       "<table border=\"1\" class=\"dataframe\">\n",
       "  <thead>\n",
       "    <tr style=\"text-align: right;\">\n",
       "      <th></th>\n",
       "      <th>NAME</th>\n",
       "      <th>Legal_basis</th>\n",
       "    </tr>\n",
       "  </thead>\n",
       "  <tbody>\n",
       "    <tr>\n",
       "      <th>0</th>\n",
       "      <td>60 Plus Association</td>\n",
       "      <td>1</td>\n",
       "    </tr>\n",
       "    <tr>\n",
       "      <th>1</th>\n",
       "      <td>Adirondack Mountain Club</td>\n",
       "      <td>0</td>\n",
       "    </tr>\n",
       "    <tr>\n",
       "      <th>2</th>\n",
       "      <td>Advanced Energy Economy</td>\n",
       "      <td>0</td>\n",
       "    </tr>\n",
       "    <tr>\n",
       "      <th>3</th>\n",
       "      <td>Advanced Energy Management Alliance</td>\n",
       "      <td>0</td>\n",
       "    </tr>\n",
       "    <tr>\n",
       "      <th>4</th>\n",
       "      <td>Air Permitting Forum</td>\n",
       "      <td>1</td>\n",
       "    </tr>\n",
       "  </tbody>\n",
       "</table>\n",
       "</div>"
      ],
      "text/plain": [
       "                                  NAME  Legal_basis\n",
       "0                  60 Plus Association            1\n",
       "1             Adirondack Mountain Club            0\n",
       "2              Advanced Energy Economy            0\n",
       "3  Advanced Energy Management Alliance            0\n",
       "4                 Air Permitting Forum            1"
      ]
     },
     "execution_count": 29,
     "metadata": {},
     "output_type": "execute_result"
    }
   ],
   "source": [
    "legal.head(5)"
   ]
  },
  {
   "cell_type": "code",
   "execution_count": 30,
   "id": "10417c89",
   "metadata": {},
   "outputs": [],
   "source": [
    "legal = legal.rename(columns={\"Legal_basis\": \"target\"})"
   ]
  },
  {
   "cell_type": "code",
   "execution_count": 31,
   "id": "20973d62",
   "metadata": {},
   "outputs": [
    {
     "data": {
      "text/html": [
       "<div>\n",
       "<style scoped>\n",
       "    .dataframe tbody tr th:only-of-type {\n",
       "        vertical-align: middle;\n",
       "    }\n",
       "\n",
       "    .dataframe tbody tr th {\n",
       "        vertical-align: top;\n",
       "    }\n",
       "\n",
       "    .dataframe thead th {\n",
       "        text-align: right;\n",
       "    }\n",
       "</style>\n",
       "<table border=\"1\" class=\"dataframe\">\n",
       "  <thead>\n",
       "    <tr style=\"text-align: right;\">\n",
       "      <th></th>\n",
       "      <th>NAME</th>\n",
       "      <th>target</th>\n",
       "    </tr>\n",
       "  </thead>\n",
       "  <tbody>\n",
       "    <tr>\n",
       "      <th>0</th>\n",
       "      <td>60 Plus Association</td>\n",
       "      <td>1</td>\n",
       "    </tr>\n",
       "    <tr>\n",
       "      <th>1</th>\n",
       "      <td>Adirondack Mountain Club</td>\n",
       "      <td>0</td>\n",
       "    </tr>\n",
       "    <tr>\n",
       "      <th>2</th>\n",
       "      <td>Advanced Energy Economy</td>\n",
       "      <td>0</td>\n",
       "    </tr>\n",
       "    <tr>\n",
       "      <th>3</th>\n",
       "      <td>Advanced Energy Management Alliance</td>\n",
       "      <td>0</td>\n",
       "    </tr>\n",
       "    <tr>\n",
       "      <th>4</th>\n",
       "      <td>Air Permitting Forum</td>\n",
       "      <td>1</td>\n",
       "    </tr>\n",
       "  </tbody>\n",
       "</table>\n",
       "</div>"
      ],
      "text/plain": [
       "                                  NAME  target\n",
       "0                  60 Plus Association       1\n",
       "1             Adirondack Mountain Club       0\n",
       "2              Advanced Energy Economy       0\n",
       "3  Advanced Energy Management Alliance       0\n",
       "4                 Air Permitting Forum       1"
      ]
     },
     "execution_count": 31,
     "metadata": {},
     "output_type": "execute_result"
    }
   ],
   "source": [
    "legal.head(5)"
   ]
  },
  {
   "cell_type": "code",
   "execution_count": 32,
   "id": "59aa331f",
   "metadata": {},
   "outputs": [
    {
     "data": {
      "text/plain": [
       "1    180\n",
       "0     81\n",
       "Name: target, dtype: int64"
      ]
     },
     "execution_count": 32,
     "metadata": {},
     "output_type": "execute_result"
    }
   ],
   "source": [
    "legal['target'].value_counts()"
   ]
  },
  {
   "cell_type": "code",
   "execution_count": 33,
   "id": "ecb1029c",
   "metadata": {},
   "outputs": [
    {
     "data": {
      "text/plain": [
       "(261, 48261)"
      ]
     },
     "execution_count": 33,
     "metadata": {},
     "output_type": "execute_result"
    }
   ],
   "source": [
    "doc_term_tfidf.shape"
   ]
  },
  {
   "cell_type": "code",
   "execution_count": 34,
   "id": "9e5a2363",
   "metadata": {},
   "outputs": [
    {
     "data": {
      "text/plain": [
       "(261, 2)"
      ]
     },
     "execution_count": 34,
     "metadata": {},
     "output_type": "execute_result"
    }
   ],
   "source": [
    "legal.shape"
   ]
  },
  {
   "cell_type": "code",
   "execution_count": 35,
   "id": "0c10e913",
   "metadata": {},
   "outputs": [
    {
     "data": {
      "image/png": "[encoded data removed]",
      "text/plain": [
       "<Figure size 1008x720 with 1 Axes>"
      ]
     },
     "metadata": {
      "needs_background": "light"
     },
     "output_type": "display_data"
    }
   ],
   "source": [
    "plt.figure(figsize=(14,10))\n",
    "plt.hist(categories['Words'], bins=30, rwidth=0.9,color='#609c8e')\n",
    "\n",
    "plt.title(\"Comment length\",fontsize=20)\n",
    "plt.ylabel(\"Frequency\",fontsize=16)\n",
    "plt.xlabel(\"Number of words\",fontsize=16)\n",
    "\n",
    "plt.savefig('C:/Users/holmf/Dropbox/Boot Camp_data project - Copy/Comment_length.png')\n",
    "\n",
    "plt.show()"
   ]
  },
  {
   "cell_type": "code",
   "execution_count": 36,
   "id": "9baac83e",
   "metadata": {},
   "outputs": [],
   "source": [
    "from sklearn.model_selection import train_test_split, cross_val_score, cross_val_predict, GridSearchCV, StratifiedKFold\n",
    "from sklearn.feature_extraction.text import TfidfVectorizer\n",
    "from sklearn.linear_model import SGDClassifier\n",
    "from sklearn.metrics import confusion_matrix, accuracy_score\n",
    "from sklearn.base import clone"
   ]
  },
  {
   "cell_type": "code",
   "execution_count": 37,
   "id": "6fae6bc8",
   "metadata": {},
   "outputs": [],
   "source": [
    "## Use these to compute accuracy, precision, and recall\n",
    "\n",
    "## Accuracy\n",
    "from sklearn.metrics import accuracy_score\n",
    "## Precision\n",
    "from sklearn.metrics import precision_score\n",
    "## Recall\n",
    "from sklearn.metrics import recall_score"
   ]
  },
  {
   "cell_type": "code",
   "execution_count": 38,
   "id": "65ad059a",
   "metadata": {},
   "outputs": [],
   "source": [
    "X_train_legal, X_test_legal, y_train_legal, y_test_legal = train_test_split(doc_term_tfidf, legal['target'], test_size=0.3, random_state=440,stratify=legal['target'])"
   ]
  },
  {
   "cell_type": "code",
   "execution_count": 39,
   "id": "6d28fdcd",
   "metadata": {},
   "outputs": [
    {
     "data": {
      "text/plain": [
       "95     0\n",
       "192    1\n",
       "138    1\n",
       "172    0\n",
       "20     0\n",
       "      ..\n",
       "74     1\n",
       "153    0\n",
       "225    1\n",
       "257    0\n",
       "160    0\n",
       "Name: target, Length: 182, dtype: int64"
      ]
     },
     "execution_count": 39,
     "metadata": {},
     "output_type": "execute_result"
    }
   ],
   "source": [
    "y_train_legal"
   ]
  },
  {
   "cell_type": "code",
   "execution_count": 40,
   "id": "24091a60",
   "metadata": {},
   "outputs": [
    {
     "name": "stdout",
     "output_type": "stream",
     "text": [
      "1    126\n",
      "0     56\n",
      "Name: target, dtype: int64\n",
      "1    54\n",
      "0    25\n",
      "Name: target, dtype: int64\n"
     ]
    }
   ],
   "source": [
    "print(y_train_legal.value_counts())\n",
    "print(y_test_legal.value_counts())"
   ]
  },
  {
   "cell_type": "markdown",
   "id": "0cdc8f1a",
   "metadata": {},
   "source": [
    " #### Stochastic gradient descent"
   ]
  },
  {
   "cell_type": "code",
   "execution_count": 41,
   "id": "7722dbd2",
   "metadata": {},
   "outputs": [
    {
     "name": "stdout",
     "output_type": "stream",
     "text": [
      "[0.68 1.   1.   0.72 0.92]\n",
      "Recall: 0.8640000000000001\n"
     ]
    }
   ],
   "source": [
    "sgd_clf = SGDClassifier(random_state=123)\n",
    "sgf_clf_scores = cross_val_score(sgd_clf, X_train_legal, y_train_legal, scoring = \"recall\", cv=5)\n",
    "print(sgf_clf_scores)\n",
    "print(\"Recall:\",sgf_clf_scores.mean())"
   ]
  },
  {
   "cell_type": "code",
   "execution_count": 42,
   "id": "bc77af6f",
   "metadata": {},
   "outputs": [
    {
     "name": "stdout",
     "output_type": "stream",
     "text": [
      "Accuracy: 0.8640000000000001\n"
     ]
    }
   ],
   "source": [
    "cross_val_score(sgd_clf, X_train_legal, y_train_legal, cv=5, scoring='accuracy')\n",
    "print(\"Accuracy:\",sgf_clf_scores.mean())"
   ]
  },
  {
   "cell_type": "markdown",
   "id": "fcbc1c9c",
   "metadata": {},
   "source": [
    "Looking at the confusion matrix"
   ]
  },
  {
   "cell_type": "code",
   "execution_count": 43,
   "id": "f167b2dd",
   "metadata": {},
   "outputs": [
    {
     "name": "stdout",
     "output_type": "stream",
     "text": [
      "[[ 29  27]\n",
      " [ 17 109]]\n"
     ]
    }
   ],
   "source": [
    "sgf_clf_pred = cross_val_predict(sgd_clf, X_train_legal, y_train_legal, cv=5)\n",
    "print(confusion_matrix(y_train_legal, sgf_clf_pred))\n",
    "\n",
    "\n",
    "\n",
    "#_____________________________________________\n",
    "#             |                |\n",
    "#             |  PREDICTED NO  | PREDICTED YES\n",
    "#_____________| ______________ | _____________\n",
    "#             |                |\n",
    "# ACTUAL NO   |                |\n",
    "#_____________| ______________ | _____________\n",
    "#             |                |\n",
    "# ACTUAL YES  |                |\n",
    "#_____________| ______________ | _____________\n"
   ]
  },
  {
   "cell_type": "code",
   "execution_count": 44,
   "id": "5d6bcb3f",
   "metadata": {},
   "outputs": [
    {
     "data": {
      "text/plain": [
       "{'early_stopping': False,\n",
       " 'fit_intercept': False,\n",
       " 'loss': 'log',\n",
       " 'penalty': 'none'}"
      ]
     },
     "execution_count": 44,
     "metadata": {},
     "output_type": "execute_result"
    }
   ],
   "source": [
    "grid = {'fit_intercept': [True,False],\n",
    "        'early_stopping': [True, False],\n",
    "        'loss' : ['log'],\n",
    "        'penalty' : ['l2', 'l1', 'none']}\n",
    "search = GridSearchCV(estimator=sgd_clf, param_grid=grid, cv=10)\n",
    "search.fit(X_train_legal, y_train_legal)\n",
    "search.best_params_"
   ]
  },
  {
   "cell_type": "code",
   "execution_count": 45,
   "id": "1cb57ab7",
   "metadata": {},
   "outputs": [
    {
     "name": "stdout",
     "output_type": "stream",
     "text": [
      "[0.84210526 0.94736842 0.88888889 0.77777778 0.77777778 0.94444444\n",
      " 0.88888889 0.83333333 0.88888889 0.83333333]\n",
      "Accuracy: 0.862280701754386\n"
     ]
    }
   ],
   "source": [
    "grid_sgd_clf_scores = cross_val_score(search.best_estimator_, X_train_legal, y_train_legal, cv=10)\n",
    "print(grid_sgd_clf_scores)\n",
    "print(\"Accuracy:\", grid_sgd_clf_scores.mean())"
   ]
  },
  {
   "cell_type": "code",
   "execution_count": 46,
   "id": "1f9ad3eb",
   "metadata": {},
   "outputs": [
    {
     "name": "stdout",
     "output_type": "stream",
     "text": [
      "[0.92307692 1.         1.         0.83333333 1.         1.\n",
      " 1.         0.92307692 1.         0.84615385]\n",
      "Recall: 0.9525641025641025\n"
     ]
    }
   ],
   "source": [
    "grid_sgd_clf_scores = cross_val_score(search.best_estimator_, X_train_legal, y_train_legal, scoring = \"recall\",cv=10)\n",
    "print(grid_sgd_clf_scores)\n",
    "print(\"Recall:\", grid_sgd_clf_scores.mean())"
   ]
  },
  {
   "cell_type": "markdown",
   "id": "e06fa21e",
   "metadata": {},
   "source": [
    "#### Linear support vector machine SVM"
   ]
  },
  {
   "cell_type": "code",
   "execution_count": 47,
   "id": "5a811ae7",
   "metadata": {},
   "outputs": [],
   "source": [
    "from sklearn.svm import LinearSVC"
   ]
  },
  {
   "cell_type": "code",
   "execution_count": 48,
   "id": "e85ba170",
   "metadata": {},
   "outputs": [
    {
     "data": {
      "text/plain": [
       "LinearSVC()"
      ]
     },
     "execution_count": 48,
     "metadata": {},
     "output_type": "execute_result"
    }
   ],
   "source": [
    "svc_legal = LinearSVC()\n",
    "svc_legal.fit(X_train_legal,y_train_legal)"
   ]
  },
  {
   "cell_type": "code",
   "execution_count": 49,
   "id": "b360ce26",
   "metadata": {},
   "outputs": [],
   "source": [
    "train_pred_legal = svc_legal.predict(X_train_legal)"
   ]
  },
  {
   "cell_type": "code",
   "execution_count": 50,
   "id": "4309501c",
   "metadata": {},
   "outputs": [],
   "source": [
    "def tpr(actual,pred):\n",
    "    tp = np.sum((actual==1) & (pred == 1))\n",
    "    fn = np.sum((actual==1) & (pred == 0))\n",
    "    return tp/(tp+fn)\n",
    "    \n",
    "def fpr(actual,pred):\n",
    "    fp = np.sum((actual == 0) & (pred == 1))\n",
    "    tn = np.sum((actual == 0) & (pred == 0))\n",
    "    return fp/(fp+tn)\n",
    "\n",
    "def acc(actual,pred):\n",
    "    return np.sum(actual==pred)/len(actual)"
   ]
  },
  {
   "cell_type": "code",
   "execution_count": 51,
   "id": "824a2c18",
   "metadata": {},
   "outputs": [
    {
     "name": "stdout",
     "output_type": "stream",
     "text": [
      "The training tpr is 1.0\n",
      "The training fpr is 0.9642857142857143\n",
      "The training accuracy is 0.7032967032967034\n"
     ]
    }
   ],
   "source": [
    "print(\"The training tpr is\",tpr(y_train_legal,train_pred_legal))\n",
    "print(\"The training fpr is\",fpr(y_train_legal,train_pred_legal))\n",
    "print(\"The training accuracy is\",acc(y_train_legal,train_pred_legal))"
   ]
  },
  {
   "cell_type": "markdown",
   "id": "f81e6cc9",
   "metadata": {},
   "source": [
    "Notice any problem? An imbalanced dataset with a majority of the target class being 1s creates a situation in which the classifier labels almost all as 1, and therefore gives us a decent true possitive rate. However, the accuracy shows that the classifier does not work very well."
   ]
  },
  {
   "cell_type": "code",
   "execution_count": 52,
   "id": "70c73a70",
   "metadata": {},
   "outputs": [
    {
     "data": {
      "text/plain": [
       "array([1, 1, 1, 1, 1, 1, 1, 1, 1, 1, 1, 1, 1, 1, 1, 1, 1, 1, 1, 1, 1, 1,\n",
       "       1, 1, 1, 1, 1, 1, 1, 1, 1, 1, 1, 1, 1, 1, 1, 1, 1, 1, 1, 1, 1, 1,\n",
       "       1, 1, 1, 1, 1, 1, 1, 1, 1, 1, 1, 0, 1, 1, 1, 1, 1, 1, 1, 1, 1, 1,\n",
       "       1, 1, 1, 1, 1, 1, 1, 1, 1, 1, 1, 1, 1, 1, 1, 1, 1, 1, 1, 1, 1, 1,\n",
       "       1, 1, 1, 1, 1, 1, 1, 1, 1, 1, 1, 1, 1, 1, 1, 1, 1, 1, 1, 1, 1, 1,\n",
       "       1, 1, 1, 1, 1, 1, 1, 1, 1, 1, 1, 1, 1, 1, 1, 1, 1, 1, 1, 1, 1, 1,\n",
       "       1, 1, 1, 1, 1, 1, 1, 1, 1, 1, 1, 1, 0, 1, 1, 1, 1, 1, 1, 1, 1, 1,\n",
       "       1, 1, 1, 1, 1, 1, 1, 1, 1, 1, 1, 1, 1, 1, 1, 1, 1, 1, 1, 1, 1, 1,\n",
       "       1, 1, 1, 1, 1, 1], dtype=int64)"
      ]
     },
     "execution_count": 52,
     "metadata": {},
     "output_type": "execute_result"
    }
   ],
   "source": [
    "train_pred_legal"
   ]
  },
  {
   "cell_type": "markdown",
   "id": "085b5c0c",
   "metadata": {},
   "source": [
    "##### We need to estimate using cross-validation. "
   ]
  },
  {
   "cell_type": "code",
   "execution_count": 68,
   "id": "4998bfd5",
   "metadata": {},
   "outputs": [
    {
     "name": "stdout",
     "output_type": "stream",
     "text": [
      "Regularization parameter = 1\n",
      "Regularization parameter = 2\n",
      "Regularization parameter = 3\n",
      "Regularization parameter = 4\n",
      "Regularization parameter = 5\n",
      "Regularization parameter = 6\n",
      "Regularization parameter = 7\n",
      "Regularization parameter = 8\n",
      "Regularization parameter = 9\n",
      "Regularization parameter = 10\n",
      "Regularization parameter = 11\n",
      "Regularization parameter = 12\n",
      "Regularization parameter = 13\n",
      "Regularization parameter = 14\n",
      "Regularization parameter = 15\n",
      "Regularization parameter = 16\n",
      "Regularization parameter = 17\n",
      "Regularization parameter = 18\n",
      "Regularization parameter = 19\n",
      "Regularization parameter = 20\n",
      "Regularization parameter = 21\n",
      "Regularization parameter = 22\n",
      "Regularization parameter = 23\n",
      "Regularization parameter = 24\n",
      "Regularization parameter = 25\n"
     ]
    }
   ],
   "source": [
    "## Linear SVC (10-fold cross validation)\n",
    "\n",
    "# I tested values of C = 0 < C < 1, and no difference in meassures were found for any values C < 1, thus the loop for various\n",
    "# values of C begins in 1 and increases by 1\n",
    "\n",
    "kfold = StratifiedKFold(n_splits=10,shuffle = True,random_state=440)\n",
    "\n",
    "df = pd.DataFrame(X_train_legal)\n",
    "y_train_df = pd.DataFrame (y_train_legal)\n",
    "X_train_copy = df.copy()\n",
    "\n",
    "\n",
    "# Regularization parameter \n",
    "Cs = 25\n",
    "\n",
    "svc_accs = np.zeros((10, Cs))\n",
    "svc_precs = np.zeros((10, Cs))\n",
    "svc_recs = np.zeros((10, Cs))\n",
    "\n",
    "\n",
    "\n",
    "for j in range(1,Cs+1):\n",
    "    print(\"Regularization parameter =\",j)\n",
    "    svc_legal = LinearSVC(penalty='l2', loss='squared_hinge',dual=True, tol=0.0001, C=j, \n",
    "                multi_class='ovr', fit_intercept=True, intercept_scaling=1, class_weight='balanced', \n",
    "                verbose=0, random_state=None, max_iter=5000)\n",
    "    \n",
    "    i = 0\n",
    "\n",
    "    for train_index,test_index in kfold.split(X_train_copy,y_train_df):\n",
    "        X_train_train, X_train_test = X_train_copy.iloc[train_index],X_train_copy.iloc[test_index]\n",
    "        y_train_train, y_train_test = y_train_df.iloc[train_index],y_train_df.iloc[test_index]\n",
    "\n",
    "        svc_clone_legal = clone(svc_legal)\n",
    "        svc_clone_legal.fit(X_train_train, np.ravel(y_train_train,order='C'))\n",
    "        \n",
    "        y_legal_predict = svc_clone_legal.predict(X_train_test)\n",
    "        svc_accs[i, j-1] = accuracy_score(y_train_test,y_legal_predict)\n",
    "        svc_precs[i,j-1] = precision_score(y_train_test,y_legal_predict)\n",
    "        svc_recs[i,j-1] = recall_score(y_train_test,y_legal_predict)\n",
    "        i = i + 1"
   ]
  },
  {
   "cell_type": "code",
   "execution_count": 69,
   "id": "cf8e763e",
   "metadata": {},
   "outputs": [
    {
     "data": {
      "image/png": "[encoded data removed]",
      "text/plain": [
       "<Figure size 1008x720 with 1 Axes>"
      ]
     },
     "metadata": {
      "needs_background": "light"
     },
     "output_type": "display_data"
    }
   ],
   "source": [
    "## Plot that mean cv measure against max_depth\n",
    "\n",
    "## Sample Answer\n",
    "plt.figure(figsize=(14,10))\n",
    "\n",
    "plt.plot(np.mean(svc_accs,axis=0),'b-o', label=\"Accuracy\")\n",
    "plt.plot(np.mean(svc_precs,axis=0),'r-o', label=\"Precision\")\n",
    "plt.plot(np.mean(svc_recs,axis=0),'g-o', label=\"Recall\")\n",
    "\n",
    "plt.title(\"Linear SVM - Target with high proportion of 1's\",fontsize=20)\n",
    "plt.ylabel(\"Mean CV Performance Score\",fontsize=16)\n",
    "plt.xlabel(\"Regularization parameter\",fontsize=16)\n",
    "\n",
    "plt.legend(fontsize=16)\n",
    "plt.savefig('C:/Users/holmf/Dropbox/Boot Camp_data project - Copy/linearSVC_legal.png')\n",
    "plt.show()"
   ]
  },
  {
   "cell_type": "markdown",
   "id": "05c96044",
   "metadata": {},
   "source": [
    "### Decision tree"
   ]
  },
  {
   "cell_type": "code",
   "execution_count": 70,
   "id": "1b03365e",
   "metadata": {},
   "outputs": [],
   "source": [
    "from sklearn.tree import DecisionTreeClassifier"
   ]
  },
  {
   "cell_type": "code",
   "execution_count": 71,
   "id": "397ad9c6",
   "metadata": {},
   "outputs": [
    {
     "data": {
      "text/plain": [
       "DecisionTreeClassifier(max_depth=5, random_state=614)"
      ]
     },
     "execution_count": 71,
     "metadata": {},
     "output_type": "execute_result"
    }
   ],
   "source": [
    "max_depth = 5\n",
    "tree_clf_legal = DecisionTreeClassifier(max_depth = max_depth, \n",
    "                                  random_state = 614)\n",
    "\n",
    "## Fit the tree\n",
    "tree_clf_legal.fit(X_train_legal, y_train_legal)"
   ]
  },
  {
   "cell_type": "markdown",
   "id": "1d45d4bb",
   "metadata": {},
   "source": [
    "Let's see the confusion matrix to see how the model is doing."
   ]
  },
  {
   "cell_type": "code",
   "execution_count": 72,
   "id": "4f8b2fe8",
   "metadata": {},
   "outputs": [],
   "source": [
    "train_pred_legal = tree_clf_legal.predict(X_train_legal)"
   ]
  },
  {
   "cell_type": "code",
   "execution_count": 73,
   "id": "ee1d8d15",
   "metadata": {},
   "outputs": [],
   "source": [
    "\n",
    "#_____________________________________________\n",
    "#             |                |\n",
    "#             |  PREDICTED NO  | PREDICTED YES\n",
    "#_____________| ______________ | _____________\n",
    "#             |                |\n",
    "# ACTUAL NO   |                |\n",
    "#_____________| ______________ | _____________\n",
    "#             |                |\n",
    "# ACTUAL YES  |                |\n",
    "#_____________| ______________ | _____________\n"
   ]
  },
  {
   "cell_type": "code",
   "execution_count": 74,
   "id": "0606874c",
   "metadata": {},
   "outputs": [
    {
     "name": "stdout",
     "output_type": "stream",
     "text": [
      "[[ 56   0]\n",
      " [  0 126]]\n"
     ]
    }
   ],
   "source": [
    "print(confusion_matrix(y_train_legal, train_pred_legal))"
   ]
  },
  {
   "cell_type": "markdown",
   "id": "d562f6fb",
   "metadata": {},
   "source": [
    "##### Maybe -just maybe- we are overfitting. Again, we must do cross validation."
   ]
  },
  {
   "cell_type": "code",
   "execution_count": 75,
   "id": "88f67619",
   "metadata": {},
   "outputs": [
    {
     "name": "stdout",
     "output_type": "stream",
     "text": [
      "Depth = 1\n",
      "Depth = 2\n",
      "Depth = 3\n",
      "Depth = 4\n",
      "Depth = 5\n",
      "Depth = 6\n",
      "Depth = 7\n",
      "Depth = 8\n",
      "Depth = 9\n",
      "Depth = 10\n",
      "Depth = 11\n",
      "Depth = 12\n",
      "Depth = 13\n",
      "Depth = 14\n",
      "Depth = 15\n",
      "Depth = 16\n",
      "Depth = 17\n",
      "Depth = 18\n",
      "Depth = 19\n",
      "Depth = 20\n"
     ]
    }
   ],
   "source": [
    "# Decision Tree (10-fold cross validation) \n",
    "\n",
    "# convert to DataFrame\n",
    "df = pd.DataFrame(X_train_legal)\n",
    "y_train_df = pd.DataFrame (y_train_legal)\n",
    "X_train_copy = df.copy()\n",
    "\n",
    "kfold = StratifiedKFold(n_splits=10,shuffle = True,random_state=440)\n",
    "\n",
    "# n will be the maximum max_depth I consider\n",
    "n = 20\n",
    "\n",
    "tree_accs = np.zeros((10,n))\n",
    "tree_precs = np.zeros((10,n))\n",
    "tree_recs = np.zeros((10,n))\n",
    "\n",
    "for j in range(1, n+1):\n",
    "    print(\"Depth =\", j)    \n",
    "    tree_legal = DecisionTreeClassifier(max_depth=j, random_state = 440)\n",
    "    \n",
    "    i = 0\n",
    "    for train_index,test_index in kfold.split(X_train_copy,y_train_df):\n",
    "        X_train_train, X_train_test = X_train_copy.iloc[train_index],X_train_copy.iloc[test_index]\n",
    "        y_train_train, y_train_test = y_train_df.iloc[train_index],y_train_df.iloc[test_index]\n",
    "\n",
    "        tree_legal_clone = clone(tree_legal)\n",
    "        tree_legal_clone.fit(X_train_train,y_train_train)\n",
    "        \n",
    "        y_predict_legal = tree_legal_clone.predict(X_train_test)\n",
    "        tree_accs[i,j-1] = accuracy_score(y_train_test,y_predict_legal)\n",
    "        tree_precs[i,j-1] = precision_score(y_train_test,y_predict_legal)\n",
    "        tree_recs[i,j-1] = recall_score(y_train_test,y_predict_legal)\n",
    "        i = i + 1"
   ]
  },
  {
   "cell_type": "code",
   "execution_count": 76,
   "id": "3c87af97",
   "metadata": {},
   "outputs": [
    {
     "data": {
      "image/png": "[encoded data removed]",
      "text/plain": [
       "<Figure size 1008x720 with 1 Axes>"
      ]
     },
     "metadata": {
      "needs_background": "light"
     },
     "output_type": "display_data"
    }
   ],
   "source": [
    "## Plot mean cv measure against max_depth\n",
    "\n",
    "plt.figure(figsize=(14,10))\n",
    "\n",
    "plt.plot(range(1,n+1), np.mean(tree_accs,axis=0),'b-o', label=\"Accuracy\")\n",
    "plt.plot(range(1,n+1), np.mean(tree_precs,axis=0),'r-o', label=\"Precision\")\n",
    "plt.plot(range(1,n+1), np.mean(tree_recs,axis=0),'g-o', label=\"Recall\")\n",
    " \n",
    "plt.title(\"Decision Tree - Target with high proportion of 1's\",fontsize=20)\n",
    "plt.ylabel(\"Mean CV Performance Score\",fontsize=16)\n",
    "plt.xlabel(\"Max Depth\",fontsize=16)\n",
    "\n",
    "plt.legend(fontsize=16)\n",
    "\n",
    "plt.savefig('C:/Users/holmf/Dropbox/Boot Camp_data project - Copy/decision_tree_legal.png')\n",
    "plt.show()"
   ]
  },
  {
   "cell_type": "markdown",
   "id": "29ce877d",
   "metadata": {},
   "source": [
    "##### Finally, we will go one step further and train a random forest to see if we can improve with respect to the tree"
   ]
  },
  {
   "cell_type": "code",
   "execution_count": 77,
   "id": "e1b57d96",
   "metadata": {},
   "outputs": [],
   "source": [
    "# This imports the random forest classifier\n",
    "from sklearn.ensemble import RandomForestClassifier"
   ]
  },
  {
   "cell_type": "code",
   "execution_count": 78,
   "id": "dd50f9cf",
   "metadata": {},
   "outputs": [
    {
     "name": "stdout",
     "output_type": "stream",
     "text": [
      "Depth = 1\n",
      "Depth = 2\n",
      "Depth = 3\n",
      "Depth = 4\n",
      "Depth = 5\n",
      "Depth = 6\n",
      "Depth = 7\n",
      "Depth = 8\n",
      "Depth = 9\n",
      "Depth = 10\n",
      "Depth = 11\n",
      "Depth = 12\n",
      "Depth = 13\n",
      "Depth = 14\n",
      "Depth = 15\n",
      "Depth = 16\n",
      "Depth = 17\n",
      "Depth = 18\n",
      "Depth = 19\n",
      "Depth = 20\n"
     ]
    }
   ],
   "source": [
    "## Random forest (10-fold cross validation)\n",
    "\n",
    "# convert to DataFrame\n",
    "df = pd.DataFrame(X_train_legal)\n",
    "y_train_legal = pd.DataFrame (y_train_legal)\n",
    "\n",
    "kfold = StratifiedKFold(n_splits=10,shuffle = True,random_state=440)\n",
    "\n",
    "\n",
    "X_train_copy = df.copy()\n",
    "\n",
    "# n will be the maximum max_depth I consider\n",
    "n = 20\n",
    "\n",
    "accs = np.zeros((10,n))\n",
    "precs = np.zeros((10,n))\n",
    "recs = np.zeros((10,n))\n",
    "\n",
    "for j in range(1,n+1):\n",
    "    print(\"Depth =\", j)\n",
    "    rf_legal = RandomForestClassifier(n_estimators = 5000,max_depth=j, random_state = 440)\n",
    "    \n",
    "    i = 0\n",
    "    for train_index,test_index in kfold.split(X_train_copy,y_train_legal):\n",
    "        X_train_train, X_train_test = X_train_copy.iloc[train_index],X_train_copy.iloc[test_index]\n",
    "        y_train_train, y_train_test = y_train_legal.iloc[train_index],y_train_legal.iloc[test_index]\n",
    "\n",
    "        rf_legal_clone = clone(rf_legal)\n",
    "        rf_legal_clone.fit(X_train_train,y_train_train.values.ravel())\n",
    "        \n",
    "        y_predict_legal = rf_legal_clone.predict(X_train_test)\n",
    "        accs[i,j-1] = accuracy_score(y_train_test,y_predict_legal)\n",
    "        precs[i,j-1] = precision_score(y_train_test,y_predict_legal)\n",
    "        recs[i,j-1] = recall_score(y_train_test,y_predict_legal)\n",
    "        i = i + 1      \n",
    "    "
   ]
  },
  {
   "cell_type": "code",
   "execution_count": 79,
   "id": "4a557687",
   "metadata": {},
   "outputs": [
    {
     "data": {
      "text/plain": [
       "array([[0.78947368, 0.73684211, 0.73684211, 0.78947368, 0.78947368,\n",
       "        0.78947368, 0.78947368, 0.78947368, 0.78947368, 0.78947368,\n",
       "        0.78947368, 0.78947368, 0.78947368, 0.78947368, 0.78947368,\n",
       "        0.78947368, 0.78947368, 0.78947368, 0.78947368, 0.78947368],\n",
       "       [0.89473684, 0.89473684, 0.89473684, 0.89473684, 0.89473684,\n",
       "        0.89473684, 0.89473684, 0.89473684, 0.89473684, 0.89473684,\n",
       "        0.89473684, 0.89473684, 0.89473684, 0.89473684, 0.89473684,\n",
       "        0.89473684, 0.89473684, 0.89473684, 0.89473684, 0.89473684],\n",
       "       [0.66666667, 0.83333333, 0.83333333, 0.83333333, 0.83333333,\n",
       "        0.83333333, 0.83333333, 0.83333333, 0.83333333, 0.83333333,\n",
       "        0.83333333, 0.83333333, 0.83333333, 0.83333333, 0.83333333,\n",
       "        0.83333333, 0.83333333, 0.83333333, 0.83333333, 0.83333333],\n",
       "       [0.72222222, 0.83333333, 0.83333333, 0.83333333, 0.83333333,\n",
       "        0.83333333, 0.83333333, 0.83333333, 0.83333333, 0.83333333,\n",
       "        0.83333333, 0.83333333, 0.83333333, 0.83333333, 0.83333333,\n",
       "        0.83333333, 0.83333333, 0.83333333, 0.83333333, 0.83333333],\n",
       "       [0.83333333, 0.83333333, 0.83333333, 0.83333333, 0.88888889,\n",
       "        0.88888889, 0.88888889, 0.88888889, 0.88888889, 0.88888889,\n",
       "        0.88888889, 0.88888889, 0.88888889, 0.88888889, 0.88888889,\n",
       "        0.88888889, 0.88888889, 0.88888889, 0.88888889, 0.88888889],\n",
       "       [0.88888889, 0.77777778, 0.83333333, 0.83333333, 0.83333333,\n",
       "        0.83333333, 0.83333333, 0.83333333, 0.83333333, 0.83333333,\n",
       "        0.83333333, 0.83333333, 0.83333333, 0.83333333, 0.83333333,\n",
       "        0.83333333, 0.83333333, 0.83333333, 0.83333333, 0.83333333],\n",
       "       [0.83333333, 0.94444444, 0.88888889, 0.88888889, 0.88888889,\n",
       "        0.88888889, 0.88888889, 0.88888889, 0.88888889, 0.88888889,\n",
       "        0.88888889, 0.88888889, 0.88888889, 0.88888889, 0.88888889,\n",
       "        0.88888889, 0.88888889, 0.88888889, 0.88888889, 0.88888889],\n",
       "       [0.83333333, 0.88888889, 0.88888889, 0.88888889, 0.88888889,\n",
       "        0.88888889, 0.88888889, 0.88888889, 0.88888889, 0.88888889,\n",
       "        0.88888889, 0.88888889, 0.88888889, 0.88888889, 0.88888889,\n",
       "        0.88888889, 0.88888889, 0.88888889, 0.88888889, 0.88888889],\n",
       "       [0.83333333, 0.83333333, 0.88888889, 0.88888889, 0.94444444,\n",
       "        0.94444444, 0.94444444, 0.94444444, 0.94444444, 0.94444444,\n",
       "        0.94444444, 0.94444444, 0.94444444, 0.94444444, 0.94444444,\n",
       "        0.94444444, 0.94444444, 0.94444444, 0.94444444, 0.94444444],\n",
       "       [0.72222222, 0.72222222, 0.77777778, 0.77777778, 0.77777778,\n",
       "        0.77777778, 0.77777778, 0.77777778, 0.77777778, 0.77777778,\n",
       "        0.77777778, 0.77777778, 0.77777778, 0.77777778, 0.77777778,\n",
       "        0.77777778, 0.77777778, 0.77777778, 0.77777778, 0.77777778]])"
      ]
     },
     "execution_count": 79,
     "metadata": {},
     "output_type": "execute_result"
    }
   ],
   "source": [
    "accs"
   ]
  },
  {
   "cell_type": "code",
   "execution_count": 80,
   "id": "16d401c9",
   "metadata": {},
   "outputs": [
    {
     "data": {
      "image/png": "[encoded data removed]",
      "text/plain": [
       "<Figure size 1008x720 with 1 Axes>"
      ]
     },
     "metadata": {
      "needs_background": "light"
     },
     "output_type": "display_data"
    }
   ],
   "source": [
    "## Plot that mean cv measure against max_depth\n",
    "\n",
    "## Sample Answer\n",
    "plt.figure(figsize=(14,10))\n",
    "\n",
    "plt.plot(range(1,n+1), np.mean(accs,axis=0),'b-o', label=\"Accuracy\")\n",
    "plt.plot(range(1,n+1), np.mean(precs,axis=0),'r-o', label=\"Precision\")\n",
    "plt.plot(range(1,n+1), np.mean(recs,axis=0),'g-o', label=\"Recall\")\n",
    "\n",
    "plt.title(\"Random Forest - Target with high proportion of 1's\",fontsize=20)\n",
    "plt.ylabel(\"Mean CV Performance Score\",fontsize=16)\n",
    "plt.xlabel(\"Max Depth\",fontsize=16)\n",
    "\n",
    "plt.legend(fontsize=16)\n",
    "\n",
    "plt.savefig('C:/Users/holmf/Dropbox/Boot Camp_data project - Copy/random_forest_legal.png')\n",
    "plt.show()"
   ]
  },
  {
   "cell_type": "markdown",
   "id": "d1c0a8e3",
   "metadata": {},
   "source": [
    "#### Target: b - recognition of past investment in clean energy. "
   ]
  },
  {
   "cell_type": "code",
   "execution_count": 81,
   "id": "1e69f5c4",
   "metadata": {},
   "outputs": [
    {
     "data": {
      "text/plain": [
       "0    141\n",
       "1    120\n",
       "Name: target, dtype: int64"
      ]
     },
     "execution_count": 81,
     "metadata": {},
     "output_type": "execute_result"
    }
   ],
   "source": [
    "# We update the target variable: Past_investments_credits\n",
    "invest = categories[[\"NAME\",\"Past_investments_credits\"]]\n",
    "invest.head(5)\n",
    "\n",
    "# Rename as \"target\"\n",
    "invest = invest.rename(columns={\"Past_investments_credits\": \"target\"})\n",
    "invest.head(5)\n",
    "invest['target'].value_counts()"
   ]
  },
  {
   "cell_type": "code",
   "execution_count": 82,
   "id": "7a65a8cf",
   "metadata": {},
   "outputs": [
    {
     "name": "stdout",
     "output_type": "stream",
     "text": [
      "0    98\n",
      "1    84\n",
      "Name: target, dtype: int64\n",
      "0    43\n",
      "1    36\n",
      "Name: target, dtype: int64\n"
     ]
    }
   ],
   "source": [
    "# Creat train and test split using the same doc_term_tfidf as X and invest['target'] as y\n",
    "X_train_invest, X_test_invest, y_train_invest, y_test_invest = train_test_split(doc_term_tfidf, invest['target'], test_size=0.3, random_state=440,stratify=invest['target'])\n",
    "\n",
    "y_train_invest\n",
    "\n",
    "print(y_train_invest.value_counts())\n",
    "print(y_test_invest.value_counts())\n"
   ]
  },
  {
   "cell_type": "code",
   "execution_count": 83,
   "id": "10d9e275",
   "metadata": {},
   "outputs": [
    {
     "name": "stdout",
     "output_type": "stream",
     "text": [
      "0    98\n",
      "1    84\n",
      "Name: target, dtype: int64\n",
      "0    43\n",
      "1    36\n",
      "Name: target, dtype: int64\n"
     ]
    }
   ],
   "source": [
    "print(y_train_invest.value_counts())\n",
    "print(y_test_invest.value_counts())"
   ]
  },
  {
   "cell_type": "code",
   "execution_count": 84,
   "id": "ad55d5b3",
   "metadata": {},
   "outputs": [
    {
     "name": "stdout",
     "output_type": "stream",
     "text": [
      "[0.52631579 0.57894737 0.5        0.5        0.83333333 0.61111111\n",
      " 0.77777778 0.72222222 0.5        0.88888889]\n",
      "Accuracy: 0.64 (+/- 0.28)\n"
     ]
    },
    {
     "data": {
      "text/plain": [
       "array([0.54054054, 0.62162162, 0.52777778, 0.44444444, 0.77777778])"
      ]
     },
     "execution_count": 84,
     "metadata": {},
     "output_type": "execute_result"
    }
   ],
   "source": [
    " #### Stochastic gradient descent\n",
    "\n",
    "sgd_clf_invest = SGDClassifier(random_state=123)\n",
    "sgf_clf_invest_scores = cross_val_score(sgd_clf_invest, X_train_invest, y_train_invest, cv=10)\n",
    "print(sgf_clf_invest_scores)\n",
    "print(\"Accuracy: %0.2f (+/- %0.2f)\" % (sgf_clf_invest_scores.mean(), sgf_clf_invest_scores.std() * 2))\n",
    "\n",
    "cross_val_score(sgd_clf_invest, X_train_invest, y_train_invest, cv=5, scoring='accuracy')"
   ]
  },
  {
   "cell_type": "markdown",
   "id": "0971ebe6",
   "metadata": {},
   "source": [
    "Looking at the confusion matrix..."
   ]
  },
  {
   "cell_type": "code",
   "execution_count": 85,
   "id": "83eaf279",
   "metadata": {},
   "outputs": [
    {
     "name": "stdout",
     "output_type": "stream",
     "text": [
      "[[56 42]\n",
      " [34 50]]\n"
     ]
    }
   ],
   "source": [
    "sgf_clf_invest_pred = cross_val_predict(sgd_clf_invest, X_train_invest, y_train_invest, cv=5)\n",
    "print(confusion_matrix(y_train_invest, sgf_clf_invest_pred))\n",
    "\n",
    "#_____________________________________________\n",
    "#             |                |\n",
    "#             |  PREDICTED NO  | PREDICTED YES\n",
    "#_____________| ______________ | _____________\n",
    "#             |                |\n",
    "# ACTUAL NO   |                |\n",
    "#_____________| ______________ | _____________\n",
    "#             |                |\n",
    "# ACTUAL YES  |                |\n",
    "#_____________| ______________ | _____________"
   ]
  },
  {
   "cell_type": "markdown",
   "id": "38a1e8e8",
   "metadata": {},
   "source": [
    "... we can see that the results are terrible. Let's explore a grid of parameters to find a better combination.\n",
    "\n",
    "Also, in this case (given the huge imbalance in positives and negatives) looking only at accuracy might not be the most informative decision. I will take recall into account, to see the relationship of TruePositive / (TruePositive + FalseNegative)\n",
    "    "
   ]
  },
  {
   "cell_type": "code",
   "execution_count": 86,
   "id": "31ef2428",
   "metadata": {},
   "outputs": [
    {
     "data": {
      "text/plain": [
       "{'early_stopping': False,\n",
       " 'fit_intercept': False,\n",
       " 'loss': 'log',\n",
       " 'penalty': 'l2'}"
      ]
     },
     "execution_count": 86,
     "metadata": {},
     "output_type": "execute_result"
    }
   ],
   "source": [
    "grid = {'fit_intercept': [True,False],\n",
    "        'early_stopping': [True, False],\n",
    "        'loss' : ['log'],\n",
    "        'penalty' : ['l2', 'l1', 'none']}\n",
    "search = GridSearchCV(estimator=sgd_clf_invest, param_grid=grid, cv=10)\n",
    "search.fit(X_train_invest, y_train_invest)\n",
    "search.best_params_"
   ]
  },
  {
   "cell_type": "code",
   "execution_count": 87,
   "id": "9dfff5d0",
   "metadata": {},
   "outputs": [
    {
     "name": "stdout",
     "output_type": "stream",
     "text": [
      "[0.58823529 0.47058824 0.70588235 0.52941176 0.75      ]\n",
      "Recall: 0.6088235294117647\n"
     ]
    }
   ],
   "source": [
    "grid_sgd_invest_clf_scores = cross_val_score(search.best_estimator_, X_train_invest, y_train_invest, cv=5, scoring = 'recall')\n",
    "print(grid_sgd_invest_clf_scores)\n",
    "print(\"Recall:\", grid_sgd_invest_clf_scores.mean())"
   ]
  },
  {
   "cell_type": "markdown",
   "id": "67947a3f",
   "metadata": {},
   "source": [
    "Not great either."
   ]
  },
  {
   "cell_type": "markdown",
   "id": "2e5195a6",
   "metadata": {},
   "source": [
    "#### Linear support vector machine SVM"
   ]
  },
  {
   "cell_type": "code",
   "execution_count": 88,
   "id": "22aa17a5",
   "metadata": {},
   "outputs": [],
   "source": [
    "from sklearn.svm import LinearSVC\n",
    "\n",
    "svc_invest = LinearSVC()\n",
    "svc_invest.fit(X_train_invest,y_train_invest)\n",
    "\n",
    "train_pred_invest = svc_invest.predict(X_train_invest)"
   ]
  },
  {
   "cell_type": "code",
   "execution_count": 89,
   "id": "94de2a32",
   "metadata": {},
   "outputs": [],
   "source": [
    "def tpr(actual,pred):\n",
    "    tp = np.sum((actual==1) & (pred == 1))\n",
    "    fn = np.sum((actual==1) & (pred == 0))\n",
    "    return tp/(tp+fn)\n",
    "    \n",
    "def fpr(actual,pred):\n",
    "    fp = np.sum((actual == 0) & (pred == 1))\n",
    "    tn = np.sum((actual == 0) & (pred == 0))\n",
    "    return fp/(fp+tn)\n",
    "\n",
    "def acc(actual,pred):\n",
    "    return np.sum(actual==pred)/len(actual)"
   ]
  },
  {
   "cell_type": "code",
   "execution_count": 90,
   "id": "59138b2c",
   "metadata": {},
   "outputs": [
    {
     "name": "stdout",
     "output_type": "stream",
     "text": [
      "The training tpr is 0.27380952380952384\n",
      "The training fpr is 0.01020408163265306\n",
      "The training accuracy is 0.6593406593406593\n"
     ]
    }
   ],
   "source": [
    "print(\"The training tpr is\",tpr(y_train_invest,train_pred_invest))\n",
    "print(\"The training fpr is\",fpr(y_train_invest,train_pred_invest))\n",
    "print(\"The training accuracy is\",acc(y_train_invest,train_pred_invest))"
   ]
  },
  {
   "cell_type": "markdown",
   "id": "d0c70576",
   "metadata": {},
   "source": [
    "##### We need to estimate using cross-validation. "
   ]
  },
  {
   "cell_type": "code",
   "execution_count": 91,
   "id": "78909620",
   "metadata": {},
   "outputs": [
    {
     "name": "stdout",
     "output_type": "stream",
     "text": [
      "Regularization parameter = 1\n",
      "Regularization parameter = 2\n",
      "Regularization parameter = 3\n",
      "Regularization parameter = 4\n",
      "Regularization parameter = 5\n",
      "Regularization parameter = 6\n",
      "Regularization parameter = 7\n",
      "Regularization parameter = 8\n",
      "Regularization parameter = 9\n",
      "Regularization parameter = 10\n",
      "Regularization parameter = 11\n",
      "Regularization parameter = 12\n",
      "Regularization parameter = 13\n",
      "Regularization parameter = 14\n",
      "Regularization parameter = 15\n",
      "Regularization parameter = 16\n",
      "Regularization parameter = 17\n",
      "Regularization parameter = 18\n",
      "Regularization parameter = 19\n",
      "Regularization parameter = 20\n",
      "Regularization parameter = 21\n",
      "Regularization parameter = 22\n",
      "Regularization parameter = 23\n",
      "Regularization parameter = 24\n",
      "Regularization parameter = 25\n",
      "Regularization parameter = 26\n",
      "Regularization parameter = 27\n",
      "Regularization parameter = 28\n",
      "Regularization parameter = 29\n",
      "Regularization parameter = 30\n"
     ]
    }
   ],
   "source": [
    "## Linear SVM (10-fold) cross validation\n",
    "\n",
    "# I tested values of C = 0 < C < 1, and no difference in meassures were found for any values C < 1, thus the loop for various\n",
    "# values of C begins in 1 and increases by 1\n",
    "\n",
    "kfold = StratifiedKFold(n_splits=10,shuffle = True,random_state=440)\n",
    "\n",
    "df = pd.DataFrame(X_train_invest)\n",
    "y_train_df = pd.DataFrame (y_train_invest)\n",
    "\n",
    "X_train_copy = df.copy()\n",
    "\n",
    "# Regularization parameter \n",
    "Cs = 30\n",
    "\n",
    "svc_accs = np.zeros((10, Cs))\n",
    "svc_precs = np.zeros((10, Cs))\n",
    "svc_recs = np.zeros((10, Cs))\n",
    "\n",
    "for j in range(1,Cs+1):\n",
    "    print(\"Regularization parameter =\",j)\n",
    "    svc_invest = LinearSVC(penalty='l2', loss='squared_hinge',dual=True, tol=0.0001, C=j, \n",
    "                multi_class='ovr', fit_intercept=True, intercept_scaling=1, class_weight='balanced', \n",
    "                verbose=0, random_state=None, max_iter=5000)\n",
    "\n",
    "    i = 0\n",
    "    for train_index,test_index in kfold.split(X_train_copy,y_train_df):\n",
    "        X_train_train, X_train_test = X_train_copy.iloc[train_index],X_train_copy.iloc[test_index]\n",
    "        y_train_train, y_train_test = y_train_df.iloc[train_index],y_train_df.iloc[test_index]\n",
    "\n",
    "        svc_invest_clone = clone(svc_invest)\n",
    "        svc_invest_clone.fit(X_train_train, np.ravel(y_train_train,order='C')) #.values.ravel()\n",
    "        \n",
    "        y_predict_invest = svc_invest_clone.predict(X_train_test)\n",
    "        svc_accs[i, j-1] = accuracy_score(y_train_test,y_predict_invest)\n",
    "        svc_precs[i,j-1] = precision_score(y_train_test,y_predict_invest)\n",
    "        svc_recs[i,j-1] = recall_score(y_train_test,y_predict_invest)\n",
    "        i = i + 1\n"
   ]
  },
  {
   "cell_type": "code",
   "execution_count": 92,
   "id": "754e6219",
   "metadata": {},
   "outputs": [
    {
     "data": {
      "image/png": "[encoded data removed]",
      "text/plain": [
       "<Figure size 1008x720 with 1 Axes>"
      ]
     },
     "metadata": {
      "needs_background": "light"
     },
     "output_type": "display_data"
    }
   ],
   "source": [
    "## Plot mean cv measure against max_depth\n",
    "\n",
    "plt.figure(figsize=(14,10))\n",
    "\n",
    "plt.plot(np.mean(svc_accs,axis=0),'b-o', label=\"Accuracy\")\n",
    "plt.plot(np.mean(svc_precs,axis=0),'r-o', label=\"Precision\")\n",
    "plt.plot(np.mean(svc_recs,axis=0),'g-o', label=\"Recall\")\n",
    "\n",
    "plt.title(\"Linear SVM - Balanced target variable\",fontsize=20)\n",
    "plt.ylabel(\"Mean CV Performance Score\",fontsize=16)\n",
    "plt.xlabel(\"Regularization parameter\",fontsize=16)\n",
    "\n",
    "plt.legend(fontsize=16)\n",
    "\n",
    "plt.savefig('C:/Users/holmf/Dropbox/Boot Camp_data project - Copy/linearSVC_invest.png')\n",
    "plt.show()"
   ]
  },
  {
   "cell_type": "markdown",
   "id": "15ff59c5",
   "metadata": {},
   "source": [
    "### Decision tree\n"
   ]
  },
  {
   "cell_type": "code",
   "execution_count": 93,
   "id": "c4f6079f",
   "metadata": {},
   "outputs": [],
   "source": [
    "from sklearn.tree import DecisionTreeClassifier\n",
    "\n",
    "max_depth = 5\n",
    "tree_clf_invest = DecisionTreeClassifier(max_depth = max_depth, \n",
    "                                  random_state = 614)"
   ]
  },
  {
   "cell_type": "code",
   "execution_count": 94,
   "id": "b53d2f2d",
   "metadata": {},
   "outputs": [
    {
     "data": {
      "text/plain": [
       "DecisionTreeClassifier(max_depth=5, random_state=614)"
      ]
     },
     "execution_count": 94,
     "metadata": {},
     "output_type": "execute_result"
    }
   ],
   "source": [
    "## Fit the tree\n",
    "tree_clf_invest.fit(X_train_invest, y_train_invest)\n"
   ]
  },
  {
   "cell_type": "markdown",
   "id": "23ded423",
   "metadata": {},
   "source": [
    "Let's see the confusion matrix to see how the model is doing."
   ]
  },
  {
   "cell_type": "code",
   "execution_count": 95,
   "id": "fe7ea84a",
   "metadata": {},
   "outputs": [],
   "source": [
    "train_pred_invest = tree_clf_invest.predict(X_train_invest)\n"
   ]
  },
  {
   "cell_type": "code",
   "execution_count": 96,
   "id": "180fba6a",
   "metadata": {},
   "outputs": [
    {
     "name": "stdout",
     "output_type": "stream",
     "text": [
      "[[98  0]\n",
      " [ 3 81]]\n"
     ]
    }
   ],
   "source": [
    "\n",
    "#_____________________________________________\n",
    "#             |                |\n",
    "#             |  PREDICTED NO  | PREDICTED YES\n",
    "#_____________| ______________ | _____________\n",
    "#             |                |\n",
    "# ACTUAL NO   |                |\n",
    "#_____________| ______________ | _____________\n",
    "#             |                |\n",
    "# ACTUAL YES  |                |\n",
    "#_____________| ______________ | _____________\n",
    "\n",
    "\n",
    "print(confusion_matrix(y_train_invest, train_pred_invest))\n"
   ]
  },
  {
   "cell_type": "markdown",
   "id": "6798d8b3",
   "metadata": {},
   "source": [
    "Probably overfitting. Let's do cross validation."
   ]
  },
  {
   "cell_type": "code",
   "execution_count": 97,
   "id": "28844848",
   "metadata": {},
   "outputs": [
    {
     "name": "stdout",
     "output_type": "stream",
     "text": [
      "Depth = 1\n",
      "Depth = 2\n",
      "Depth = 3\n",
      "Depth = 4\n",
      "Depth = 5\n",
      "Depth = 6\n",
      "Depth = 7\n",
      "Depth = 8\n",
      "Depth = 9\n",
      "Depth = 10\n",
      "Depth = 11\n",
      "Depth = 12\n",
      "Depth = 13\n",
      "Depth = 14\n",
      "Depth = 15\n",
      "Depth = 16\n",
      "Depth = 17\n",
      "Depth = 18\n",
      "Depth = 19\n",
      "Depth = 20\n"
     ]
    },
    {
     "data": {
      "text/plain": [
       "array([[0.55555556, 0.33333333, 0.33333333, 0.33333333, 0.33333333,\n",
       "        0.33333333, 0.33333333, 0.33333333, 0.33333333, 0.33333333,\n",
       "        0.33333333, 0.33333333, 0.33333333, 0.33333333, 0.33333333,\n",
       "        0.33333333, 0.33333333, 0.33333333, 0.33333333, 0.33333333],\n",
       "       [0.33333333, 0.44444444, 0.33333333, 0.44444444, 0.44444444,\n",
       "        0.44444444, 0.44444444, 0.44444444, 0.44444444, 0.44444444,\n",
       "        0.44444444, 0.44444444, 0.44444444, 0.44444444, 0.44444444,\n",
       "        0.44444444, 0.44444444, 0.44444444, 0.44444444, 0.44444444],\n",
       "       [0.55555556, 0.66666667, 0.77777778, 0.77777778, 0.88888889,\n",
       "        0.88888889, 0.88888889, 0.88888889, 0.88888889, 0.88888889,\n",
       "        0.88888889, 0.88888889, 0.88888889, 0.88888889, 0.88888889,\n",
       "        0.88888889, 0.88888889, 0.88888889, 0.88888889, 0.88888889],\n",
       "       [0.88888889, 0.55555556, 0.66666667, 0.77777778, 0.77777778,\n",
       "        0.77777778, 0.77777778, 0.77777778, 0.77777778, 0.77777778,\n",
       "        0.77777778, 0.77777778, 0.77777778, 0.77777778, 0.77777778,\n",
       "        0.77777778, 0.77777778, 0.77777778, 0.77777778, 0.77777778],\n",
       "       [0.625     , 0.5       , 0.5       , 0.5       , 0.5       ,\n",
       "        0.5       , 0.5       , 0.5       , 0.5       , 0.5       ,\n",
       "        0.5       , 0.5       , 0.5       , 0.5       , 0.5       ,\n",
       "        0.5       , 0.5       , 0.5       , 0.5       , 0.5       ],\n",
       "       [0.875     , 0.25      , 0.75      , 0.75      , 0.75      ,\n",
       "        0.75      , 0.75      , 0.75      , 0.75      , 0.75      ,\n",
       "        0.75      , 0.75      , 0.75      , 0.75      , 0.75      ,\n",
       "        0.75      , 0.75      , 0.75      , 0.75      , 0.75      ],\n",
       "       [0.375     , 0.5       , 0.625     , 0.625     , 0.625     ,\n",
       "        0.625     , 0.625     , 0.625     , 0.625     , 0.625     ,\n",
       "        0.625     , 0.625     , 0.625     , 0.625     , 0.625     ,\n",
       "        0.625     , 0.625     , 0.625     , 0.625     , 0.625     ],\n",
       "       [0.75      , 0.75      , 0.75      , 0.75      , 0.75      ,\n",
       "        0.75      , 0.75      , 0.75      , 0.75      , 0.75      ,\n",
       "        0.75      , 0.75      , 0.75      , 0.75      , 0.75      ,\n",
       "        0.75      , 0.75      , 0.75      , 0.75      , 0.75      ],\n",
       "       [0.125     , 0.25      , 0.25      , 0.25      , 0.375     ,\n",
       "        0.375     , 0.375     , 0.375     , 0.375     , 0.375     ,\n",
       "        0.375     , 0.375     , 0.375     , 0.375     , 0.375     ,\n",
       "        0.375     , 0.375     , 0.375     , 0.375     , 0.375     ],\n",
       "       [0.375     , 0.625     , 0.625     , 0.625     , 0.625     ,\n",
       "        0.625     , 0.625     , 0.625     , 0.625     , 0.625     ,\n",
       "        0.625     , 0.625     , 0.625     , 0.625     , 0.625     ,\n",
       "        0.625     , 0.625     , 0.625     , 0.625     , 0.625     ]])"
      ]
     },
     "execution_count": 97,
     "metadata": {},
     "output_type": "execute_result"
    }
   ],
   "source": [
    "# Decision tree (10-fold cross validation)\n",
    "\n",
    "\n",
    "# convert to DataFrame\n",
    "df = pd.DataFrame(X_train_invest)\n",
    "y_train_df = pd.DataFrame (y_train_invest)\n",
    "\n",
    "kfold = StratifiedKFold(n_splits=10,shuffle = True,random_state=440)\n",
    "\n",
    "X_train_copy = df.copy()\n",
    "\n",
    "# n will be the maximum max_depth I consider\n",
    "n = 20\n",
    "\n",
    "tree_accs = np.zeros((10,n))\n",
    "tree_precs = np.zeros((10,n))\n",
    "tree_recs = np.zeros((10,n))\n",
    "\n",
    "for j in range(1,n+1):\n",
    "    print(\"Depth =\", j)    \n",
    "    tree_invest = DecisionTreeClassifier(max_depth=j, random_state = 440)\n",
    "    \n",
    "    i = 0\n",
    "    for train_index,test_index in kfold.split(X_train_copy,y_train_df):\n",
    "        X_train_train, X_train_test = X_train_copy.iloc[train_index],X_train_copy.iloc[test_index]\n",
    "        y_train_train, y_train_test = y_train_df.iloc[train_index],y_train_df.iloc[test_index]\n",
    "\n",
    "        tree_clone_invest = clone(tree_invest)\n",
    "        tree_clone_invest.fit(X_train_train,y_train_train)\n",
    "        \n",
    "        y_predict_invest = tree_clone_invest.predict(X_train_test)\n",
    "        tree_accs[i,j-1] = accuracy_score(y_train_test,y_predict_invest)\n",
    "        tree_precs[i,j-1] = precision_score(y_train_test,y_predict_invest)\n",
    "        tree_recs[i,j-1] = recall_score(y_train_test,y_predict_invest)\n",
    "        i = i + 1\n",
    "\n",
    "tree_recs\n"
   ]
  },
  {
   "cell_type": "code",
   "execution_count": 98,
   "id": "7d335e98",
   "metadata": {},
   "outputs": [
    {
     "data": {
      "image/png": "[encoded data removed]",
      "text/plain": [
       "<Figure size 1008x720 with 1 Axes>"
      ]
     },
     "metadata": {
      "needs_background": "light"
     },
     "output_type": "display_data"
    }
   ],
   "source": [
    "## Plot that mean cv measure against max_depth\n",
    "\n",
    "plt.figure(figsize=(14,10))\n",
    "\n",
    "plt.plot(range(1,n+1), np.mean(tree_accs,axis=0),'b-o', label=\"Accuracy\")\n",
    "plt.plot(range(1,n+1), np.mean(tree_precs,axis=0),'r-o', label=\"Precision\")\n",
    "plt.plot(range(1,n+1), np.mean(tree_recs,axis=0),'g-o', label=\"Recall\")\n",
    "\n",
    "plt.title(\"Decision Tree - Balanced target variable\",fontsize=20)\n",
    "plt.ylabel(\"Mean CV Performance Score\",fontsize=16)\n",
    "plt.xlabel(\"Max Depth\",fontsize=16)\n",
    "\n",
    "plt.legend(fontsize=16)\n",
    "\n",
    "plt.savefig('C:/Users/holmf/Dropbox/Boot Camp_data project - Copy/decision_tree_invest.png')\n",
    "plt.show()\n"
   ]
  },
  {
   "cell_type": "markdown",
   "id": "f8a82939",
   "metadata": {},
   "source": [
    "##### Finally, we will go one step further and train a random forest to see if we can improve with respect to the tree"
   ]
  },
  {
   "cell_type": "code",
   "execution_count": 100,
   "id": "f8202a88",
   "metadata": {},
   "outputs": [
    {
     "name": "stdout",
     "output_type": "stream",
     "text": [
      "Depth = 1\n",
      "Depth = 2\n",
      "Depth = 3\n",
      "Depth = 4\n",
      "Depth = 5\n",
      "Depth = 6\n",
      "Depth = 7\n",
      "Depth = 8\n",
      "Depth = 9\n",
      "Depth = 10\n",
      "Depth = 11\n",
      "Depth = 12\n",
      "Depth = 13\n",
      "Depth = 14\n",
      "Depth = 15\n",
      "Depth = 16\n",
      "Depth = 17\n",
      "Depth = 18\n",
      "Depth = 19\n",
      "Depth = 20\n"
     ]
    }
   ],
   "source": [
    "## Random forest (10-fold cros validation)\n",
    "\n",
    "# convert to DataFrame\n",
    "df = pd.DataFrame(X_train_invest)\n",
    "y_train = pd.DataFrame (y_train_invest)\n",
    "\n",
    "kfold = StratifiedKFold(n_splits=10,shuffle = True,random_state=440)\n",
    "\n",
    "X_train_copy = df.copy()\n",
    "\n",
    "# n will be the maximum max_depth I consider\n",
    "n = 20\n",
    "\n",
    "accs = np.zeros((10,n))\n",
    "precs = np.zeros((10,n))\n",
    "recs = np.zeros((10,n))\n",
    "\n",
    "for j in range(1,n+1):\n",
    "    print(\"Depth =\", j)\n",
    "    rf_invest = RandomForestClassifier(n_estimators = 5000,max_depth=j, random_state = 440)\n",
    "    \n",
    "    i = 0\n",
    "    for train_index,test_index in kfold.split(X_train_copy,y_train):\n",
    "        X_train_train, X_train_test = X_train_copy.iloc[train_index],X_train_copy.iloc[test_index]\n",
    "        y_train_train, y_train_test = y_train.iloc[train_index],y_train.iloc[test_index]\n",
    "\n",
    "        rf_clone_invest = clone(rf_invest)\n",
    "        rf_clone_invest.fit(X_train_train,y_train_train.values.ravel())\n",
    "        \n",
    "        y_predict_invest = rf_clone_invest.predict(X_train_test)\n",
    "        accs[i,j-1] = accuracy_score(y_train_test,y_predict_invest)\n",
    "        precs[i,j-1] = precision_score(y_train_test,y_predict_invest)\n",
    "        recs[i,j-1] = recall_score(y_train_test,y_predict_invest)\n",
    "        i = i + 1      "
   ]
  },
  {
   "cell_type": "code",
   "execution_count": 101,
   "id": "e9b1d847",
   "metadata": {
    "scrolled": true
   },
   "outputs": [
    {
     "data": {
      "image/png": "[encoded data removed]",
      "text/plain": [
       "<Figure size 1008x720 with 1 Axes>"
      ]
     },
     "metadata": {
      "needs_background": "light"
     },
     "output_type": "display_data"
    }
   ],
   "source": [
    "## Plot that mean cv measure against max_depth\n",
    "\n",
    "## Sample Answer\n",
    "plt.figure(figsize=(14,10))\n",
    "\n",
    "plt.plot(range(1,n+1), np.mean(accs,axis=0),'b-o', label=\"Accuracy\")\n",
    "plt.plot(range(1,n+1), np.mean(precs,axis=0),'r-o', label=\"Precision\")\n",
    "plt.plot(range(1,n+1), np.mean(recs,axis=0),'g-o', label=\"Recall\")\n",
    "\n",
    "plt.title(\"Random Forest - Balanced target variable\",fontsize=20)\n",
    "plt.ylabel(\"Mean CV Performance Score\",fontsize=16)\n",
    "plt.xlabel(\"Max Depth\",fontsize=16)\n",
    "\n",
    "plt.legend(fontsize=16)\n",
    "\n",
    "plt.savefig('C:/Users/holmf/Dropbox/Boot Camp_data project - Copy/random_forest_invest.png')\n",
    "plt.show()"
   ]
  },
  {
   "cell_type": "markdown",
   "id": "d45b7f30",
   "metadata": {},
   "source": [
    "#### Target: C - environmental justice. "
   ]
  },
  {
   "cell_type": "code",
   "execution_count": 102,
   "id": "86416b07",
   "metadata": {
    "scrolled": true
   },
   "outputs": [
    {
     "data": {
      "text/html": [
       "<div>\n",
       "<style scoped>\n",
       "    .dataframe tbody tr th:only-of-type {\n",
       "        vertical-align: middle;\n",
       "    }\n",
       "\n",
       "    .dataframe tbody tr th {\n",
       "        vertical-align: top;\n",
       "    }\n",
       "\n",
       "    .dataframe thead th {\n",
       "        text-align: right;\n",
       "    }\n",
       "</style>\n",
       "<table border=\"1\" class=\"dataframe\">\n",
       "  <thead>\n",
       "    <tr style=\"text-align: right;\">\n",
       "      <th></th>\n",
       "      <th>NAME</th>\n",
       "      <th>Justice</th>\n",
       "    </tr>\n",
       "  </thead>\n",
       "  <tbody>\n",
       "    <tr>\n",
       "      <th>0</th>\n",
       "      <td>60 Plus Association</td>\n",
       "      <td>0</td>\n",
       "    </tr>\n",
       "    <tr>\n",
       "      <th>1</th>\n",
       "      <td>Adirondack Mountain Club</td>\n",
       "      <td>0</td>\n",
       "    </tr>\n",
       "    <tr>\n",
       "      <th>2</th>\n",
       "      <td>Advanced Energy Economy</td>\n",
       "      <td>0</td>\n",
       "    </tr>\n",
       "    <tr>\n",
       "      <th>3</th>\n",
       "      <td>Advanced Energy Management Alliance</td>\n",
       "      <td>0</td>\n",
       "    </tr>\n",
       "    <tr>\n",
       "      <th>4</th>\n",
       "      <td>Air Permitting Forum</td>\n",
       "      <td>0</td>\n",
       "    </tr>\n",
       "  </tbody>\n",
       "</table>\n",
       "</div>"
      ],
      "text/plain": [
       "                                  NAME  Justice\n",
       "0                  60 Plus Association        0\n",
       "1             Adirondack Mountain Club        0\n",
       "2              Advanced Energy Economy        0\n",
       "3  Advanced Energy Management Alliance        0\n",
       "4                 Air Permitting Forum        0"
      ]
     },
     "execution_count": 102,
     "metadata": {},
     "output_type": "execute_result"
    }
   ],
   "source": [
    "# We update the target variable: Past_investments_credits\n",
    "justice = categories[[\"NAME\",\"Justice\"]]\n",
    "justice.head(5)"
   ]
  },
  {
   "cell_type": "code",
   "execution_count": 103,
   "id": "9deabbbb",
   "metadata": {},
   "outputs": [
    {
     "data": {
      "text/plain": [
       "0    222\n",
       "1     39\n",
       "Name: target, dtype: int64"
      ]
     },
     "execution_count": 103,
     "metadata": {},
     "output_type": "execute_result"
    }
   ],
   "source": [
    "# Rename as \"target\"\n",
    "justice = justice.rename(columns={\"Justice\": \"target\"})\n",
    "justice.head(5)\n",
    "justice['target'].value_counts()"
   ]
  },
  {
   "cell_type": "code",
   "execution_count": 104,
   "id": "9d667fc0",
   "metadata": {},
   "outputs": [
    {
     "data": {
      "text/html": [
       "<div>\n",
       "<style scoped>\n",
       "    .dataframe tbody tr th:only-of-type {\n",
       "        vertical-align: middle;\n",
       "    }\n",
       "\n",
       "    .dataframe tbody tr th {\n",
       "        vertical-align: top;\n",
       "    }\n",
       "\n",
       "    .dataframe thead th {\n",
       "        text-align: right;\n",
       "    }\n",
       "</style>\n",
       "<table border=\"1\" class=\"dataframe\">\n",
       "  <thead>\n",
       "    <tr style=\"text-align: right;\">\n",
       "      <th></th>\n",
       "      <th>target</th>\n",
       "    </tr>\n",
       "  </thead>\n",
       "  <tbody>\n",
       "    <tr>\n",
       "      <th>231</th>\n",
       "      <td>1</td>\n",
       "    </tr>\n",
       "    <tr>\n",
       "      <th>161</th>\n",
       "      <td>1</td>\n",
       "    </tr>\n",
       "    <tr>\n",
       "      <th>251</th>\n",
       "      <td>0</td>\n",
       "    </tr>\n",
       "    <tr>\n",
       "      <th>190</th>\n",
       "      <td>0</td>\n",
       "    </tr>\n",
       "    <tr>\n",
       "      <th>30</th>\n",
       "      <td>0</td>\n",
       "    </tr>\n",
       "    <tr>\n",
       "      <th>...</th>\n",
       "      <td>...</td>\n",
       "    </tr>\n",
       "    <tr>\n",
       "      <th>202</th>\n",
       "      <td>1</td>\n",
       "    </tr>\n",
       "    <tr>\n",
       "      <th>14</th>\n",
       "      <td>0</td>\n",
       "    </tr>\n",
       "    <tr>\n",
       "      <th>193</th>\n",
       "      <td>0</td>\n",
       "    </tr>\n",
       "    <tr>\n",
       "      <th>187</th>\n",
       "      <td>1</td>\n",
       "    </tr>\n",
       "    <tr>\n",
       "      <th>34</th>\n",
       "      <td>0</td>\n",
       "    </tr>\n",
       "  </tbody>\n",
       "</table>\n",
       "<p>182 rows × 1 columns</p>\n",
       "</div>"
      ],
      "text/plain": [
       "     target\n",
       "231       1\n",
       "161       1\n",
       "251       0\n",
       "190       0\n",
       "30        0\n",
       "..      ...\n",
       "202       1\n",
       "14        0\n",
       "193       0\n",
       "187       1\n",
       "34        0\n",
       "\n",
       "[182 rows x 1 columns]"
      ]
     },
     "execution_count": 104,
     "metadata": {},
     "output_type": "execute_result"
    }
   ],
   "source": [
    "# Creat train and test split using the same doc_term_tfidf as X and invest['target'] as y\n",
    "X_train_justice, X_test_justice, y_train_justice, y_test_justice = train_test_split(doc_term_tfidf, justice['target'], test_size=0.3, random_state=440,stratify=justice['target'])\n",
    "\n",
    "y_train"
   ]
  },
  {
   "cell_type": "markdown",
   "id": "013047da",
   "metadata": {},
   "source": [
    "\n",
    " #### Stochastic gradient descent - Logistic regression"
   ]
  },
  {
   "cell_type": "code",
   "execution_count": 105,
   "id": "bf03efba",
   "metadata": {},
   "outputs": [
    {
     "name": "stdout",
     "output_type": "stream",
     "text": [
      "[0.83783784 0.83783784 0.86111111 0.86111111 0.86111111]\n",
      "Accuracy: 0.85 (+/- 0.02)\n"
     ]
    },
    {
     "data": {
      "text/plain": [
       "array([0.83783784, 0.83783784, 0.86111111, 0.86111111, 0.86111111])"
      ]
     },
     "execution_count": 105,
     "metadata": {},
     "output_type": "execute_result"
    }
   ],
   "source": [
    "sgd_clf_justice = SGDClassifier(random_state=123)\n",
    "sgf_clf_justice_scores = cross_val_score(sgd_clf_justice, X_train_justice, y_train_justice, cv=5)\n",
    "print(sgf_clf_justice_scores)\n",
    "print(\"Accuracy: %0.2f (+/- %0.2f)\" % (sgf_clf_justice_scores.mean(), sgf_clf_justice_scores.std() * 2))\n",
    "\n",
    "cross_val_score(sgd_clf_justice, X_train_justice, y_train_justice, cv=5, scoring='accuracy')\n"
   ]
  },
  {
   "cell_type": "markdown",
   "id": "170e8bad",
   "metadata": {},
   "source": [
    "Looking at the confusion matrix...\n"
   ]
  },
  {
   "cell_type": "code",
   "execution_count": 106,
   "id": "00ad7f06",
   "metadata": {},
   "outputs": [
    {
     "name": "stdout",
     "output_type": "stream",
     "text": [
      "[[155   0]\n",
      " [ 27   0]]\n"
     ]
    }
   ],
   "source": [
    "sgf_clf_justice_pred = cross_val_predict(sgd_clf_justice, X_train_justice, y_train_justice, cv=5)\n",
    "print(confusion_matrix(y_train_justice, sgf_clf_justice_pred))\n",
    "\n",
    "#_____________________________________________\n",
    "#             |                |\n",
    "#             |  PREDICTED NO  | PREDICTED YES\n",
    "#_____________| ______________ | _____________\n",
    "#             |                |\n",
    "# ACTUAL NO   |                |\n",
    "#_____________| ______________ | _____________\n",
    "#             |                |\n",
    "# ACTUAL YES  |                |\n",
    "#_____________| ______________ | _____________"
   ]
  },
  {
   "cell_type": "markdown",
   "id": "54539f35",
   "metadata": {},
   "source": [
    "... we can see that the results are not great"
   ]
  },
  {
   "cell_type": "code",
   "execution_count": 107,
   "id": "6e8af28a",
   "metadata": {},
   "outputs": [
    {
     "data": {
      "text/plain": [
       "{'early_stopping': True,\n",
       " 'fit_intercept': False,\n",
       " 'loss': 'log',\n",
       " 'penalty': 'l2'}"
      ]
     },
     "execution_count": 107,
     "metadata": {},
     "output_type": "execute_result"
    }
   ],
   "source": [
    "grid = {'fit_intercept': [True,False],\n",
    "        'early_stopping': [True, False],\n",
    "        'loss' : ['log'],\n",
    "        'penalty' : ['l2', 'l1', 'none']}\n",
    "search_justice = GridSearchCV(estimator=sgd_clf_justice, param_grid=grid, cv=5)\n",
    "search_justice.fit(X_train_justice, y_train_justice)\n",
    "search_justice.best_params_"
   ]
  },
  {
   "cell_type": "code",
   "execution_count": 108,
   "id": "88498d60",
   "metadata": {},
   "outputs": [
    {
     "name": "stdout",
     "output_type": "stream",
     "text": [
      "[0.83783784 0.83783784 0.86111111 0.86111111 0.86111111]\n",
      "accuracy: 0.8518018018018019\n"
     ]
    }
   ],
   "source": [
    "grid_sgd_clf_scores = cross_val_score(search_justice.best_estimator_, X_train_justice, y_train_justice, scoring = \"accuracy\",cv=5)\n",
    "print(grid_sgd_clf_scores)\n",
    "print(\"accuracy:\", grid_sgd_clf_scores.mean())"
   ]
  },
  {
   "cell_type": "code",
   "execution_count": 109,
   "id": "cb5a925a",
   "metadata": {},
   "outputs": [
    {
     "name": "stdout",
     "output_type": "stream",
     "text": [
      "[0. 0. 0. 0. 0.]\n",
      "Recall: 0.0\n"
     ]
    }
   ],
   "source": [
    "grid_sgd_clf_scores = cross_val_score(search_justice.best_estimator_, X_train_justice, y_train_justice, scoring = \"recall\",cv=5)\n",
    "print(grid_sgd_clf_scores)\n",
    "print(\"Recall:\", grid_sgd_clf_scores.mean())"
   ]
  },
  {
   "cell_type": "markdown",
   "id": "7fbb3e48",
   "metadata": {},
   "source": [
    "#### Linear support vector machine SVM"
   ]
  },
  {
   "cell_type": "code",
   "execution_count": 110,
   "id": "495838d0",
   "metadata": {},
   "outputs": [],
   "source": [
    "from sklearn.svm import LinearSVC\n",
    "\n",
    "svc_justice = LinearSVC()\n",
    "svc_justice.fit(X_train_justice,y_train_justice)\n",
    "\n",
    "train_pred_justice = svc_justice.predict(X_train_justice)"
   ]
  },
  {
   "cell_type": "code",
   "execution_count": 111,
   "id": "0d0cef62",
   "metadata": {},
   "outputs": [],
   "source": [
    "def tpr(actual,pred):\n",
    "    tp = np.sum((actual==1) & (pred == 1))\n",
    "    fn = np.sum((actual==1) & (pred == 0))\n",
    "    return tp/(tp+fn)\n",
    "    \n",
    "def fpr(actual,pred):\n",
    "    fp = np.sum((actual == 0) & (pred == 1))\n",
    "    tn = np.sum((actual == 0) & (pred == 0))\n",
    "    return fp/(fp+tn)\n",
    "\n",
    "def acc(actual,pred):\n",
    "    return np.sum(actual==pred)/len(actual)"
   ]
  },
  {
   "cell_type": "code",
   "execution_count": 112,
   "id": "1213d88f",
   "metadata": {},
   "outputs": [
    {
     "name": "stdout",
     "output_type": "stream",
     "text": [
      "The training tpr is 0.0\n",
      "The training fpr is 0.0\n",
      "The training accuracy is 0.8516483516483516\n"
     ]
    }
   ],
   "source": [
    "print(\"The training tpr is\",tpr(y_train_justice,train_pred_justice))\n",
    "print(\"The training fpr is\",fpr(y_train_justice,train_pred_justice))\n",
    "print(\"The training accuracy is\",acc(y_train_justice,train_pred_justice))"
   ]
  },
  {
   "cell_type": "markdown",
   "id": "50591846",
   "metadata": {},
   "source": [
    "##### We need to estimate using cross-validation. "
   ]
  },
  {
   "cell_type": "code",
   "execution_count": 113,
   "id": "2c107958",
   "metadata": {},
   "outputs": [
    {
     "name": "stdout",
     "output_type": "stream",
     "text": [
      "Regularization parameter = 1\n",
      "Regularization parameter = 2\n",
      "Regularization parameter = 3\n",
      "Regularization parameter = 4\n",
      "Regularization parameter = 5\n",
      "Regularization parameter = 6\n",
      "Regularization parameter = 7\n",
      "Regularization parameter = 8\n",
      "Regularization parameter = 9\n",
      "Regularization parameter = 10\n",
      "Regularization parameter = 11\n",
      "Regularization parameter = 12\n",
      "Regularization parameter = 13\n",
      "Regularization parameter = 14\n",
      "Regularization parameter = 15\n",
      "Regularization parameter = 16\n",
      "Regularization parameter = 17\n",
      "Regularization parameter = 18\n",
      "Regularization parameter = 19\n",
      "Regularization parameter = 20\n",
      "Regularization parameter = 21\n",
      "Regularization parameter = 22\n",
      "Regularization parameter = 23\n",
      "Regularization parameter = 24\n",
      "Regularization parameter = 25\n",
      "Regularization parameter = 26\n",
      "Regularization parameter = 27\n",
      "Regularization parameter = 28\n",
      "Regularization parameter = 29\n",
      "Regularization parameter = 30\n"
     ]
    }
   ],
   "source": [
    "## Linear SVM (10-fold cross validation)\n",
    "\n",
    "# I tested values of C = 0 < C < 1, and no difference in meassures were found for any values C < 1, thus the loop for various\n",
    "# values of C begins in 1 and increases by 1\n",
    "\n",
    "kfold = StratifiedKFold(n_splits=10 ,shuffle = True,random_state=440)\n",
    "\n",
    "df = pd.DataFrame(X_train_justice)\n",
    "y_train_df = pd.DataFrame (y_train_justice)\n",
    "\n",
    "X_train_copy = df.copy()\n",
    "\n",
    "# Regularization parameter \n",
    "Cs = 20\n",
    "\n",
    "svc_accs = np.zeros((10, Cs))\n",
    "svc_precs = np.zeros((10, Cs))\n",
    "svc_recs = np.zeros((10, Cs))\n",
    "\n",
    "for j in range(1,Cs+1):\n",
    "    print(\"Regularization parameter =\",j)\n",
    "    svc_justice = LinearSVC(penalty='l2', loss='squared_hinge',dual=True, tol=0.0001, C=j, \n",
    "                multi_class='ovr', fit_intercept=True, intercept_scaling=1, class_weight='balanced', \n",
    "                verbose=0, random_state=None, max_iter=5000)\n",
    "\n",
    "    i = 0\n",
    "    for train_index,test_index in kfold.split(X_train_copy,y_train_df):\n",
    "        X_train_train, X_train_test = X_train_copy.iloc[train_index],X_train_copy.iloc[test_index]\n",
    "        y_train_train, y_train_test = y_train_df.iloc[train_index],y_train_df.iloc[test_index]\n",
    "\n",
    "        svc_clone_justice = clone(svc_justice)\n",
    "        svc_clone_justice.fit(X_train_train, np.ravel(y_train_train,order='C')) #.values.ravel()\n",
    "        \n",
    "        y_predict_justice = svc_clone_justice.predict(X_train_test)\n",
    "        svc_accs[i, j-1] = accuracy_score(y_train_test,y_predict_justice)\n",
    "        svc_precs[i,j-1] = precision_score(y_train_test,y_predict_justice)\n",
    "        svc_recs[i,j-1] = recall_score(y_train_test,y_predict_justice)\n",
    "        i = i + 1\n",
    "\n"
   ]
  },
  {
   "cell_type": "code",
   "execution_count": 114,
   "id": "a8bdfc8f",
   "metadata": {},
   "outputs": [
    {
     "data": {
      "image/png": "[encoded data removed]",
      "text/plain": [
       "<Figure size 1008x720 with 1 Axes>"
      ]
     },
     "metadata": {
      "needs_background": "light"
     },
     "output_type": "display_data"
    }
   ],
   "source": [
    "## Plot that mean cv measure against max_depth\n",
    "\n",
    "plt.figure(figsize=(14,10))\n",
    "\n",
    "plt.plot(np.mean(svc_accs,axis=0),'b-o', label=\"Accuracy\")\n",
    "plt.plot(np.mean(svc_precs,axis=0),'r-o', label=\"Precision\")\n",
    "plt.plot(np.mean(svc_recs,axis=0),'g-o', label=\"Recall\")\n",
    "\n",
    "plt.title(\"Linear SVM - Target with high proportion of 0's\",fontsize=20)\n",
    "plt.ylabel(\"Mean CV Performance Score\",fontsize=16)\n",
    "plt.xlabel(\"Regularization parameter\",fontsize=16)\n",
    "\n",
    "plt.legend(fontsize=16)\n",
    "\n",
    "plt.savefig('C:/Users/holmf/Dropbox/Boot Camp_data project - Copy/linearSVC_justice.png')\n",
    "plt.show()"
   ]
  },
  {
   "cell_type": "markdown",
   "id": "a440939b",
   "metadata": {},
   "source": [
    "### Decision tree"
   ]
  },
  {
   "cell_type": "code",
   "execution_count": 115,
   "id": "76ec4177",
   "metadata": {},
   "outputs": [],
   "source": [
    "from sklearn.tree import DecisionTreeClassifier"
   ]
  },
  {
   "cell_type": "code",
   "execution_count": 116,
   "id": "6d6e5e9a",
   "metadata": {},
   "outputs": [
    {
     "data": {
      "text/plain": [
       "DecisionTreeClassifier(max_depth=5, random_state=614)"
      ]
     },
     "execution_count": 116,
     "metadata": {},
     "output_type": "execute_result"
    }
   ],
   "source": [
    "max_depth = 5\n",
    "tree_clf_justice = DecisionTreeClassifier(max_depth = max_depth, \n",
    "                                  random_state = 614)\n",
    "## Fit the tree\n",
    "tree_clf_justice.fit(X_train_justice, y_train_justice)"
   ]
  },
  {
   "cell_type": "markdown",
   "id": "8dba0f75",
   "metadata": {},
   "source": [
    "Let's see the confusion matrix to see how the model is doing."
   ]
  },
  {
   "cell_type": "code",
   "execution_count": 117,
   "id": "e8e5da2d",
   "metadata": {},
   "outputs": [],
   "source": [
    "train_pred_justice = tree_clf_justice.predict(X_train_justice)"
   ]
  },
  {
   "cell_type": "code",
   "execution_count": 118,
   "id": "18a17bc4",
   "metadata": {},
   "outputs": [
    {
     "name": "stdout",
     "output_type": "stream",
     "text": [
      "[[155   0]\n",
      " [  1  26]]\n"
     ]
    }
   ],
   "source": [
    "\n",
    "#_____________________________________________\n",
    "#             |                |\n",
    "#             |  PREDICTED NO  | PREDICTED YES\n",
    "#_____________| ______________ | _____________\n",
    "#             |                |\n",
    "# ACTUAL NO   |                |\n",
    "#_____________| ______________ | _____________\n",
    "#             |                |\n",
    "# ACTUAL YES  |                |\n",
    "#_____________| ______________ | _____________\n",
    "\n",
    "\n",
    "print(confusion_matrix(y_train_justice, train_pred_justice))"
   ]
  },
  {
   "cell_type": "markdown",
   "id": "efe8cec4",
   "metadata": {},
   "source": [
    "We might be overfitting again"
   ]
  },
  {
   "cell_type": "code",
   "execution_count": 119,
   "id": "f76768a9",
   "metadata": {},
   "outputs": [],
   "source": [
    "from sklearn.model_selection import train_test_split, StratifiedKFold\n",
    "from sklearn.base import clone\n",
    "## Accuracy\n",
    "from sklearn.metrics import accuracy_score\n",
    "## Precision\n",
    "from sklearn.metrics import precision_score\n",
    "## Recall\n",
    "from sklearn.metrics import recall_score"
   ]
  },
  {
   "cell_type": "code",
   "execution_count": 120,
   "id": "25489f35",
   "metadata": {},
   "outputs": [
    {
     "name": "stdout",
     "output_type": "stream",
     "text": [
      "Depth = 1\n"
     ]
    },
    {
     "name": "stderr",
     "output_type": "stream",
     "text": [
      "C:\\Users\\holmf\\anaconda3\\lib\\site-packages\\sklearn\\metrics\\_classification.py:1245: UndefinedMetricWarning: Precision is ill-defined and being set to 0.0 due to no predicted samples. Use `zero_division` parameter to control this behavior.\n",
      "  _warn_prf(average, modifier, msg_start, len(result))\n",
      "C:\\Users\\holmf\\anaconda3\\lib\\site-packages\\sklearn\\metrics\\_classification.py:1245: UndefinedMetricWarning: Precision is ill-defined and being set to 0.0 due to no predicted samples. Use `zero_division` parameter to control this behavior.\n",
      "  _warn_prf(average, modifier, msg_start, len(result))\n",
      "C:\\Users\\holmf\\anaconda3\\lib\\site-packages\\sklearn\\metrics\\_classification.py:1245: UndefinedMetricWarning: Precision is ill-defined and being set to 0.0 due to no predicted samples. Use `zero_division` parameter to control this behavior.\n",
      "  _warn_prf(average, modifier, msg_start, len(result))\n",
      "C:\\Users\\holmf\\anaconda3\\lib\\site-packages\\sklearn\\metrics\\_classification.py:1245: UndefinedMetricWarning: Precision is ill-defined and being set to 0.0 due to no predicted samples. Use `zero_division` parameter to control this behavior.\n",
      "  _warn_prf(average, modifier, msg_start, len(result))\n"
     ]
    },
    {
     "name": "stdout",
     "output_type": "stream",
     "text": [
      "Depth = 2\n"
     ]
    },
    {
     "name": "stderr",
     "output_type": "stream",
     "text": [
      "C:\\Users\\holmf\\anaconda3\\lib\\site-packages\\sklearn\\metrics\\_classification.py:1245: UndefinedMetricWarning: Precision is ill-defined and being set to 0.0 due to no predicted samples. Use `zero_division` parameter to control this behavior.\n",
      "  _warn_prf(average, modifier, msg_start, len(result))\n",
      "C:\\Users\\holmf\\anaconda3\\lib\\site-packages\\sklearn\\metrics\\_classification.py:1245: UndefinedMetricWarning: Precision is ill-defined and being set to 0.0 due to no predicted samples. Use `zero_division` parameter to control this behavior.\n",
      "  _warn_prf(average, modifier, msg_start, len(result))\n",
      "C:\\Users\\holmf\\anaconda3\\lib\\site-packages\\sklearn\\metrics\\_classification.py:1245: UndefinedMetricWarning: Precision is ill-defined and being set to 0.0 due to no predicted samples. Use `zero_division` parameter to control this behavior.\n",
      "  _warn_prf(average, modifier, msg_start, len(result))\n"
     ]
    },
    {
     "name": "stdout",
     "output_type": "stream",
     "text": [
      "Depth = 3\n"
     ]
    },
    {
     "name": "stderr",
     "output_type": "stream",
     "text": [
      "C:\\Users\\holmf\\anaconda3\\lib\\site-packages\\sklearn\\metrics\\_classification.py:1245: UndefinedMetricWarning: Precision is ill-defined and being set to 0.0 due to no predicted samples. Use `zero_division` parameter to control this behavior.\n",
      "  _warn_prf(average, modifier, msg_start, len(result))\n",
      "C:\\Users\\holmf\\anaconda3\\lib\\site-packages\\sklearn\\metrics\\_classification.py:1245: UndefinedMetricWarning: Precision is ill-defined and being set to 0.0 due to no predicted samples. Use `zero_division` parameter to control this behavior.\n",
      "  _warn_prf(average, modifier, msg_start, len(result))\n"
     ]
    },
    {
     "name": "stdout",
     "output_type": "stream",
     "text": [
      "Depth = 4\n",
      "Depth = 5\n",
      "Depth = 6\n",
      "Depth = 7\n",
      "Depth = 8\n",
      "Depth = 9\n",
      "Depth = 10\n",
      "Depth = 11\n",
      "Depth = 12\n",
      "Depth = 13\n",
      "Depth = 14\n",
      "Depth = 15\n",
      "Depth = 16\n",
      "Depth = 17\n",
      "Depth = 18\n",
      "Depth = 19\n",
      "Depth = 20\n",
      "Depth = 21\n",
      "Depth = 22\n",
      "Depth = 23\n",
      "Depth = 24\n",
      "Depth = 25\n",
      "Depth = 26\n",
      "Depth = 27\n",
      "Depth = 28\n",
      "Depth = 29\n",
      "Depth = 30\n"
     ]
    },
    {
     "data": {
      "text/plain": [
       "array([[0.66666667, 1.        , 1.        , 1.        , 1.        ,\n",
       "        1.        , 1.        , 1.        , 1.        , 1.        ,\n",
       "        1.        , 1.        , 1.        , 1.        , 1.        ,\n",
       "        1.        , 1.        , 1.        , 1.        , 1.        ,\n",
       "        1.        , 1.        , 1.        , 1.        , 1.        ,\n",
       "        1.        , 1.        , 1.        , 1.        , 1.        ],\n",
       "       [0.        , 0.66666667, 0.66666667, 0.66666667, 0.66666667,\n",
       "        0.66666667, 0.66666667, 0.66666667, 0.66666667, 0.66666667,\n",
       "        0.66666667, 0.66666667, 0.66666667, 0.66666667, 0.66666667,\n",
       "        0.66666667, 0.66666667, 0.66666667, 0.66666667, 0.66666667,\n",
       "        0.66666667, 0.66666667, 0.66666667, 0.66666667, 0.66666667,\n",
       "        0.66666667, 0.66666667, 0.66666667, 0.66666667, 0.66666667],\n",
       "       [0.5       , 0.5       , 0.5       , 0.5       , 0.5       ,\n",
       "        0.5       , 0.5       , 0.5       , 0.5       , 0.5       ,\n",
       "        0.5       , 0.5       , 0.5       , 0.5       , 0.5       ,\n",
       "        0.5       , 0.5       , 0.5       , 0.5       , 0.5       ,\n",
       "        0.5       , 0.5       , 0.5       , 0.5       , 0.5       ,\n",
       "        0.5       , 0.5       , 0.5       , 0.5       , 0.5       ],\n",
       "       [0.        , 0.        , 0.        , 0.        , 0.        ,\n",
       "        0.        , 0.        , 0.        , 0.        , 0.        ,\n",
       "        0.        , 0.        , 0.        , 0.        , 0.        ,\n",
       "        0.        , 0.        , 0.        , 0.        , 0.        ,\n",
       "        0.        , 0.        , 0.        , 0.        , 0.        ,\n",
       "        0.        , 0.        , 0.        , 0.        , 0.        ],\n",
       "       [1.        , 1.        , 1.        , 1.        , 1.        ,\n",
       "        1.        , 1.        , 1.        , 1.        , 1.        ,\n",
       "        1.        , 1.        , 1.        , 1.        , 1.        ,\n",
       "        1.        , 1.        , 1.        , 1.        , 1.        ,\n",
       "        1.        , 1.        , 1.        , 1.        , 1.        ,\n",
       "        1.        , 1.        , 1.        , 1.        , 1.        ],\n",
       "       [0.33333333, 0.66666667, 0.66666667, 0.66666667, 0.66666667,\n",
       "        0.66666667, 0.66666667, 0.66666667, 0.66666667, 0.66666667,\n",
       "        0.66666667, 0.66666667, 0.66666667, 0.66666667, 0.66666667,\n",
       "        0.66666667, 0.66666667, 0.66666667, 0.66666667, 0.66666667,\n",
       "        0.66666667, 0.66666667, 0.66666667, 0.66666667, 0.66666667,\n",
       "        0.66666667, 0.66666667, 0.66666667, 0.66666667, 0.66666667],\n",
       "       [0.33333333, 0.66666667, 0.66666667, 0.66666667, 0.66666667,\n",
       "        0.66666667, 0.66666667, 0.66666667, 0.66666667, 0.66666667,\n",
       "        0.66666667, 0.66666667, 0.66666667, 0.66666667, 0.66666667,\n",
       "        0.66666667, 0.66666667, 0.66666667, 0.66666667, 0.66666667,\n",
       "        0.66666667, 0.66666667, 0.66666667, 0.66666667, 0.66666667,\n",
       "        0.66666667, 0.66666667, 0.66666667, 0.66666667, 0.66666667],\n",
       "       [0.        , 0.        , 0.        , 0.        , 0.        ,\n",
       "        0.        , 0.        , 0.        , 0.        , 0.        ,\n",
       "        0.        , 0.        , 0.        , 0.        , 0.        ,\n",
       "        0.        , 0.        , 0.        , 0.        , 0.        ,\n",
       "        0.        , 0.        , 0.        , 0.        , 0.        ,\n",
       "        0.        , 0.        , 0.        , 0.        , 0.        ],\n",
       "       [0.        , 0.        , 0.        , 0.        , 0.        ,\n",
       "        0.        , 0.        , 0.        , 0.        , 0.        ,\n",
       "        0.        , 0.        , 0.        , 0.        , 0.        ,\n",
       "        0.        , 0.        , 0.        , 0.        , 0.        ,\n",
       "        0.        , 0.        , 0.        , 0.        , 0.        ,\n",
       "        0.        , 0.        , 0.        , 0.        , 0.        ],\n",
       "       [0.        , 0.        , 0.        , 0.        , 0.        ,\n",
       "        0.        , 0.        , 0.        , 0.        , 0.        ,\n",
       "        0.        , 0.        , 0.        , 0.        , 0.        ,\n",
       "        0.        , 0.        , 0.        , 0.        , 0.        ,\n",
       "        0.        , 0.        , 0.        , 0.        , 0.        ,\n",
       "        0.        , 0.        , 0.        , 0.        , 0.        ]])"
      ]
     },
     "execution_count": 120,
     "metadata": {},
     "output_type": "execute_result"
    }
   ],
   "source": [
    "# Decision tree (10-fold cross validation)\n",
    "\n",
    "# convert to DataFrame\n",
    "df = pd.DataFrame(X_train_justice)\n",
    "y_train_df = pd.DataFrame (y_train_justice)\n",
    "\n",
    "kfold = StratifiedKFold(n_splits=10,shuffle = True,random_state=440)\n",
    "\n",
    "X_train_copy = df.copy()\n",
    "\n",
    "# n will be the maximum max_depth I consider\n",
    "n = 30\n",
    "\n",
    "tree_accs = np.zeros((10,n))\n",
    "tree_precs = np.zeros((10,n))\n",
    "tree_recs = np.zeros((10,n))\n",
    "\n",
    "for j in range(1,n+1):\n",
    "    print(\"Depth =\", j)    \n",
    "    tree_justice = DecisionTreeClassifier(max_depth=j, random_state = 440)\n",
    "    \n",
    "    i = 0\n",
    "    for train_index,test_index in kfold.split(X_train_copy,y_train_df):\n",
    "        X_train_train, X_train_test = X_train_copy.iloc[train_index],X_train_copy.iloc[test_index]\n",
    "        y_train_train, y_train_test = y_train_df.iloc[train_index],y_train_df.iloc[test_index]\n",
    "\n",
    "        tree_justice_clone = clone(tree_justice)\n",
    "        tree_justice_clone.fit(X_train_train,y_train_train)\n",
    "        \n",
    "        y_predict_justice = tree_justice_clone.predict(X_train_test)\n",
    "        tree_accs[i,j-1] = accuracy_score(y_train_test,y_predict_justice)\n",
    "        tree_precs[i,j-1] = precision_score(y_train_test,y_predict_justice)\n",
    "        tree_recs[i,j-1] = recall_score(y_train_test,y_predict_justice)\n",
    "        i = i + 1\n",
    "\n",
    "tree_recs"
   ]
  },
  {
   "cell_type": "code",
   "execution_count": 121,
   "id": "5e380366",
   "metadata": {},
   "outputs": [
    {
     "data": {
      "image/png": "[encoded data removed]",
      "text/plain": [
       "<Figure size 1008x720 with 1 Axes>"
      ]
     },
     "metadata": {
      "needs_background": "light"
     },
     "output_type": "display_data"
    }
   ],
   "source": [
    "## Plot mean cv measure against max_depth\n",
    "\n",
    "plt.figure(figsize=(14,10))\n",
    "\n",
    "plt.plot(range(1,n+1), np.mean(tree_accs,axis=0),'b-o', label=\"Accuracy\")\n",
    "plt.plot(range(1,n+1), np.mean(tree_precs,axis=0),'r-o', label=\"Precision\")\n",
    "plt.plot(range(1,n+1), np.mean(tree_recs,axis=0),'g-o', label=\"Recall\")\n",
    "\n",
    "plt.title(\"Decision Tree - Target with high proportion of 0's\",fontsize=20)\n",
    "plt.ylabel(\"Mean CV Performance Score\",fontsize=16)\n",
    "plt.xlabel(\"Max Depth\",fontsize=16)\n",
    "\n",
    "plt.legend(fontsize=16)\n",
    "\n",
    "plt.savefig('C:/Users/holmf/Dropbox/Boot Camp_data project - Copy/decision_tree_justice.png')\n",
    "plt.show()\n"
   ]
  },
  {
   "cell_type": "markdown",
   "id": "f144d372",
   "metadata": {},
   "source": [
    "##### Finally, we will go one step further and train a random forest to see if we can improve with respect to the tree"
   ]
  },
  {
   "cell_type": "code",
   "execution_count": 122,
   "id": "b1189d7f",
   "metadata": {},
   "outputs": [],
   "source": [
    "# This imports the random forest classifier\n",
    "from sklearn.ensemble import RandomForestClassifier"
   ]
  },
  {
   "cell_type": "code",
   "execution_count": 123,
   "id": "8c2b85ee",
   "metadata": {},
   "outputs": [
    {
     "name": "stdout",
     "output_type": "stream",
     "text": [
      "Depth = 1\n",
      "Depth = 2\n",
      "Depth = 3\n",
      "Depth = 4\n",
      "Depth = 5\n",
      "Depth = 6\n",
      "Depth = 7\n",
      "Depth = 8\n",
      "Depth = 9\n",
      "Depth = 10\n",
      "Depth = 11\n",
      "Depth = 12\n",
      "Depth = 13\n",
      "Depth = 14\n",
      "Depth = 15\n",
      "Depth = 16\n",
      "Depth = 17\n",
      "Depth = 18\n",
      "Depth = 19\n",
      "Depth = 20\n"
     ]
    },
    {
     "data": {
      "text/plain": [
       "array([[0.86486486, 0.86486486, 0.86486486, 0.86486486, 0.86486486,\n",
       "        0.86486486, 0.86486486, 0.86486486, 0.86486486, 0.86486486,\n",
       "        0.86486486, 0.86486486, 0.86486486, 0.86486486, 0.86486486,\n",
       "        0.86486486, 0.86486486, 0.86486486, 0.86486486, 0.86486486],\n",
       "       [0.89189189, 0.91891892, 0.91891892, 0.91891892, 0.91891892,\n",
       "        0.91891892, 0.91891892, 0.91891892, 0.91891892, 0.91891892,\n",
       "        0.91891892, 0.91891892, 0.91891892, 0.91891892, 0.91891892,\n",
       "        0.91891892, 0.91891892, 0.91891892, 0.91891892, 0.91891892],\n",
       "       [0.88888889, 0.88888889, 0.88888889, 0.88888889, 0.88888889,\n",
       "        0.88888889, 0.88888889, 0.88888889, 0.88888889, 0.88888889,\n",
       "        0.88888889, 0.88888889, 0.88888889, 0.88888889, 0.88888889,\n",
       "        0.88888889, 0.88888889, 0.88888889, 0.88888889, 0.88888889],\n",
       "       [0.88888889, 0.88888889, 0.88888889, 0.88888889, 0.88888889,\n",
       "        0.88888889, 0.88888889, 0.88888889, 0.88888889, 0.88888889,\n",
       "        0.88888889, 0.88888889, 0.88888889, 0.88888889, 0.88888889,\n",
       "        0.88888889, 0.88888889, 0.88888889, 0.88888889, 0.88888889],\n",
       "       [0.88888889, 0.88888889, 0.88888889, 0.88888889, 0.88888889,\n",
       "        0.88888889, 0.88888889, 0.88888889, 0.88888889, 0.88888889,\n",
       "        0.88888889, 0.88888889, 0.88888889, 0.88888889, 0.88888889,\n",
       "        0.88888889, 0.88888889, 0.88888889, 0.88888889, 0.88888889]])"
      ]
     },
     "execution_count": 123,
     "metadata": {},
     "output_type": "execute_result"
    }
   ],
   "source": [
    "# Random forest (10-fold cross validation)\n",
    "\n",
    "# convert to DataFrame\n",
    "df = pd.DataFrame(X_train_justice)\n",
    "y_train = pd.DataFrame (y_train_justice)\n",
    "\n",
    "kfold = StratifiedKFold(n_splits=5,shuffle = True,random_state=440)\n",
    "\n",
    "X_train_copy = df.copy()\n",
    "\n",
    "# n will be the maximum max_depth I consider\n",
    "n = 20\n",
    "\n",
    "accs = np.zeros((10,n))\n",
    "precs = np.zeros((10,n))\n",
    "recs = np.zeros((10,n))\n",
    "\n",
    "for j in range(1,n+1):\n",
    "    print(\"Depth =\", j)\n",
    "    rf_justice = RandomForestClassifier(n_estimators = 5000,max_depth=j, random_state = 440)\n",
    "    \n",
    "    i = 0\n",
    "    for train_index,test_index in kfold.split(X_train_copy,y_train):\n",
    "        X_train_train, X_train_test = X_train_copy.iloc[train_index],X_train_copy.iloc[test_index]\n",
    "        y_train_train, y_train_test = y_train.iloc[train_index],y_train.iloc[test_index]\n",
    "\n",
    "        rf_justice_clone = clone(rf_justice)\n",
    "        rf_justice_clone.fit(X_train_train,y_train_train.values.ravel())\n",
    "        \n",
    "        y_predict_justice = rf_justice_clone.predict(X_train_test)\n",
    "        accs[i,j-1] = accuracy_score(y_train_test,y_predict_justice)\n",
    "        precs[i,j-1] = precision_score(y_train_test,y_predict_justice)\n",
    "        recs[i,j-1] = recall_score(y_train_test,y_predict_justice)\n",
    "        i = i + 1      \n",
    "\n",
    "accs"
   ]
  },
  {
   "cell_type": "code",
   "execution_count": 124,
   "id": "105bd2c2",
   "metadata": {},
   "outputs": [
    {
     "data": {
      "image/png": "[encoded data removed]",
      "text/plain": [
       "<Figure size 1008x720 with 1 Axes>"
      ]
     },
     "metadata": {
      "needs_background": "light"
     },
     "output_type": "display_data"
    }
   ],
   "source": [
    "## Plot that mean cv measure against max_depth\n",
    "\n",
    "## Sample Answer\n",
    "plt.figure(figsize=(14,10))\n",
    "\n",
    "plt.plot(range(1,n+1), np.mean(accs,axis=0),'b-o', label=\"Accuracy\")\n",
    "plt.plot(range(1,n+1), np.mean(precs,axis=0),'r-o', label=\"Precision\")\n",
    "plt.plot(range(1,n+1), np.mean(recs,axis=0),'g-o', label=\"Recall\")\n",
    "\n",
    "plt.title(\"Random Forest - Target with high proportion of 0's\",fontsize=20)\n",
    "plt.ylabel(\"Mean CV Performance Score\",fontsize=16)\n",
    "plt.xlabel(\"Max Depth\",fontsize=16)\n",
    "\n",
    "plt.legend(fontsize=16)\n",
    "\n",
    "plt.savefig('C:/Users/holmf/Dropbox/Boot Camp_data project - Copy/random_forest_justice.png')\n",
    "plt.show()"
   ]
  },
  {
   "cell_type": "markdown",
   "id": "d12685b8",
   "metadata": {},
   "source": [
    "#### Model selection and prediction on test set"
   ]
  },
  {
   "cell_type": "markdown",
   "id": "1fc3381e",
   "metadata": {},
   "source": [
    "Model selection. Taking into account accuracy and recall* measures (the two most relevant for us), the results show that the **Linear SVC** is the best performing model. The plots also show that the best training results are achieved at a depth of 3, so I will fix the hyperparameter at 4 for prediction on the test set.\n",
    "\n",
    "\n",
    "*number of correct results divided by the number of results that should have been returned."
   ]
  },
  {
   "cell_type": "code",
   "execution_count": 135,
   "id": "93826583",
   "metadata": {},
   "outputs": [],
   "source": [
    "# legal with number of splits = 3\n",
    "\n",
    "df = pd.DataFrame(X_train_legal)\n",
    "y_train = pd.DataFrame (y_train_legal)\n",
    "\n",
    "kfold = StratifiedKFold(n_splits=10,shuffle = True,random_state=440)\n",
    "\n",
    "svc_legal = LinearSVC(penalty='l2', loss='squared_hinge',dual=True, tol=0.0001, C=5, \n",
    "                multi_class='ovr', fit_intercept=True, intercept_scaling=1, class_weight='balanced', \n",
    "                verbose=0, random_state=None, max_iter=5000)\n",
    "\n",
    "for train_index,test_index in kfold.split(df,y_train):\n",
    "        X_train_train, X_train_test = X_train_copy.iloc[train_index],X_train_copy.iloc[test_index]\n",
    "        y_train_train, y_train_test = y_train.iloc[train_index],y_train.iloc[test_index]\n",
    "\n",
    "        svc_legal.fit(X_train_train,y_train_train.values.ravel())"
   ]
  },
  {
   "cell_type": "code",
   "execution_count": 136,
   "id": "c7430f9a",
   "metadata": {},
   "outputs": [],
   "source": [
    "y_predict_legal = svc_legal.predict(X_test_legal)\n",
    "accs_legal = accuracy_score(y_test_legal,y_predict_legal)\n",
    "precs_legal = precision_score(y_test_legal,y_predict_legal)\n",
    "recs_legal = recall_score(y_test_legal,y_predict_legal)"
   ]
  },
  {
   "cell_type": "code",
   "execution_count": 143,
   "id": "c8ae33b6",
   "metadata": {},
   "outputs": [
    {
     "name": "stdout",
     "output_type": "stream",
     "text": [
      "The accuracy for the decision tree on the 'legal target' test data is 0.46835443037974683\n",
      "The precision for the decision tree on the 'legal target' test data is 0.625\n",
      "The recall for the decision tree on the 'legal target' test data is 0.5555555555555556\n"
     ]
    }
   ],
   "source": [
    "print(\"The accuracy for the linear SVM on the 'legal target' test data is\",accs_legal)\n",
    "print(\"The precision for the linear SVM on the 'legal target' test data is\",precs_legal)\n",
    "print(\"The recall for the linear SVM on the 'legal target' test data is\",recs_legal)"
   ]
  },
  {
   "cell_type": "code",
   "execution_count": 137,
   "id": "65c3486d",
   "metadata": {},
   "outputs": [],
   "source": [
    "# invest with number of splits = 3\n",
    "\n",
    "df = pd.DataFrame(X_train_invest)\n",
    "y_train = pd.DataFrame (y_train_invest)\n",
    "\n",
    "kfold = StratifiedKFold(n_splits=10,shuffle = True,random_state=440)\n",
    "\n",
    "svc_invest = LinearSVC(penalty='l2', loss='squared_hinge',dual=True, tol=0.0001, C=5, \n",
    "                multi_class='ovr', fit_intercept=True, intercept_scaling=1, class_weight='balanced', \n",
    "                verbose=0, random_state=None, max_iter=5000)\n",
    "\n",
    "for train_index,test_index in kfold.split(df,y_train):\n",
    "        X_train_train, X_train_test = X_train_copy.iloc[train_index],X_train_copy.iloc[test_index]\n",
    "        y_train_train, y_train_test = y_train.iloc[train_index],y_train.iloc[test_index]\n",
    "\n",
    "        svc_invest .fit(X_train_train,y_train_train.values.ravel())"
   ]
  },
  {
   "cell_type": "code",
   "execution_count": 144,
   "id": "d111b625",
   "metadata": {},
   "outputs": [],
   "source": [
    "y_predict_invest = svc_invest .predict(X_test_invest)\n",
    "accs_invest = accuracy_score(y_test_invest,y_predict_invest)\n",
    "precs_invest = precision_score(y_test_invest,y_predict_invest)\n",
    "recs_invest = recall_score(y_test_invest,y_predict_invest)"
   ]
  },
  {
   "cell_type": "code",
   "execution_count": 145,
   "id": "c720c2b5",
   "metadata": {},
   "outputs": [
    {
     "name": "stdout",
     "output_type": "stream",
     "text": [
      "The accuracy for the decision tree on the 'investment target' test data is 0.4177215189873418\n",
      "The precision for the decision tree on the 'investment target' test data is 0.3333333333333333\n",
      "The recall for the decision tree on the 'investment target' test data is 0.2777777777777778\n"
     ]
    }
   ],
   "source": [
    "print(\"The accuracy for the linear SVM on the 'investment target' test data is\",accs_invest)\n",
    "print(\"The precision for the linear SVM on the 'investment target' test data is\",precs_invest)\n",
    "print(\"The recall for the linear SVM on the 'investment target' test data is\",recs_invest)"
   ]
  },
  {
   "cell_type": "code",
   "execution_count": 146,
   "id": "70d9b229",
   "metadata": {},
   "outputs": [],
   "source": [
    "# justice with max depth = 3\n",
    "\n",
    "df = pd.DataFrame(X_train_justice)\n",
    "y_train = pd.DataFrame (y_train_justice)\n",
    "\n",
    "kfold = StratifiedKFold(n_splits=10,shuffle = True,random_state=440)\n",
    "\n",
    "svc_justice = LinearSVC(penalty='l2', loss='squared_hinge',dual=True, tol=0.0001, C=5, \n",
    "                multi_class='ovr', fit_intercept=True, intercept_scaling=1, class_weight='balanced', \n",
    "                verbose=0, random_state=None, max_iter=5000)\n",
    "\n",
    "for train_index,test_index in kfold.split(df,y_train):\n",
    "        X_train_train, X_train_test = X_train_copy.iloc[train_index],X_train_copy.iloc[test_index]\n",
    "        y_train_train, y_train_test = y_train.iloc[train_index],y_train.iloc[test_index]\n",
    "\n",
    "        svc_justice.fit(X_train_train,y_train_train.values.ravel())"
   ]
  },
  {
   "cell_type": "code",
   "execution_count": 147,
   "id": "cc6e821c",
   "metadata": {},
   "outputs": [],
   "source": [
    "y_predict_justice = svc_justice.predict(X_test_justice)\n",
    "accs_justice = accuracy_score(y_test_justice,y_predict_justice)\n",
    "precs_justice = precision_score(y_test_justice,y_predict_justice)\n",
    "recs_justice = recall_score(y_test_justice,y_predict_justice)"
   ]
  },
  {
   "cell_type": "code",
   "execution_count": 148,
   "id": "c9f12eae",
   "metadata": {},
   "outputs": [
    {
     "name": "stdout",
     "output_type": "stream",
     "text": [
      "The accuracy for the decision tree on the 'legal target' test data is 0.8227848101265823\n",
      "The precision for the decision tree on the 'legal target' test data is 0.4444444444444444\n",
      "The recall for the decision tree on the 'legal target' test data is 0.6666666666666666\n"
     ]
    }
   ],
   "source": [
    "print(\"The accuracy for the linear SVM on the 'legal target' test data is\",accs_justice)\n",
    "print(\"The precision for the linear SVM on the 'legal target' test data is\",precs_justice)\n",
    "print(\"The recall for the linear SVM on the 'legal target' test data is\",recs_justice)"
   ]
  },
  {
   "cell_type": "markdown",
   "id": "fc9837a0",
   "metadata": {},
   "source": [
    "This code was written as the final project for the Erd&#337;s Institute C&#337;de Data Science Boot Camp by Federico Holm, Ph. D., 2021.\n",
    "\n",
    "Redistribution of the material contained in this repository is conditional on acknowledgement of Federico Holm, Ph.D.'s original authorship."
   ]
  },
  {
   "cell_type": "code",
   "execution_count": null,
   "id": "6af2fbcb",
   "metadata": {},
   "outputs": [],
   "source": []
  }
 ],
 "metadata": {
  "kernelspec": {
   "display_name": "Python 3",
   "language": "python",
   "name": "python3"
  },
  "language_info": {
   "codemirror_mode": {
    "name": "ipython",
    "version": 3
   },
   "file_extension": ".py",
   "mimetype": "text/x-python",
   "name": "python",
   "nbconvert_exporter": "python",
   "pygments_lexer": "ipython3",
   "version": "3.8.8"
  }
 },
 "nbformat": 4,
 "nbformat_minor": 5
}
